{
  "nbformat": 4,
  "nbformat_minor": 0,
  "metadata": {
    "colab": {
      "name": "Earthquake Prediction (SC).ipynb",
      "provenance": [],
      "collapsed_sections": [],
      "include_colab_link": true
    },
    "kernelspec": {
      "name": "python3",
      "display_name": "Python 3"
    }
  },
  "cells": [
    {
      "cell_type": "markdown",
      "metadata": {
        "id": "view-in-github",
        "colab_type": "text"
      },
      "source": [
        "<a href=\"https://colab.research.google.com/github/avsd47/Earthquake_Prediction/blob/main/Earthquake_Prediction_(SC).ipynb\" target=\"_parent\"><img src=\"https://colab.research.google.com/assets/colab-badge.svg\" alt=\"Open In Colab\"/></a>"
      ]
    },
    {
      "cell_type": "markdown",
      "metadata": {
        "id": "GfR4uOJOaZym"
      },
      "source": [
        "### Southern California Dataset"
      ]
    },
    {
      "cell_type": "code",
      "metadata": {
        "id": "F_-RdjUSacZX"
      },
      "source": [
        "# Imports\n",
        "import numpy as np \n",
        "import pandas as pd \n",
        "import matplotlib.pyplot as plt\n",
        "import seaborn as sns\n",
        "sns.set(style=\"darkgrid\")\n",
        "import warnings\n",
        "warnings.filterwarnings(\"ignore\")\n",
        "%matplotlib inline"
      ],
      "execution_count": null,
      "outputs": []
    },
    {
      "cell_type": "code",
      "metadata": {
        "colab": {
          "base_uri": "https://localhost:8080/"
        },
        "id": "7cSzVwnefxG4",
        "outputId": "85abeaea-e66a-44bc-ac21-6cbfb0b8d2f7"
      },
      "source": [
        "pip install skfeature-chappers"
      ],
      "execution_count": null,
      "outputs": [
        {
          "output_type": "stream",
          "text": [
            "Collecting skfeature-chappers\n",
            "  Downloading https://files.pythonhosted.org/packages/e6/45/19bb801eb3b4a892534ab86468ad0669a68ff63578610f90051190e3622f/skfeature-chappers-1.0.3.tar.gz\n",
            "Building wheels for collected packages: skfeature-chappers\n",
            "  Building wheel for skfeature-chappers (setup.py) ... \u001b[?25l\u001b[?25hdone\n",
            "  Created wheel for skfeature-chappers: filename=skfeature_chappers-1.0.3-py2.py3-none-any.whl size=59510 sha256=4e150fcc72468f382e987dedb0569179720f2eedc551e4f53933b923eb2cf911\n",
            "  Stored in directory: /root/.cache/pip/wheels/ac/61/bf/1b3a8c232a0072409508c2ec4c12f316e95681ae72ba7315d2\n",
            "Successfully built skfeature-chappers\n",
            "Installing collected packages: skfeature-chappers\n",
            "Successfully installed skfeature-chappers-1.0.3\n"
          ],
          "name": "stdout"
        }
      ]
    },
    {
      "cell_type": "code",
      "metadata": {
        "colab": {
          "resources": {
            "http://localhost:8080/nbextensions/google.colab/files.js": {
              "data": "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",
              "ok": true,
              "headers": [
                [
                  "content-type",
                  "application/javascript"
                ]
              ],
              "status": 200,
              "status_text": ""
            }
          },
          "base_uri": "https://localhost:8080/",
          "height": 72
        },
        "id": "bxtHyZWxanSt",
        "outputId": "7ec3f088-27cf-419f-fd24-65d6845e4653"
      },
      "source": [
        "from google.colab import files\n",
        "files.upload()"
      ],
      "execution_count": null,
      "outputs": [
        {
          "output_type": "display_data",
          "data": {
            "text/html": [
              "\n",
              "     <input type=\"file\" id=\"files-a2ba2d97-97e5-48c7-aab2-b12465962970\" name=\"files[]\" multiple disabled\n",
              "        style=\"border:none\" />\n",
              "     <output id=\"result-a2ba2d97-97e5-48c7-aab2-b12465962970\">\n",
              "      Upload widget is only available when the cell has been executed in the\n",
              "      current browser session. Please rerun this cell to enable.\n",
              "      </output>\n",
              "      <script src=\"/nbextensions/google.colab/files.js\"></script> "
            ],
            "text/plain": [
              "<IPython.core.display.HTML object>"
            ]
          },
          "metadata": {
            "tags": []
          }
        },
        {
          "output_type": "stream",
          "text": [
            "Saving Southern California,nM=50,dtp=15.xlsx to Southern California,nM=50,dtp=15.xlsx\n"
          ],
          "name": "stdout"
        }
      ]
    },
    {
      "cell_type": "code",
      "metadata": {
        "id": "dApvJjNUaqzD"
      },
      "source": [
        "sc_df = pd.read_excel(\"Southern California,nM=50,dtp=15.xlsx\")"
      ],
      "execution_count": null,
      "outputs": []
    },
    {
      "cell_type": "code",
      "metadata": {
        "colab": {
          "base_uri": "https://localhost:8080/",
          "height": 241
        },
        "id": "MoGpU0-Ycdvu",
        "outputId": "b8ff7b16-e11d-48b3-9950-df379d3c0245"
      },
      "source": [
        "sc_df.head()"
      ],
      "execution_count": null,
      "outputs": [
        {
          "output_type": "execute_result",
          "data": {
            "text/html": [
              "<div>\n",
              "<style scoped>\n",
              "    .dataframe tbody tr th:only-of-type {\n",
              "        vertical-align: middle;\n",
              "    }\n",
              "\n",
              "    .dataframe tbody tr th {\n",
              "        vertical-align: top;\n",
              "    }\n",
              "\n",
              "    .dataframe thead th {\n",
              "        text-align: right;\n",
              "    }\n",
              "</style>\n",
              "<table border=\"1\" class=\"dataframe\">\n",
              "  <thead>\n",
              "    <tr style=\"text-align: right;\">\n",
              "      <th></th>\n",
              "      <th>T_Days</th>\n",
              "      <th>b_lik</th>\n",
              "      <th>a_lik</th>\n",
              "      <th>b_lsq</th>\n",
              "      <th>a_lsq</th>\n",
              "      <th>std_b_lik</th>\n",
              "      <th>std_b_lsq</th>\n",
              "      <th>T_Rec_lik4.0</th>\n",
              "      <th>T_Rec_lik4.1</th>\n",
              "      <th>T_Rec_lik4.2</th>\n",
              "      <th>T_Rec_lik4.3</th>\n",
              "      <th>T_Rec_lik4.4</th>\n",
              "      <th>T_Rec_lik4.5</th>\n",
              "      <th>T_Rec_lik4.6</th>\n",
              "      <th>T_Rec_lik4.7</th>\n",
              "      <th>T_Rec_lik4.8</th>\n",
              "      <th>T_Rec_lik4.9</th>\n",
              "      <th>T_Rec_lik5.0</th>\n",
              "      <th>T_Rec_lik5.1</th>\n",
              "      <th>T_Rec_lik5.2</th>\n",
              "      <th>T_Rec_lik5.3</th>\n",
              "      <th>T_Rec_lik5.4</th>\n",
              "      <th>T_Rec_lik5.5</th>\n",
              "      <th>T_Rec_lik5.6</th>\n",
              "      <th>T_Rec_lik5.7</th>\n",
              "      <th>T_Rec_lik5.8</th>\n",
              "      <th>T_Rec_lik5.9</th>\n",
              "      <th>T_Rec_lik6.0</th>\n",
              "      <th>T_Rec_lsq4.0</th>\n",
              "      <th>T_Rec_lsq4.1</th>\n",
              "      <th>T_Rec_lsq4.2</th>\n",
              "      <th>T_Rec_lsq4.3</th>\n",
              "      <th>T_Rec_lsq4.4</th>\n",
              "      <th>T_Rec_lsq4.5</th>\n",
              "      <th>T_Rec_lsq4.6</th>\n",
              "      <th>T_Rec_lsq4.7</th>\n",
              "      <th>T_Rec_lsq4.8</th>\n",
              "      <th>T_Rec_lsq4.9</th>\n",
              "      <th>T_Rec_lsq5.0</th>\n",
              "      <th>T_Rec_lsq5.1</th>\n",
              "      <th>T_Rec_lsq5.2</th>\n",
              "      <th>T_lsq_lsq5.3</th>\n",
              "      <th>T_Rec_lsq5.4</th>\n",
              "      <th>T_Rec_lsq5.5</th>\n",
              "      <th>T_Rec_lsq5.6</th>\n",
              "      <th>T_Rec_lsq5.7</th>\n",
              "      <th>T_Rec_lsq5.8</th>\n",
              "      <th>T_Rec_lsq5.9</th>\n",
              "      <th>T_Rec_lsq6.0</th>\n",
              "      <th>Beta Value</th>\n",
              "      <th>Z Value</th>\n",
              "      <th>Mean_Mag</th>\n",
              "      <th>Energy</th>\n",
              "      <th>M_def_Lik</th>\n",
              "      <th>M_def_lsq</th>\n",
              "      <th>NU_mlik</th>\n",
              "      <th>NU_lsq</th>\n",
              "      <th>x6</th>\n",
              "      <th>x7_mlk</th>\n",
              "      <th>x7_lsq</th>\n",
              "      <th>Actual Mag</th>\n",
              "      <th></th>\n",
              "    </tr>\n",
              "  </thead>\n",
              "  <tbody>\n",
              "    <tr>\n",
              "      <th>0</th>\n",
              "      <td>33</td>\n",
              "      <td>1.219928</td>\n",
              "      <td>4.870784</td>\n",
              "      <td>1.124103</td>\n",
              "      <td>4.584905</td>\n",
              "      <td>0.173615</td>\n",
              "      <td>0.147411</td>\n",
              "      <td>33.685545</td>\n",
              "      <td>44.610431</td>\n",
              "      <td>59.078471</td>\n",
              "      <td>78.238782</td>\n",
              "      <td>103.613158</td>\n",
              "      <td>137.216944</td>\n",
              "      <td>181.719099</td>\n",
              "      <td>240.654179</td>\n",
              "      <td>318.703064</td>\n",
              "      <td>422.064739</td>\n",
              "      <td>558.948640</td>\n",
              "      <td>740.226682</td>\n",
              "      <td>980.296760</td>\n",
              "      <td>1298.226289</td>\n",
              "      <td>1719.266620</td>\n",
              "      <td>2276.858616</td>\n",
              "      <td>3015.288667</td>\n",
              "      <td>3993.206114</td>\n",
              "      <td>5288.281432</td>\n",
              "      <td>7003.375159</td>\n",
              "      <td>9274.707530</td>\n",
              "      <td>26.916753</td>\n",
              "      <td>34.868480</td>\n",
              "      <td>45.169300</td>\n",
              "      <td>58.513181</td>\n",
              "      <td>75.799101</td>\n",
              "      <td>98.191615</td>\n",
              "      <td>127.199309</td>\n",
              "      <td>164.776433</td>\n",
              "      <td>213.454564</td>\n",
              "      <td>276.513152</td>\n",
              "      <td>358.200460</td>\n",
              "      <td>464.019773</td>\n",
              "      <td>601.100147</td>\n",
              "      <td>778.676703</td>\n",
              "      <td>1008.712792</td>\n",
              "      <td>1306.705971</td>\n",
              "      <td>1692.732072</td>\n",
              "      <td>2192.797715</td>\n",
              "      <td>2840.592377</td>\n",
              "      <td>3679.758053</td>\n",
              "      <td>4766.829426</td>\n",
              "      <td>-3.540903</td>\n",
              "      <td>5.872981</td>\n",
              "      <td>2.9560</td>\n",
              "      <td>2.586651e+08</td>\n",
              "      <td>0.247320</td>\n",
              "      <td>0.161278</td>\n",
              "      <td>28.089850</td>\n",
              "      <td>24.368150</td>\n",
              "      <td>4.24</td>\n",
              "      <td>0.000219</td>\n",
              "      <td>0.000424</td>\n",
              "      <td>3.80</td>\n",
              "      <td>NaN</td>\n",
              "    </tr>\n",
              "    <tr>\n",
              "      <th>1</th>\n",
              "      <td>35</td>\n",
              "      <td>1.180148</td>\n",
              "      <td>4.767355</td>\n",
              "      <td>1.104731</td>\n",
              "      <td>4.549281</td>\n",
              "      <td>0.170595</td>\n",
              "      <td>0.149488</td>\n",
              "      <td>31.427172</td>\n",
              "      <td>41.240138</td>\n",
              "      <td>54.117150</td>\n",
              "      <td>71.014940</td>\n",
              "      <td>93.188973</td>\n",
              "      <td>122.286730</td>\n",
              "      <td>160.470105</td>\n",
              "      <td>210.576034</td>\n",
              "      <td>276.327270</td>\n",
              "      <td>362.608977</td>\n",
              "      <td>475.831684</td>\n",
              "      <td>624.407573</td>\n",
              "      <td>819.375486</td>\n",
              "      <td>1075.221083</td>\n",
              "      <td>1410.953094</td>\n",
              "      <td>1851.515624</td>\n",
              "      <td>2429.641438</td>\n",
              "      <td>3188.283935</td>\n",
              "      <td>4183.808479</td>\n",
              "      <td>5490.180217</td>\n",
              "      <td>7204.459519</td>\n",
              "      <td>25.924596</td>\n",
              "      <td>33.433752</td>\n",
              "      <td>43.117964</td>\n",
              "      <td>55.607244</td>\n",
              "      <td>71.714092</td>\n",
              "      <td>92.486348</td>\n",
              "      <td>119.275366</td>\n",
              "      <td>153.823923</td>\n",
              "      <td>198.379601</td>\n",
              "      <td>255.840997</td>\n",
              "      <td>329.946303</td>\n",
              "      <td>425.516489</td>\n",
              "      <td>548.768938</td>\n",
              "      <td>707.721922</td>\n",
              "      <td>912.716235</td>\n",
              "      <td>1177.087920</td>\n",
              "      <td>1518.035857</td>\n",
              "      <td>1957.740645</td>\n",
              "      <td>2524.807576</td>\n",
              "      <td>3256.127574</td>\n",
              "      <td>4199.277156</td>\n",
              "      <td>-3.972195</td>\n",
              "      <td>6.401932</td>\n",
              "      <td>2.9680</td>\n",
              "      <td>2.542504e+08</td>\n",
              "      <td>0.200376</td>\n",
              "      <td>0.122002</td>\n",
              "      <td>26.605017</td>\n",
              "      <td>23.774643</td>\n",
              "      <td>4.24</td>\n",
              "      <td>0.000288</td>\n",
              "      <td>0.000485</td>\n",
              "      <td>3.73</td>\n",
              "      <td>NaN</td>\n",
              "    </tr>\n",
              "    <tr>\n",
              "      <th>2</th>\n",
              "      <td>34</td>\n",
              "      <td>1.208388</td>\n",
              "      <td>4.840778</td>\n",
              "      <td>1.093218</td>\n",
              "      <td>4.503974</td>\n",
              "      <td>0.179506</td>\n",
              "      <td>0.146919</td>\n",
              "      <td>33.438860</td>\n",
              "      <td>44.166219</td>\n",
              "      <td>58.334970</td>\n",
              "      <td>77.049129</td>\n",
              "      <td>101.766886</td>\n",
              "      <td>134.414227</td>\n",
              "      <td>177.535003</td>\n",
              "      <td>234.489147</td>\n",
              "      <td>309.714473</td>\n",
              "      <td>409.072472</td>\n",
              "      <td>540.305028</td>\n",
              "      <td>713.637664</td>\n",
              "      <td>942.576303</td>\n",
              "      <td>1244.959636</td>\n",
              "      <td>1644.349100</td>\n",
              "      <td>2171.864761</td>\n",
              "      <td>2868.610164</td>\n",
              "      <td>3788.875082</td>\n",
              "      <td>5004.365725</td>\n",
              "      <td>6609.792028</td>\n",
              "      <td>8730.247358</td>\n",
              "      <td>25.140652</td>\n",
              "      <td>32.336896</td>\n",
              "      <td>41.592988</td>\n",
              "      <td>53.498538</td>\n",
              "      <td>68.811924</td>\n",
              "      <td>88.508605</td>\n",
              "      <td>113.843250</td>\n",
              "      <td>146.429667</td>\n",
              "      <td>188.343600</td>\n",
              "      <td>242.254949</td>\n",
              "      <td>311.597847</td>\n",
              "      <td>400.789412</td>\n",
              "      <td>515.511111</td>\n",
              "      <td>663.070675</td>\n",
              "      <td>852.867592</td>\n",
              "      <td>1096.991855</td>\n",
              "      <td>1410.994088</td>\n",
              "      <td>1814.876114</td>\n",
              "      <td>2334.365068</td>\n",
              "      <td>3002.552202</td>\n",
              "      <td>3862.000783</td>\n",
              "      <td>-3.759304</td>\n",
              "      <td>6.074159</td>\n",
              "      <td>2.9594</td>\n",
              "      <td>2.590495e+08</td>\n",
              "      <td>0.234019</td>\n",
              "      <td>0.120077</td>\n",
              "      <td>27.654928</td>\n",
              "      <td>23.288424</td>\n",
              "      <td>4.24</td>\n",
              "      <td>0.000237</td>\n",
              "      <td>0.000525</td>\n",
              "      <td>3.73</td>\n",
              "      <td>NaN</td>\n",
              "    </tr>\n",
              "    <tr>\n",
              "      <th>3</th>\n",
              "      <td>34</td>\n",
              "      <td>1.226821</td>\n",
              "      <td>4.888703</td>\n",
              "      <td>1.088908</td>\n",
              "      <td>4.487710</td>\n",
              "      <td>0.186599</td>\n",
              "      <td>0.147005</td>\n",
              "      <td>35.486054</td>\n",
              "      <td>47.069520</td>\n",
              "      <td>62.434096</td>\n",
              "      <td>82.814023</td>\n",
              "      <td>109.846428</td>\n",
              "      <td>145.702833</td>\n",
              "      <td>193.263595</td>\n",
              "      <td>256.349285</td>\n",
              "      <td>340.027598</td>\n",
              "      <td>451.020440</td>\n",
              "      <td>598.243903</td>\n",
              "      <td>793.524497</td>\n",
              "      <td>1052.549176</td>\n",
              "      <td>1396.125478</td>\n",
              "      <td>1851.853001</td>\n",
              "      <td>2456.340488</td>\n",
              "      <td>3258.146617</td>\n",
              "      <td>4321.680741</td>\n",
              "      <td>5732.376908</td>\n",
              "      <td>7603.556805</td>\n",
              "      <td>10085.532934</td>\n",
              "      <td>25.084245</td>\n",
              "      <td>32.232341</td>\n",
              "      <td>41.417384</td>\n",
              "      <td>53.219829</td>\n",
              "      <td>68.385542</td>\n",
              "      <td>87.872930</td>\n",
              "      <td>112.913513</td>\n",
              "      <td>145.089750</td>\n",
              "      <td>186.435043</td>\n",
              "      <td>239.562237</td>\n",
              "      <td>307.828747</td>\n",
              "      <td>395.548724</td>\n",
              "      <td>508.265699</td>\n",
              "      <td>653.102904</td>\n",
              "      <td>839.213437</td>\n",
              "      <td>1078.358690</td>\n",
              "      <td>1385.651627</td>\n",
              "      <td>1780.511855</td>\n",
              "      <td>2287.892862</td>\n",
              "      <td>2939.858970</td>\n",
              "      <td>3777.611664</td>\n",
              "      <td>-3.759304</td>\n",
              "      <td>6.074159</td>\n",
              "      <td>2.9540</td>\n",
              "      <td>2.578125e+08</td>\n",
              "      <td>0.255144</td>\n",
              "      <td>0.118706</td>\n",
              "      <td>28.351208</td>\n",
              "      <td>23.111640</td>\n",
              "      <td>4.24</td>\n",
              "      <td>0.000209</td>\n",
              "      <td>0.000541</td>\n",
              "      <td>3.73</td>\n",
              "      <td>NaN</td>\n",
              "    </tr>\n",
              "    <tr>\n",
              "      <th>4</th>\n",
              "      <td>37</td>\n",
              "      <td>1.235898</td>\n",
              "      <td>4.912304</td>\n",
              "      <td>1.086130</td>\n",
              "      <td>4.476040</td>\n",
              "      <td>0.188913</td>\n",
              "      <td>0.145901</td>\n",
              "      <td>39.763868</td>\n",
              "      <td>52.854065</td>\n",
              "      <td>70.253534</td>\n",
              "      <td>93.380879</td>\n",
              "      <td>124.121705</td>\n",
              "      <td>164.982360</td>\n",
              "      <td>219.294274</td>\n",
              "      <td>291.485577</td>\n",
              "      <td>387.442134</td>\n",
              "      <td>514.987428</td>\n",
              "      <td>684.520416</td>\n",
              "      <td>909.863376</td>\n",
              "      <td>1209.388856</td>\n",
              "      <td>1607.517617</td>\n",
              "      <td>2136.709691</td>\n",
              "      <td>2840.110898</td>\n",
              "      <td>3775.070590</td>\n",
              "      <td>5017.817427</td>\n",
              "      <td>6669.674415</td>\n",
              "      <td>8865.319923</td>\n",
              "      <td>11783.768209</td>\n",
              "      <td>27.332513</td>\n",
              "      <td>35.098820</td>\n",
              "      <td>45.071859</td>\n",
              "      <td>57.878655</td>\n",
              "      <td>74.324395</td>\n",
              "      <td>95.443057</td>\n",
              "      <td>122.562412</td>\n",
              "      <td>157.387506</td>\n",
              "      <td>202.107864</td>\n",
              "      <td>259.535140</td>\n",
              "      <td>333.279902</td>\n",
              "      <td>427.978627</td>\n",
              "      <td>549.585211</td>\n",
              "      <td>705.745300</td>\n",
              "      <td>906.276985</td>\n",
              "      <td>1163.788088</td>\n",
              "      <td>1494.468839</td>\n",
              "      <td>1919.109789</td>\n",
              "      <td>2464.408950</td>\n",
              "      <td>3164.650353</td>\n",
              "      <td>4063.859555</td>\n",
              "      <td>-4.382740</td>\n",
              "      <td>6.770086</td>\n",
              "      <td>2.9514</td>\n",
              "      <td>2.359142e+08</td>\n",
              "      <td>0.265315</td>\n",
              "      <td>0.118907</td>\n",
              "      <td>28.697267</td>\n",
              "      <td>22.991352</td>\n",
              "      <td>3.80</td>\n",
              "      <td>0.000196</td>\n",
              "      <td>0.000552</td>\n",
              "      <td>3.88</td>\n",
              "      <td>NaN</td>\n",
              "    </tr>\n",
              "  </tbody>\n",
              "</table>\n",
              "</div>"
            ],
            "text/plain": [
              "   T_Days     b_lik     a_lik     b_lsq  ...   x7_mlk     x7_lsq  Actual Mag    \n",
              "0      33  1.219928  4.870784  1.124103  ...  0.000219  0.000424        3.80 NaN\n",
              "1      35  1.180148  4.767355  1.104731  ...  0.000288  0.000485        3.73 NaN\n",
              "2      34  1.208388  4.840778  1.093218  ...  0.000237  0.000525        3.73 NaN\n",
              "3      34  1.226821  4.888703  1.088908  ...  0.000209  0.000541        3.73 NaN\n",
              "4      37  1.235898  4.912304  1.086130  ...  0.000196  0.000552        3.88 NaN\n",
              "\n",
              "[5 rows x 62 columns]"
            ]
          },
          "metadata": {
            "tags": []
          },
          "execution_count": 19
        }
      ]
    },
    {
      "cell_type": "code",
      "metadata": {
        "id": "qfS6lXvaQe9P"
      },
      "source": [
        "sc_df = sc_df.iloc[:,0:61]"
      ],
      "execution_count": null,
      "outputs": []
    },
    {
      "cell_type": "code",
      "metadata": {
        "id": "wW-_yObXOplK"
      },
      "source": [
        "sc_df = sc_df[sc_df[\"Actual Mag\"]>2.6] #Applying cutoff magnitude"
      ],
      "execution_count": null,
      "outputs": []
    },
    {
      "cell_type": "code",
      "metadata": {
        "id": "sg_7bcycOx_6"
      },
      "source": [
        "def label(row):\n",
        "    if row[\"Actual Mag\"] >5:  #Threshold magnitude\n",
        "        return 1\n",
        "    else:\n",
        "        return 0"
      ],
      "execution_count": null,
      "outputs": []
    },
    {
      "cell_type": "code",
      "metadata": {
        "id": "VQA0uFBtO0LN"
      },
      "source": [
        "sc_df['mag'] = sc_df.apply (lambda row: label(row), axis=1)"
      ],
      "execution_count": null,
      "outputs": []
    },
    {
      "cell_type": "code",
      "metadata": {
        "colab": {
          "base_uri": "https://localhost:8080/"
        },
        "id": "09ue9Lq8O5eZ",
        "outputId": "b0865cc8-40e1-4671-f7f3-513de01366cb"
      },
      "source": [
        "pd.options.display.max_rows = 400\n",
        "sc_df.isnull().sum()"
      ],
      "execution_count": null,
      "outputs": [
        {
          "output_type": "execute_result",
          "data": {
            "text/plain": [
              "T_Days             0\n",
              "b_lik              0\n",
              "a_lik              0\n",
              "b_lsq              0\n",
              "a_lsq              0\n",
              "std_b_lik          0\n",
              "std_b_lsq          0\n",
              "T_Rec_lik4.0       0\n",
              "T_Rec_lik4.1       0\n",
              "T_Rec_lik4.2       0\n",
              "T_Rec_lik4.3       0\n",
              "T_Rec_lik4.4       0\n",
              "T_Rec_lik4.5       0\n",
              "T_Rec_lik4.6       0\n",
              "T_Rec_lik4.7       0\n",
              "T_Rec_lik4.8       0\n",
              "T_Rec_lik4.9       0\n",
              "T_Rec_lik5.0       0\n",
              "T_Rec_lik5.1       0\n",
              "T_Rec_lik5.2       0\n",
              "T_Rec_lik5.3       0\n",
              "T_Rec_lik5.4       0\n",
              "T_Rec_lik5.5       0\n",
              "T_Rec_lik5.6       0\n",
              "T_Rec_lik5.7       0\n",
              "T_Rec_lik5.8       0\n",
              "T_Rec_lik5.9       0\n",
              "T_Rec_lik6.0       0\n",
              "T_Rec_lsq4.0       0\n",
              "T_Rec_lsq4.1       0\n",
              "T_Rec_lsq4.2       0\n",
              "T_Rec_lsq4.3       0\n",
              "T_Rec_lsq4.4       0\n",
              "T_Rec_lsq4.5       0\n",
              "T_Rec_lsq4.6       0\n",
              "T_Rec_lsq4.7       0\n",
              "T_Rec_lsq4.8       0\n",
              "T_Rec_lsq4.9       0\n",
              "T_Rec_lsq5.0       0\n",
              "T_Rec_lsq5.1       0\n",
              "T_Rec_lsq5.2       0\n",
              "T_lsq_lsq5.3       0\n",
              "T_Rec_lsq5.4       0\n",
              "T_Rec_lsq5.5       0\n",
              "T_Rec_lsq5.6       0\n",
              "T_Rec_lsq5.7       0\n",
              "T_Rec_lsq5.8       0\n",
              "T_Rec_lsq5.9       0\n",
              "T_Rec_lsq6.0       0\n",
              "Beta Value         0\n",
              "Z Value         4418\n",
              "Mean_Mag           0\n",
              "Energy             0\n",
              "M_def_Lik          0\n",
              "M_def_lsq          0\n",
              "NU_mlik            0\n",
              "NU_lsq             0\n",
              "x6                 0\n",
              "x7_mlk             0\n",
              "x7_lsq             0\n",
              "Actual Mag         0\n",
              "mag                0\n",
              "dtype: int64"
            ]
          },
          "metadata": {
            "tags": []
          },
          "execution_count": 24
        }
      ]
    },
    {
      "cell_type": "code",
      "metadata": {
        "id": "YfYEKNpSO87q"
      },
      "source": [
        "sc_df = sc_df.dropna()"
      ],
      "execution_count": null,
      "outputs": []
    },
    {
      "cell_type": "code",
      "metadata": {
        "colab": {
          "base_uri": "https://localhost:8080/"
        },
        "id": "0EHJ-kbdPLBo",
        "outputId": "9581ced6-2b93-4b08-f57d-1bb84848e894"
      },
      "source": [
        "pd.options.display.max_rows = 400\n",
        "sc_df.isnull().sum()"
      ],
      "execution_count": null,
      "outputs": [
        {
          "output_type": "execute_result",
          "data": {
            "text/plain": [
              "T_Days          0\n",
              "b_lik           0\n",
              "a_lik           0\n",
              "b_lsq           0\n",
              "a_lsq           0\n",
              "std_b_lik       0\n",
              "std_b_lsq       0\n",
              "T_Rec_lik4.0    0\n",
              "T_Rec_lik4.1    0\n",
              "T_Rec_lik4.2    0\n",
              "T_Rec_lik4.3    0\n",
              "T_Rec_lik4.4    0\n",
              "T_Rec_lik4.5    0\n",
              "T_Rec_lik4.6    0\n",
              "T_Rec_lik4.7    0\n",
              "T_Rec_lik4.8    0\n",
              "T_Rec_lik4.9    0\n",
              "T_Rec_lik5.0    0\n",
              "T_Rec_lik5.1    0\n",
              "T_Rec_lik5.2    0\n",
              "T_Rec_lik5.3    0\n",
              "T_Rec_lik5.4    0\n",
              "T_Rec_lik5.5    0\n",
              "T_Rec_lik5.6    0\n",
              "T_Rec_lik5.7    0\n",
              "T_Rec_lik5.8    0\n",
              "T_Rec_lik5.9    0\n",
              "T_Rec_lik6.0    0\n",
              "T_Rec_lsq4.0    0\n",
              "T_Rec_lsq4.1    0\n",
              "T_Rec_lsq4.2    0\n",
              "T_Rec_lsq4.3    0\n",
              "T_Rec_lsq4.4    0\n",
              "T_Rec_lsq4.5    0\n",
              "T_Rec_lsq4.6    0\n",
              "T_Rec_lsq4.7    0\n",
              "T_Rec_lsq4.8    0\n",
              "T_Rec_lsq4.9    0\n",
              "T_Rec_lsq5.0    0\n",
              "T_Rec_lsq5.1    0\n",
              "T_Rec_lsq5.2    0\n",
              "T_lsq_lsq5.3    0\n",
              "T_Rec_lsq5.4    0\n",
              "T_Rec_lsq5.5    0\n",
              "T_Rec_lsq5.6    0\n",
              "T_Rec_lsq5.7    0\n",
              "T_Rec_lsq5.8    0\n",
              "T_Rec_lsq5.9    0\n",
              "T_Rec_lsq6.0    0\n",
              "Beta Value      0\n",
              "Z Value         0\n",
              "Mean_Mag        0\n",
              "Energy          0\n",
              "M_def_Lik       0\n",
              "M_def_lsq       0\n",
              "NU_mlik         0\n",
              "NU_lsq          0\n",
              "x6              0\n",
              "x7_mlk          0\n",
              "x7_lsq          0\n",
              "Actual Mag      0\n",
              "mag             0\n",
              "dtype: int64"
            ]
          },
          "metadata": {
            "tags": []
          },
          "execution_count": 26
        }
      ]
    },
    {
      "cell_type": "code",
      "metadata": {
        "id": "GpOxxo3qPM3T"
      },
      "source": [
        "features = sc_df.iloc[:,0:60].to_numpy()\n",
        "target = sc_df[\"mag\"].to_numpy()"
      ],
      "execution_count": null,
      "outputs": []
    },
    {
      "cell_type": "code",
      "metadata": {
        "colab": {
          "base_uri": "https://localhost:8080/"
        },
        "id": "9yh1PfXcPUSj",
        "outputId": "d6a408c7-1005-44c9-9082-39219606bdd5"
      },
      "source": [
        "from sklearn.preprocessing import StandardScaler\n",
        "scaler=StandardScaler()\n",
        "scaler.fit(features)"
      ],
      "execution_count": null,
      "outputs": [
        {
          "output_type": "execute_result",
          "data": {
            "text/plain": [
              "StandardScaler(copy=True, with_mean=True, with_std=True)"
            ]
          },
          "metadata": {
            "tags": []
          },
          "execution_count": 28
        }
      ]
    },
    {
      "cell_type": "code",
      "metadata": {
        "colab": {
          "base_uri": "https://localhost:8080/",
          "height": 317
        },
        "id": "6iOBxt73PWXZ",
        "outputId": "6a1bf129-4704-4d2e-9419-1fe3994a1260"
      },
      "source": [
        "sc_df.describe()"
      ],
      "execution_count": null,
      "outputs": [
        {
          "output_type": "execute_result",
          "data": {
            "text/html": [
              "<div>\n",
              "<style scoped>\n",
              "    .dataframe tbody tr th:only-of-type {\n",
              "        vertical-align: middle;\n",
              "    }\n",
              "\n",
              "    .dataframe tbody tr th {\n",
              "        vertical-align: top;\n",
              "    }\n",
              "\n",
              "    .dataframe thead th {\n",
              "        text-align: right;\n",
              "    }\n",
              "</style>\n",
              "<table border=\"1\" class=\"dataframe\">\n",
              "  <thead>\n",
              "    <tr style=\"text-align: right;\">\n",
              "      <th></th>\n",
              "      <th>T_Days</th>\n",
              "      <th>b_lik</th>\n",
              "      <th>a_lik</th>\n",
              "      <th>b_lsq</th>\n",
              "      <th>a_lsq</th>\n",
              "      <th>std_b_lik</th>\n",
              "      <th>std_b_lsq</th>\n",
              "      <th>T_Rec_lik4.0</th>\n",
              "      <th>T_Rec_lik4.1</th>\n",
              "      <th>T_Rec_lik4.2</th>\n",
              "      <th>T_Rec_lik4.3</th>\n",
              "      <th>T_Rec_lik4.4</th>\n",
              "      <th>T_Rec_lik4.5</th>\n",
              "      <th>T_Rec_lik4.6</th>\n",
              "      <th>T_Rec_lik4.7</th>\n",
              "      <th>T_Rec_lik4.8</th>\n",
              "      <th>T_Rec_lik4.9</th>\n",
              "      <th>T_Rec_lik5.0</th>\n",
              "      <th>T_Rec_lik5.1</th>\n",
              "      <th>T_Rec_lik5.2</th>\n",
              "      <th>T_Rec_lik5.3</th>\n",
              "      <th>T_Rec_lik5.4</th>\n",
              "      <th>T_Rec_lik5.5</th>\n",
              "      <th>T_Rec_lik5.6</th>\n",
              "      <th>T_Rec_lik5.7</th>\n",
              "      <th>T_Rec_lik5.8</th>\n",
              "      <th>T_Rec_lik5.9</th>\n",
              "      <th>T_Rec_lik6.0</th>\n",
              "      <th>T_Rec_lsq4.0</th>\n",
              "      <th>T_Rec_lsq4.1</th>\n",
              "      <th>T_Rec_lsq4.2</th>\n",
              "      <th>T_Rec_lsq4.3</th>\n",
              "      <th>T_Rec_lsq4.4</th>\n",
              "      <th>T_Rec_lsq4.5</th>\n",
              "      <th>T_Rec_lsq4.6</th>\n",
              "      <th>T_Rec_lsq4.7</th>\n",
              "      <th>T_Rec_lsq4.8</th>\n",
              "      <th>T_Rec_lsq4.9</th>\n",
              "      <th>T_Rec_lsq5.0</th>\n",
              "      <th>T_Rec_lsq5.1</th>\n",
              "      <th>T_Rec_lsq5.2</th>\n",
              "      <th>T_lsq_lsq5.3</th>\n",
              "      <th>T_Rec_lsq5.4</th>\n",
              "      <th>T_Rec_lsq5.5</th>\n",
              "      <th>T_Rec_lsq5.6</th>\n",
              "      <th>T_Rec_lsq5.7</th>\n",
              "      <th>T_Rec_lsq5.8</th>\n",
              "      <th>T_Rec_lsq5.9</th>\n",
              "      <th>T_Rec_lsq6.0</th>\n",
              "      <th>Beta Value</th>\n",
              "      <th>Z Value</th>\n",
              "      <th>Mean_Mag</th>\n",
              "      <th>Energy</th>\n",
              "      <th>M_def_Lik</th>\n",
              "      <th>M_def_lsq</th>\n",
              "      <th>NU_mlik</th>\n",
              "      <th>NU_lsq</th>\n",
              "      <th>x6</th>\n",
              "      <th>x7_mlk</th>\n",
              "      <th>x7_lsq</th>\n",
              "      <th>Actual Mag</th>\n",
              "      <th>mag</th>\n",
              "    </tr>\n",
              "  </thead>\n",
              "  <tbody>\n",
              "    <tr>\n",
              "      <th>count</th>\n",
              "      <td>29124.000000</td>\n",
              "      <td>29124.000000</td>\n",
              "      <td>29124.000000</td>\n",
              "      <td>29124.000000</td>\n",
              "      <td>29124.000000</td>\n",
              "      <td>29124.000000</td>\n",
              "      <td>29124.000000</td>\n",
              "      <td>29124.000000</td>\n",
              "      <td>29124.000000</td>\n",
              "      <td>29124.000000</td>\n",
              "      <td>29124.000000</td>\n",
              "      <td>29124.000000</td>\n",
              "      <td>29124.000000</td>\n",
              "      <td>29124.000000</td>\n",
              "      <td>29124.000000</td>\n",
              "      <td>29124.000000</td>\n",
              "      <td>2.912400e+04</td>\n",
              "      <td>2.912400e+04</td>\n",
              "      <td>2.912400e+04</td>\n",
              "      <td>2.912400e+04</td>\n",
              "      <td>2.912400e+04</td>\n",
              "      <td>2.912400e+04</td>\n",
              "      <td>2.912400e+04</td>\n",
              "      <td>2.912400e+04</td>\n",
              "      <td>2.912400e+04</td>\n",
              "      <td>2.912400e+04</td>\n",
              "      <td>2.912400e+04</td>\n",
              "      <td>2.912400e+04</td>\n",
              "      <td>29124.000000</td>\n",
              "      <td>29124.000000</td>\n",
              "      <td>29124.000000</td>\n",
              "      <td>29124.000000</td>\n",
              "      <td>29124.000000</td>\n",
              "      <td>29124.000000</td>\n",
              "      <td>29124.000000</td>\n",
              "      <td>29124.000000</td>\n",
              "      <td>2.912400e+04</td>\n",
              "      <td>2.912400e+04</td>\n",
              "      <td>2.912400e+04</td>\n",
              "      <td>2.912400e+04</td>\n",
              "      <td>2.912400e+04</td>\n",
              "      <td>2.912400e+04</td>\n",
              "      <td>2.912400e+04</td>\n",
              "      <td>2.912400e+04</td>\n",
              "      <td>2.912400e+04</td>\n",
              "      <td>2.912400e+04</td>\n",
              "      <td>2.912400e+04</td>\n",
              "      <td>2.912400e+04</td>\n",
              "      <td>2.912400e+04</td>\n",
              "      <td>29124.000000</td>\n",
              "      <td>29124.000000</td>\n",
              "      <td>29124.000000</td>\n",
              "      <td>2.912400e+04</td>\n",
              "      <td>29124.000000</td>\n",
              "      <td>29124.000000</td>\n",
              "      <td>29124.000000</td>\n",
              "      <td>29124.000000</td>\n",
              "      <td>29124.000000</td>\n",
              "      <td>2.912400e+04</td>\n",
              "      <td>2.912400e+04</td>\n",
              "      <td>29124.000000</td>\n",
              "      <td>29124.000000</td>\n",
              "    </tr>\n",
              "    <tr>\n",
              "      <th>mean</th>\n",
              "      <td>22.685586</td>\n",
              "      <td>1.182601</td>\n",
              "      <td>4.778312</td>\n",
              "      <td>1.070275</td>\n",
              "      <td>4.422168</td>\n",
              "      <td>0.169179</td>\n",
              "      <td>0.137315</td>\n",
              "      <td>31.250638</td>\n",
              "      <td>44.513047</td>\n",
              "      <td>64.008407</td>\n",
              "      <td>92.977919</td>\n",
              "      <td>136.519183</td>\n",
              "      <td>202.748986</td>\n",
              "      <td>304.755879</td>\n",
              "      <td>463.918877</td>\n",
              "      <td>715.616222</td>\n",
              "      <td>1.119162e+03</td>\n",
              "      <td>1.775304e+03</td>\n",
              "      <td>2.857375e+03</td>\n",
              "      <td>4.667359e+03</td>\n",
              "      <td>7.737822e+03</td>\n",
              "      <td>1.301899e+04</td>\n",
              "      <td>2.222523e+04</td>\n",
              "      <td>3.848200e+04</td>\n",
              "      <td>6.754333e+04</td>\n",
              "      <td>1.200986e+05</td>\n",
              "      <td>2.161718e+05</td>\n",
              "      <td>3.935596e+05</td>\n",
              "      <td>29.047126</td>\n",
              "      <td>41.832265</td>\n",
              "      <td>61.101581</td>\n",
              "      <td>90.562340</td>\n",
              "      <td>136.262883</td>\n",
              "      <td>208.198840</td>\n",
              "      <td>323.101593</td>\n",
              "      <td>509.332790</td>\n",
              "      <td>8.155682e+02</td>\n",
              "      <td>1.326364e+03</td>\n",
              "      <td>2.190341e+03</td>\n",
              "      <td>3.671684e+03</td>\n",
              "      <td>6.245105e+03</td>\n",
              "      <td>1.077237e+04</td>\n",
              "      <td>1.883297e+04</td>\n",
              "      <td>3.334806e+04</td>\n",
              "      <td>5.976503e+04</td>\n",
              "      <td>1.083204e+05</td>\n",
              "      <td>1.983852e+05</td>\n",
              "      <td>3.668505e+05</td>\n",
              "      <td>6.843795e+05</td>\n",
              "      <td>3.695434</td>\n",
              "      <td>-5.902582</td>\n",
              "      <td>2.993179</td>\n",
              "      <td>2.298395e+09</td>\n",
              "      <td>0.247192</td>\n",
              "      <td>0.106248</td>\n",
              "      <td>27.344614</td>\n",
              "      <td>21.522420</td>\n",
              "      <td>4.294080</td>\n",
              "      <td>1.254642e-03</td>\n",
              "      <td>3.798533e-03</td>\n",
              "      <td>4.291723</td>\n",
              "      <td>0.151490</td>\n",
              "    </tr>\n",
              "    <tr>\n",
              "      <th>std</th>\n",
              "      <td>17.180184</td>\n",
              "      <td>0.284475</td>\n",
              "      <td>0.739559</td>\n",
              "      <td>0.341084</td>\n",
              "      <td>0.974580</td>\n",
              "      <td>0.050529</td>\n",
              "      <td>0.053087</td>\n",
              "      <td>59.574644</td>\n",
              "      <td>98.730340</td>\n",
              "      <td>166.735009</td>\n",
              "      <td>287.084975</td>\n",
              "      <td>504.072720</td>\n",
              "      <td>902.293965</td>\n",
              "      <td>1645.076678</td>\n",
              "      <td>3050.515653</td>\n",
              "      <td>5742.449840</td>\n",
              "      <td>1.095114e+04</td>\n",
              "      <td>2.111358e+04</td>\n",
              "      <td>4.107441e+04</td>\n",
              "      <td>8.049256e+04</td>\n",
              "      <td>1.586705e+05</td>\n",
              "      <td>3.142562e+05</td>\n",
              "      <td>6.247525e+05</td>\n",
              "      <td>1.245779e+06</td>\n",
              "      <td>2.490137e+06</td>\n",
              "      <td>4.987111e+06</td>\n",
              "      <td>1.000359e+07</td>\n",
              "      <td>2.009165e+07</td>\n",
              "      <td>78.435399</td>\n",
              "      <td>139.344886</td>\n",
              "      <td>252.977083</td>\n",
              "      <td>468.312210</td>\n",
              "      <td>881.718064</td>\n",
              "      <td>1683.755767</td>\n",
              "      <td>3252.741945</td>\n",
              "      <td>6342.112197</td>\n",
              "      <td>1.245619e+04</td>\n",
              "      <td>2.460476e+04</td>\n",
              "      <td>4.881988e+04</td>\n",
              "      <td>9.720775e+04</td>\n",
              "      <td>1.940935e+05</td>\n",
              "      <td>3.884020e+05</td>\n",
              "      <td>7.786164e+05</td>\n",
              "      <td>1.563118e+06</td>\n",
              "      <td>3.141756e+06</td>\n",
              "      <td>6.320866e+06</td>\n",
              "      <td>1.272722e+07</td>\n",
              "      <td>2.564405e+07</td>\n",
              "      <td>5.169990e+07</td>\n",
              "      <td>10.936390</td>\n",
              "      <td>42.339733</td>\n",
              "      <td>0.101993</td>\n",
              "      <td>7.162784e+09</td>\n",
              "      <td>0.425650</td>\n",
              "      <td>0.249960</td>\n",
              "      <td>9.481180</td>\n",
              "      <td>5.031766</td>\n",
              "      <td>1.038057</td>\n",
              "      <td>4.459168e-03</td>\n",
              "      <td>8.856625e-03</td>\n",
              "      <td>0.683513</td>\n",
              "      <td>0.358532</td>\n",
              "    </tr>\n",
              "    <tr>\n",
              "      <th>min</th>\n",
              "      <td>1.000000</td>\n",
              "      <td>0.325363</td>\n",
              "      <td>2.548167</td>\n",
              "      <td>0.292237</td>\n",
              "      <td>1.739567</td>\n",
              "      <td>0.029117</td>\n",
              "      <td>0.019321</td>\n",
              "      <td>0.056661</td>\n",
              "      <td>0.061069</td>\n",
              "      <td>0.065820</td>\n",
              "      <td>0.070940</td>\n",
              "      <td>0.076459</td>\n",
              "      <td>0.082407</td>\n",
              "      <td>0.088818</td>\n",
              "      <td>0.095728</td>\n",
              "      <td>0.103175</td>\n",
              "      <td>1.112016e-01</td>\n",
              "      <td>1.198526e-01</td>\n",
              "      <td>1.291766e-01</td>\n",
              "      <td>1.392259e-01</td>\n",
              "      <td>1.500570e-01</td>\n",
              "      <td>1.617308e-01</td>\n",
              "      <td>1.743127e-01</td>\n",
              "      <td>1.878734e-01</td>\n",
              "      <td>2.024891e-01</td>\n",
              "      <td>2.182418e-01</td>\n",
              "      <td>2.352199e-01</td>\n",
              "      <td>2.535190e-01</td>\n",
              "      <td>0.059392</td>\n",
              "      <td>0.066003</td>\n",
              "      <td>0.073350</td>\n",
              "      <td>0.081514</td>\n",
              "      <td>0.090587</td>\n",
              "      <td>0.100671</td>\n",
              "      <td>0.111876</td>\n",
              "      <td>0.124329</td>\n",
              "      <td>1.381685e-01</td>\n",
              "      <td>1.535481e-01</td>\n",
              "      <td>1.706395e-01</td>\n",
              "      <td>1.896334e-01</td>\n",
              "      <td>2.107415e-01</td>\n",
              "      <td>2.341991e-01</td>\n",
              "      <td>2.602678e-01</td>\n",
              "      <td>2.892382e-01</td>\n",
              "      <td>3.214333e-01</td>\n",
              "      <td>3.572121e-01</td>\n",
              "      <td>3.969734e-01</td>\n",
              "      <td>4.411454e-01</td>\n",
              "      <td>4.901927e-01</td>\n",
              "      <td>-11.653340</td>\n",
              "      <td>-809.601435</td>\n",
              "      <td>2.741600</td>\n",
              "      <td>7.880711e+07</td>\n",
              "      <td>-1.246254</td>\n",
              "      <td>-1.393847</td>\n",
              "      <td>9.688521</td>\n",
              "      <td>7.285820</td>\n",
              "      <td>0.000000</td>\n",
              "      <td>6.292826e-10</td>\n",
              "      <td>6.558059e-10</td>\n",
              "      <td>2.840000</td>\n",
              "      <td>0.000000</td>\n",
              "    </tr>\n",
              "    <tr>\n",
              "      <th>25%</th>\n",
              "      <td>7.000000</td>\n",
              "      <td>0.987931</td>\n",
              "      <td>4.272786</td>\n",
              "      <td>0.844696</td>\n",
              "      <td>3.774387</td>\n",
              "      <td>0.135802</td>\n",
              "      <td>0.100006</td>\n",
              "      <td>4.924677</td>\n",
              "      <td>6.268605</td>\n",
              "      <td>7.949204</td>\n",
              "      <td>10.152453</td>\n",
              "      <td>12.988938</td>\n",
              "      <td>16.463984</td>\n",
              "      <td>20.872842</td>\n",
              "      <td>26.397640</td>\n",
              "      <td>33.684698</td>\n",
              "      <td>4.292813e+01</td>\n",
              "      <td>5.443239e+01</td>\n",
              "      <td>6.918518e+01</td>\n",
              "      <td>8.767991e+01</td>\n",
              "      <td>1.111780e+02</td>\n",
              "      <td>1.404902e+02</td>\n",
              "      <td>1.776896e+02</td>\n",
              "      <td>2.260335e+02</td>\n",
              "      <td>2.856635e+02</td>\n",
              "      <td>3.590979e+02</td>\n",
              "      <td>4.551273e+02</td>\n",
              "      <td>5.779240e+02</td>\n",
              "      <td>3.872879</td>\n",
              "      <td>4.775011</td>\n",
              "      <td>5.870157</td>\n",
              "      <td>7.190029</td>\n",
              "      <td>8.735019</td>\n",
              "      <td>10.693295</td>\n",
              "      <td>13.188553</td>\n",
              "      <td>15.970119</td>\n",
              "      <td>1.952679e+01</td>\n",
              "      <td>2.372699e+01</td>\n",
              "      <td>2.883844e+01</td>\n",
              "      <td>3.509318e+01</td>\n",
              "      <td>4.262363e+01</td>\n",
              "      <td>5.180223e+01</td>\n",
              "      <td>6.316378e+01</td>\n",
              "      <td>7.697989e+01</td>\n",
              "      <td>9.446652e+01</td>\n",
              "      <td>1.162215e+02</td>\n",
              "      <td>1.422136e+02</td>\n",
              "      <td>1.749725e+02</td>\n",
              "      <td>2.151337e+02</td>\n",
              "      <td>-3.759304</td>\n",
              "      <td>-7.190467</td>\n",
              "      <td>2.927200</td>\n",
              "      <td>2.769785e+08</td>\n",
              "      <td>-0.053477</td>\n",
              "      <td>-0.061220</td>\n",
              "      <td>20.632579</td>\n",
              "      <td>18.100290</td>\n",
              "      <td>3.550000</td>\n",
              "      <td>9.577133e-05</td>\n",
              "      <td>1.804959e-04</td>\n",
              "      <td>3.790000</td>\n",
              "      <td>0.000000</td>\n",
              "    </tr>\n",
              "    <tr>\n",
              "      <th>50%</th>\n",
              "      <td>20.000000</td>\n",
              "      <td>1.148320</td>\n",
              "      <td>4.687762</td>\n",
              "      <td>1.034377</td>\n",
              "      <td>4.346497</td>\n",
              "      <td>0.161048</td>\n",
              "      <td>0.132389</td>\n",
              "      <td>16.557785</td>\n",
              "      <td>21.229288</td>\n",
              "      <td>27.294964</td>\n",
              "      <td>35.028430</td>\n",
              "      <td>44.991217</td>\n",
              "      <td>57.916702</td>\n",
              "      <td>74.733448</td>\n",
              "      <td>96.229695</td>\n",
              "      <td>123.780554</td>\n",
              "      <td>1.592108e+02</td>\n",
              "      <td>2.050729e+02</td>\n",
              "      <td>2.640895e+02</td>\n",
              "      <td>3.418746e+02</td>\n",
              "      <td>4.410562e+02</td>\n",
              "      <td>5.684953e+02</td>\n",
              "      <td>7.373154e+02</td>\n",
              "      <td>9.548874e+02</td>\n",
              "      <td>1.236293e+03</td>\n",
              "      <td>1.595909e+03</td>\n",
              "      <td>2.067600e+03</td>\n",
              "      <td>2.678976e+03</td>\n",
              "      <td>13.143156</td>\n",
              "      <td>16.433042</td>\n",
              "      <td>20.551837</td>\n",
              "      <td>25.507639</td>\n",
              "      <td>31.757069</td>\n",
              "      <td>39.511983</td>\n",
              "      <td>49.267516</td>\n",
              "      <td>61.585124</td>\n",
              "      <td>7.711127e+01</td>\n",
              "      <td>9.649045e+01</td>\n",
              "      <td>1.205673e+02</td>\n",
              "      <td>1.516058e+02</td>\n",
              "      <td>1.891806e+02</td>\n",
              "      <td>2.353609e+02</td>\n",
              "      <td>2.932965e+02</td>\n",
              "      <td>3.679066e+02</td>\n",
              "      <td>4.615190e+02</td>\n",
              "      <td>5.822399e+02</td>\n",
              "      <td>7.369457e+02</td>\n",
              "      <td>9.312490e+02</td>\n",
              "      <td>1.174270e+03</td>\n",
              "      <td>0.040329</td>\n",
              "      <td>-0.039973</td>\n",
              "      <td>2.982400</td>\n",
              "      <td>4.729916e+08</td>\n",
              "      <td>0.171413</td>\n",
              "      <td>0.088183</td>\n",
              "      <td>25.484932</td>\n",
              "      <td>21.188630</td>\n",
              "      <td>4.010000</td>\n",
              "      <td>3.589559e-04</td>\n",
              "      <td>7.886241e-04</td>\n",
              "      <td>4.180000</td>\n",
              "      <td>0.000000</td>\n",
              "    </tr>\n",
              "    <tr>\n",
              "      <th>75%</th>\n",
              "      <td>34.000000</td>\n",
              "      <td>1.339588</td>\n",
              "      <td>5.186202</td>\n",
              "      <td>1.247844</td>\n",
              "      <td>4.941300</td>\n",
              "      <td>0.194605</td>\n",
              "      <td>0.166689</td>\n",
              "      <td>34.349651</td>\n",
              "      <td>45.819543</td>\n",
              "      <td>61.175511</td>\n",
              "      <td>82.145865</td>\n",
              "      <td>110.287019</td>\n",
              "      <td>148.034194</td>\n",
              "      <td>198.477879</td>\n",
              "      <td>266.930651</td>\n",
              "      <td>357.414841</td>\n",
              "      <td>4.800007e+02</td>\n",
              "      <td>6.439225e+02</td>\n",
              "      <td>8.613474e+02</td>\n",
              "      <td>1.156820e+03</td>\n",
              "      <td>1.558555e+03</td>\n",
              "      <td>2.103372e+03</td>\n",
              "      <td>2.824539e+03</td>\n",
              "      <td>3.797146e+03</td>\n",
              "      <td>5.115072e+03</td>\n",
              "      <td>6.904989e+03</td>\n",
              "      <td>9.306304e+03</td>\n",
              "      <td>1.257624e+04</td>\n",
              "      <td>28.435031</td>\n",
              "      <td>37.038252</td>\n",
              "      <td>48.496104</td>\n",
              "      <td>63.573821</td>\n",
              "      <td>83.156141</td>\n",
              "      <td>109.502115</td>\n",
              "      <td>144.051631</td>\n",
              "      <td>189.297417</td>\n",
              "      <td>2.492680e+02</td>\n",
              "      <td>3.288611e+02</td>\n",
              "      <td>4.320451e+02</td>\n",
              "      <td>5.678277e+02</td>\n",
              "      <td>7.488432e+02</td>\n",
              "      <td>9.869320e+02</td>\n",
              "      <td>1.303583e+03</td>\n",
              "      <td>1.719964e+03</td>\n",
              "      <td>2.267588e+03</td>\n",
              "      <td>2.997152e+03</td>\n",
              "      <td>3.966817e+03</td>\n",
              "      <td>5.249021e+03</td>\n",
              "      <td>6.957452e+03</td>\n",
              "      <td>7.817022</td>\n",
              "      <td>4.759981</td>\n",
              "      <td>3.044400</td>\n",
              "      <td>1.636415e+09</td>\n",
              "      <td>0.477217</td>\n",
              "      <td>0.260262</td>\n",
              "      <td>32.109057</td>\n",
              "      <td>24.562371</td>\n",
              "      <td>4.800000</td>\n",
              "      <td>1.086943e-03</td>\n",
              "      <td>2.923550e-03</td>\n",
              "      <td>4.790000</td>\n",
              "      <td>0.000000</td>\n",
              "    </tr>\n",
              "    <tr>\n",
              "      <th>max</th>\n",
              "      <td>90.000000</td>\n",
              "      <td>3.067051</td>\n",
              "      <td>9.673304</td>\n",
              "      <td>3.061075</td>\n",
              "      <td>9.793875</td>\n",
              "      <td>0.555498</td>\n",
              "      <td>0.471748</td>\n",
              "      <td>1967.306361</td>\n",
              "      <td>3986.365713</td>\n",
              "      <td>8077.598849</td>\n",
              "      <td>16367.691242</td>\n",
              "      <td>33165.959538</td>\n",
              "      <td>67204.400168</td>\n",
              "      <td>136176.714463</td>\n",
              "      <td>275935.764856</td>\n",
              "      <td>559130.440376</td>\n",
              "      <td>1.132970e+06</td>\n",
              "      <td>2.295744e+06</td>\n",
              "      <td>4.651881e+06</td>\n",
              "      <td>9.426136e+06</td>\n",
              "      <td>1.910024e+07</td>\n",
              "      <td>3.870294e+07</td>\n",
              "      <td>7.842403e+07</td>\n",
              "      <td>1.589111e+08</td>\n",
              "      <td>3.220026e+08</td>\n",
              "      <td>6.524760e+08</td>\n",
              "      <td>1.322116e+09</td>\n",
              "      <td>2.679013e+09</td>\n",
              "      <td>6488.613461</td>\n",
              "      <td>13129.838719</td>\n",
              "      <td>26568.490455</td>\n",
              "      <td>53761.870207</td>\n",
              "      <td>108788.216366</td>\n",
              "      <td>220135.125033</td>\n",
              "      <td>445447.814958</td>\n",
              "      <td>901372.535715</td>\n",
              "      <td>1.823945e+06</td>\n",
              "      <td>3.690790e+06</td>\n",
              "      <td>7.468387e+06</td>\n",
              "      <td>1.511243e+07</td>\n",
              "      <td>3.058030e+07</td>\n",
              "      <td>6.187985e+07</td>\n",
              "      <td>1.252151e+08</td>\n",
              "      <td>2.533753e+08</td>\n",
              "      <td>5.127099e+08</td>\n",
              "      <td>1.037479e+09</td>\n",
              "      <td>2.099359e+09</td>\n",
              "      <td>4.248095e+09</td>\n",
              "      <td>8.596104e+09</td>\n",
              "      <td>30.137493</td>\n",
              "      <td>19.028741</td>\n",
              "      <td>3.944800</td>\n",
              "      <td>3.313170e+11</td>\n",
              "      <td>2.960886</td>\n",
              "      <td>1.347404</td>\n",
              "      <td>100.110051</td>\n",
              "      <td>49.706596</td>\n",
              "      <td>7.300000</td>\n",
              "      <td>1.056601e-01</td>\n",
              "      <td>1.328281e-01</td>\n",
              "      <td>7.300000</td>\n",
              "      <td>1.000000</td>\n",
              "    </tr>\n",
              "  </tbody>\n",
              "</table>\n",
              "</div>"
            ],
            "text/plain": [
              "             T_Days         b_lik  ...    Actual Mag           mag\n",
              "count  29124.000000  29124.000000  ...  29124.000000  29124.000000\n",
              "mean      22.685586      1.182601  ...      4.291723      0.151490\n",
              "std       17.180184      0.284475  ...      0.683513      0.358532\n",
              "min        1.000000      0.325363  ...      2.840000      0.000000\n",
              "25%        7.000000      0.987931  ...      3.790000      0.000000\n",
              "50%       20.000000      1.148320  ...      4.180000      0.000000\n",
              "75%       34.000000      1.339588  ...      4.790000      0.000000\n",
              "max       90.000000      3.067051  ...      7.300000      1.000000\n",
              "\n",
              "[8 rows x 62 columns]"
            ]
          },
          "metadata": {
            "tags": []
          },
          "execution_count": 29
        }
      ]
    },
    {
      "cell_type": "markdown",
      "metadata": {
        "id": "Mpnw_t2uREAU"
      },
      "source": [
        "### Logistic Regression"
      ]
    },
    {
      "cell_type": "code",
      "metadata": {
        "id": "Y0jwHb9mQ9M5"
      },
      "source": [
        "from sklearn.model_selection import train_test_split\n",
        "X_train, y_train, X_test, y_test = train_test_split(features,target, test_size = 0.3,random_state =1)"
      ],
      "execution_count": null,
      "outputs": []
    },
    {
      "cell_type": "code",
      "metadata": {
        "colab": {
          "base_uri": "https://localhost:8080/"
        },
        "id": "hwclGXC1RBOI",
        "outputId": "c8ea96b4-effc-4bfb-8c65-e301f08e5331"
      },
      "source": [
        "from sklearn.linear_model import LogisticRegression\n",
        "lr = LogisticRegression()\n",
        "lr.fit(X_train,X_test)"
      ],
      "execution_count": null,
      "outputs": [
        {
          "output_type": "execute_result",
          "data": {
            "text/plain": [
              "LogisticRegression(C=1.0, class_weight=None, dual=False, fit_intercept=True,\n",
              "                   intercept_scaling=1, l1_ratio=None, max_iter=100,\n",
              "                   multi_class='auto', n_jobs=None, penalty='l2',\n",
              "                   random_state=None, solver='lbfgs', tol=0.0001, verbose=0,\n",
              "                   warm_start=False)"
            ]
          },
          "metadata": {
            "tags": []
          },
          "execution_count": 32
        }
      ]
    },
    {
      "cell_type": "code",
      "metadata": {
        "colab": {
          "base_uri": "https://localhost:8080/"
        },
        "id": "CaT_aDUVRLow",
        "outputId": "6a677018-86f1-4050-c9ae-1143f39d37a3"
      },
      "source": [
        "pred = lr.predict(y_train)\n",
        "from sklearn.metrics import matthews_corrcoef,accuracy_score\n",
        "print('Accuracy: ',accuracy_score(y_test, pred)*100,'%')\n",
        "print('MCC score: ',matthews_corrcoef(y_test, pred))"
      ],
      "execution_count": null,
      "outputs": [
        {
          "output_type": "stream",
          "text": [
            "Accuracy:  84.65323872739758 %\n",
            "MCC score:  0.0\n"
          ],
          "name": "stdout"
        }
      ]
    },
    {
      "cell_type": "code",
      "metadata": {
        "colab": {
          "base_uri": "https://localhost:8080/",
          "height": 889
        },
        "id": "y8RsYbOgRN-B",
        "outputId": "b369535b-d0d0-48ef-a0cf-714e8a046711"
      },
      "source": [
        "plt.figure(figsize = (14,14))\n",
        "plt.title('correlation')\n",
        "corr = sc_df.corr()\n",
        "sns.heatmap(corr,xticklabels=corr.columns,yticklabels=corr.columns,linewidths=.1,cmap=\"Reds\")\n",
        "plt.show()"
      ],
      "execution_count": null,
      "outputs": [
        {
          "output_type": "display_data",
          "data": {
            "image/png": "[encoded data removed]",
            "text/plain": [
              "<Figure size 1008x1008 with 2 Axes>"
            ]
          },
          "metadata": {
            "tags": [],
            "needs_background": "light"
          }
        }
      ]
    },
    {
      "cell_type": "markdown",
      "metadata": {
        "id": "-_F6U20ORdHC"
      },
      "source": [
        "### Random Forest"
      ]
    },
    {
      "cell_type": "code",
      "metadata": {
        "colab": {
          "base_uri": "https://localhost:8080/"
        },
        "id": "KDLOSDrzRU90",
        "outputId": "c9c498b0-187c-437e-9b5e-5bab0d9e2041"
      },
      "source": [
        "from sklearn.ensemble import RandomForestClassifier\n",
        "rf =  RandomForestClassifier(n_estimators=100, n_jobs=-1)\n",
        "rf.fit(X_train,X_test)"
      ],
      "execution_count": null,
      "outputs": [
        {
          "output_type": "execute_result",
          "data": {
            "text/plain": [
              "RandomForestClassifier(bootstrap=True, ccp_alpha=0.0, class_weight=None,\n",
              "                       criterion='gini', max_depth=None, max_features='auto',\n",
              "                       max_leaf_nodes=None, max_samples=None,\n",
              "                       min_impurity_decrease=0.0, min_impurity_split=None,\n",
              "                       min_samples_leaf=1, min_samples_split=2,\n",
              "                       min_weight_fraction_leaf=0.0, n_estimators=100,\n",
              "                       n_jobs=-1, oob_score=False, random_state=None, verbose=0,\n",
              "                       warm_start=False)"
            ]
          },
          "metadata": {
            "tags": []
          },
          "execution_count": 36
        }
      ]
    },
    {
      "cell_type": "code",
      "metadata": {
        "colab": {
          "base_uri": "https://localhost:8080/"
        },
        "id": "JfGOy-KURlK7",
        "outputId": "496d250e-c941-4bb4-c17c-c96737ba613f"
      },
      "source": [
        "pred = rf.predict(y_train)\n",
        "from sklearn.metrics import matthews_corrcoef,accuracy_score\n",
        "print('Accuracy: ',accuracy_score(y_test, pred)*100,'%')\n",
        "print('MCC score: ',matthews_corrcoef(y_test, pred))"
      ],
      "execution_count": null,
      "outputs": [
        {
          "output_type": "stream",
          "text": [
            "Accuracy:  96.01739528496223 %\n",
            "MCC score:  0.8402069520937141\n"
          ],
          "name": "stdout"
        }
      ]
    },
    {
      "cell_type": "markdown",
      "metadata": {
        "id": "jx2oTIiTRvuR"
      },
      "source": [
        "### XGBoost"
      ]
    },
    {
      "cell_type": "code",
      "metadata": {
        "colab": {
          "base_uri": "https://localhost:8080/"
        },
        "id": "WqYVIu9eRpsZ",
        "outputId": "be6b15f2-f799-4400-88d7-2b4230b7d6e2"
      },
      "source": [
        "MAX_ROUNDS = 1000\n",
        "EARLY_STOP = 50\n",
        "from xgboost import XGBClassifier\n",
        "xg = XGBClassifier(MAX_ROUNDS,early_stopping_rounds=EARLY_STOP,maximize=True)\n",
        "xg.fit(X_train,X_test)"
      ],
      "execution_count": null,
      "outputs": [
        {
          "output_type": "execute_result",
          "data": {
            "text/plain": [
              "XGBClassifier(base_score=0.5, booster='gbtree', colsample_bylevel=1,\n",
              "              colsample_bynode=1, colsample_bytree=1, early_stopping_rounds=50,\n",
              "              gamma=0, learning_rate=0.1, max_delta_step=0, max_depth=1000,\n",
              "              maximize=True, min_child_weight=1, missing=None, n_estimators=100,\n",
              "              n_jobs=1, nthread=None, objective='binary:logistic',\n",
              "              random_state=0, reg_alpha=0, reg_lambda=1, scale_pos_weight=1,\n",
              "              seed=None, silent=None, subsample=1, verbosity=1)"
            ]
          },
          "metadata": {
            "tags": []
          },
          "execution_count": 38
        }
      ]
    },
    {
      "cell_type": "code",
      "metadata": {
        "colab": {
          "base_uri": "https://localhost:8080/"
        },
        "id": "I6JqbJSJR1eo",
        "outputId": "f7f13a67-14ea-4cb8-f64e-8667bd40848d"
      },
      "source": [
        "pred = xg.predict(y_train)\n",
        "from sklearn.metrics import matthews_corrcoef,accuracy_score\n",
        "print('Accuracy: ',accuracy_score(y_test, pred)*100,'%')\n",
        "print('MCC score: ',matthews_corrcoef(y_test, pred))"
      ],
      "execution_count": null,
      "outputs": [
        {
          "output_type": "stream",
          "text": [
            "Accuracy:  97.72259098191806 %\n",
            "MCC score:  0.9104558000383849\n"
          ],
          "name": "stdout"
        }
      ]
    },
    {
      "cell_type": "markdown",
      "metadata": {
        "id": "jK9R5CFISIha"
      },
      "source": [
        "### PCA with Logistic Regression"
      ]
    },
    {
      "cell_type": "code",
      "metadata": {
        "colab": {
          "base_uri": "https://localhost:8080/"
        },
        "id": "wiroIpaVSD9i",
        "outputId": "6b8a4718-ba40-4b81-c836-94b0c0d46abd"
      },
      "source": [
        "from sklearn.decomposition import PCA\n",
        "from statistics import mean\n",
        "avgaccs=[]\n",
        "avgmccs=[]\n",
        "for i in range(1,29):\n",
        "  pca=PCA(n_components=i)\n",
        "  pca.fit(features)\n",
        "  x_pca=pca.transform(features)\n",
        "  acc,mcc=[],[]\n",
        "  for j in range(0,10):\n",
        "    X_train, y_train, X_test, y_test = train_test_split(x_pca,target, test_size = 0.3,stratify=target)\n",
        "    lr = LogisticRegression()\n",
        "    lr.fit(X_train,X_test)\n",
        "    pred = lr.predict(y_train)\n",
        "    acc.append(accuracy_score(y_test, pred))\n",
        "    mcc.append(matthews_corrcoef(y_test, pred))\n",
        "  print('For ',i,'number of features: ',round(mean(acc),4)*100,round(mean(mcc),4))\n",
        "  avgaccs.append(round(mean(acc),4)*100)\n",
        "  avgmccs.append(round(mean(mcc),4))\n",
        "print(max(avgaccs))\n",
        "print(avgaccs.index(max(avgaccs)))"
      ],
      "execution_count": null,
      "outputs": [
        {
          "output_type": "stream",
          "text": [
            "For  1 number of features:  77.37 0.2491\n",
            "For  2 number of features:  77.59 0.2519\n",
            "For  3 number of features:  77.42999999999999 0.2482\n",
            "For  4 number of features:  78.08 0.2596\n",
            "For  5 number of features:  77.68 0.2564\n",
            "For  6 number of features:  78.69 0.2552\n",
            "For  7 number of features:  78.08 0.2542\n",
            "For  8 number of features:  77.8 0.2549\n",
            "For  9 number of features:  77.91 0.2541\n",
            "For  10 number of features:  77.42 0.2507\n",
            "For  11 number of features:  77.51 0.2461\n",
            "For  12 number of features:  78.62 0.2574\n",
            "For  13 number of features:  77.97 0.2547\n",
            "For  14 number of features:  77.84 0.2491\n",
            "For  15 number of features:  77.53 0.2489\n",
            "For  16 number of features:  78.01 0.2533\n",
            "For  17 number of features:  78.4 0.2523\n",
            "For  18 number of features:  77.46 0.2485\n",
            "For  19 number of features:  77.75 0.2595\n",
            "For  20 number of features:  77.45 0.251\n",
            "For  21 number of features:  78.02 0.2548\n",
            "For  22 number of features:  77.45 0.2555\n",
            "For  23 number of features:  77.34 0.2479\n",
            "For  24 number of features:  78.94 0.2561\n",
            "For  25 number of features:  77.97 0.2566\n",
            "For  26 number of features:  77.49000000000001 0.2515\n",
            "For  27 number of features:  77.7 0.2522\n",
            "For  28 number of features:  78.11 0.2491\n",
            "78.94\n",
            "23\n"
          ],
          "name": "stdout"
        }
      ]
    },
    {
      "cell_type": "code",
      "metadata": {
        "id": "hB-6vuAESPKz"
      },
      "source": [
        "pca=PCA(n_components=23) #Using 23 features for PCA\n",
        "pca.fit(features)\n",
        "x_pca=pca.transform(features)\n",
        "X_train, y_train, X_test, y_test = train_test_split(x_pca,target, test_size = 0.3,random_state=1)"
      ],
      "execution_count": null,
      "outputs": []
    },
    {
      "cell_type": "code",
      "metadata": {
        "colab": {
          "base_uri": "https://localhost:8080/"
        },
        "id": "-F3p3BEGTFh0",
        "outputId": "fd68deaa-8058-40a8-d1b0-189e7e75eb49"
      },
      "source": [
        "  lr = LogisticRegression()\n",
        "  lr.fit(X_train,X_test)\n",
        "  pred = lr.predict(y_train)\n",
        "  from sklearn.metrics import matthews_corrcoef,accuracy_score\n",
        "print('Accuracy: ',accuracy_score(y_test, pred)*100,'%')\n",
        "print('MCC score: ',matthews_corrcoef(y_test, pred))"
      ],
      "execution_count": null,
      "outputs": [
        {
          "output_type": "stream",
          "text": [
            "Accuracy:  78.1528953994049 %\n",
            "MCC score:  0.26499968487945874\n"
          ],
          "name": "stdout"
        }
      ]
    },
    {
      "cell_type": "markdown",
      "metadata": {
        "id": "3u0Ut52KTME9"
      },
      "source": [
        "### PCA with Random Forest"
      ]
    },
    {
      "cell_type": "code",
      "metadata": {
        "colab": {
          "base_uri": "https://localhost:8080/"
        },
        "id": "vwf9vdixTJPv",
        "outputId": "4ebcc468-d145-4e60-ee32-e3a76a2687d2"
      },
      "source": [
        "from sklearn.decomposition import PCA\n",
        "from statistics import mean\n",
        "avgaccs=[]\n",
        "avgmccs=[]\n",
        "for i in range(1,30):\n",
        "  pca=PCA(n_components=i)\n",
        "  pca.fit(features)\n",
        "  x_pca=pca.transform(features)\n",
        "  acc,mcc=[],[]\n",
        "  for j in range(0,10):\n",
        "    X_train, y_train, X_test, y_test = train_test_split(x_pca,target, test_size = 0.3,stratify=target)\n",
        "    rf =  RandomForestClassifier(n_estimators=100, n_jobs=-1)\n",
        "    rf.fit(X_train,X_test)\n",
        "    pred = rf.predict(y_train)\n",
        "    acc.append(accuracy_score(y_test, pred))\n",
        "    mcc.append(matthews_corrcoef(y_test, pred))\n",
        "  print('For ',i,'number of features: ',round(mean(acc),4)*100,round(mean(mcc),4))\n",
        "  avgaccs.append(round(mean(acc),4)*100)\n",
        "  avgmccs.append(round(mean(mcc),4))\n",
        "print(max(avgaccs))\n",
        "print(avgaccs.index(max(avgaccs)))"
      ],
      "execution_count": null,
      "outputs": [
        {
          "output_type": "stream",
          "text": [
            "For  1 number of features:  78.62 0.17\n",
            "For  2 number of features:  85.94000000000001 0.3681\n",
            "For  3 number of features:  88.21 0.4729\n",
            "For  4 number of features:  89.05999999999999 0.5222\n",
            "For  5 number of features:  89.86 0.557\n",
            "For  6 number of features:  90.23 0.5744\n",
            "For  7 number of features:  90.53999999999999 0.5889\n",
            "For  8 number of features:  91.18 0.6183\n",
            "For  9 number of features:  91.47 0.6333\n",
            "For  10 number of features:  92.05 0.6593\n",
            "For  11 number of features:  92.15 0.6637\n",
            "For  12 number of features:  92.89 0.6982\n",
            "For  13 number of features:  93.08999999999999 0.7075\n",
            "For  14 number of features:  93.63 0.7323\n",
            "For  15 number of features:  93.82000000000001 0.7408\n",
            "For  16 number of features:  94.55 0.7739\n",
            "For  17 number of features:  94.56 0.7747\n",
            "For  18 number of features:  94.88 0.7886\n",
            "For  19 number of features:  95.41 0.8121\n",
            "For  20 number of features:  95.54 0.8175\n",
            "For  21 number of features:  95.72 0.8256\n",
            "For  22 number of features:  95.85000000000001 0.8312\n",
            "For  23 number of features:  96.04 0.8394\n",
            "For  24 number of features:  96.1 0.842\n",
            "For  25 number of features:  96.2 0.8461\n",
            "For  26 number of features:  96.17999999999999 0.8455\n",
            "For  27 number of features:  96.39999999999999 0.8548\n",
            "For  28 number of features:  96.45 0.8569\n",
            "For  29 number of features:  96.64 0.865\n",
            "96.64\n",
            "28\n"
          ],
          "name": "stdout"
        }
      ]
    },
    {
      "cell_type": "code",
      "metadata": {
        "id": "oDzTV7xfTWmX"
      },
      "source": [
        "pca=PCA(n_components=28) #Using 28 features for PCA\n",
        "pca.fit(features)\n",
        "x_pca=pca.transform(features)\n",
        "X_train, y_train, X_test, y_test = train_test_split(x_pca,target, test_size = 0.3,random_state=1)"
      ],
      "execution_count": null,
      "outputs": []
    },
    {
      "cell_type": "code",
      "metadata": {
        "colab": {
          "base_uri": "https://localhost:8080/"
        },
        "id": "QBykUQN8ZL4L",
        "outputId": "01ab4f3b-a1db-46fa-ed61-b40dc36a2c7f"
      },
      "source": [
        "rf =  RandomForestClassifier(n_estimators=100, n_jobs=-1)\n",
        "rf.fit(X_train,X_test)"
      ],
      "execution_count": null,
      "outputs": [
        {
          "output_type": "execute_result",
          "data": {
            "text/plain": [
              "RandomForestClassifier(bootstrap=True, ccp_alpha=0.0, class_weight=None,\n",
              "                       criterion='gini', max_depth=None, max_features='auto',\n",
              "                       max_leaf_nodes=None, max_samples=None,\n",
              "                       min_impurity_decrease=0.0, min_impurity_split=None,\n",
              "                       min_samples_leaf=1, min_samples_split=2,\n",
              "                       min_weight_fraction_leaf=0.0, n_estimators=100,\n",
              "                       n_jobs=-1, oob_score=False, random_state=None, verbose=0,\n",
              "                       warm_start=False)"
            ]
          },
          "metadata": {
            "tags": []
          },
          "execution_count": 46
        }
      ]
    },
    {
      "cell_type": "code",
      "metadata": {
        "colab": {
          "base_uri": "https://localhost:8080/"
        },
        "id": "lIsAX7mLZMrw",
        "outputId": "1e4fc1e1-3af2-4c91-a1c5-a25eef70130f"
      },
      "source": [
        "pred = rf.predict(y_train)\n",
        "from sklearn.metrics import matthews_corrcoef,accuracy_score\n",
        "print('Accuracy: ',accuracy_score(y_test, pred)*100,'%')\n",
        "print('MCC score: ',matthews_corrcoef(y_test, pred))"
      ],
      "execution_count": null,
      "outputs": [
        {
          "output_type": "stream",
          "text": [
            "Accuracy:  96.1547264820325 %\n",
            "MCC score:  0.8461630995034547\n"
          ],
          "name": "stdout"
        }
      ]
    },
    {
      "cell_type": "markdown",
      "metadata": {
        "id": "ZaX1MWb-bJkZ"
      },
      "source": [
        "### PCA WITH XGBOOST"
      ]
    },
    {
      "cell_type": "code",
      "metadata": {
        "colab": {
          "base_uri": "https://localhost:8080/"
        },
        "id": "hiRA9bN3bHMx",
        "outputId": "3b8ceea8-98b2-4c1c-c8be-2d900fbb9ff5"
      },
      "source": [
        "from sklearn.decomposition import PCA\n",
        "from statistics import mean\n",
        "avgaccs=[]\n",
        "avgmccs=[]\n",
        "for i in range(1,30):\n",
        "  pca=PCA(n_components=i)\n",
        "  pca.fit(features)\n",
        "  x_pca=pca.transform(features)\n",
        "  acc,mcc=[],[]\n",
        "  for j in range(0,1):\n",
        "    X_train, y_train, X_test, y_test = train_test_split(x_pca,target, test_size = 0.3,stratify=target)\n",
        "    xg = XGBClassifier(MAX_ROUNDS,early_stopping_rounds=EARLY_STOP,maximize=True)\n",
        "    xg.fit(X_train,X_test)\n",
        "    pred = xg.predict(y_train)\n",
        "    acc.append(accuracy_score(y_test, pred))\n",
        "    mcc.append(matthews_corrcoef(y_test, pred))\n",
        "  print('For ',i,'number of features: ',round(mean(acc),4)*100,round(mean(mcc),4))\n",
        "  avgaccs.append(round(mean(acc),4)*100)\n",
        "  avgmccs.append(round(mean(mcc),4))\n",
        "print(max(avgaccs))\n",
        "print(avgaccs.index(max(avgaccs)))"
      ],
      "execution_count": null,
      "outputs": [
        {
          "output_type": "stream",
          "text": [
            "For  1 number of features:  83.67 0.2518\n",
            "For  2 number of features:  85.28999999999999 0.343\n",
            "For  3 number of features:  88.24 0.4902\n",
            "For  4 number of features:  89.3 0.5377\n",
            "For  5 number of features:  89.73 0.5642\n",
            "For  6 number of features:  89.89 0.5656\n",
            "For  7 number of features:  90.5 0.5934\n",
            "For  8 number of features:  91.43 0.6334\n",
            "For  9 number of features:  91.7 0.6477\n",
            "For  10 number of features:  92.30000000000001 0.6749\n",
            "For  11 number of features:  92.65 0.6911\n",
            "For  12 number of features:  93.05 0.7072\n",
            "For  13 number of features:  93.43 0.7247\n",
            "For  14 number of features:  94.31 0.764\n",
            "For  15 number of features:  94.51 0.7728\n",
            "For  16 number of features:  94.87 0.7888\n",
            "For  17 number of features:  95.25 0.8054\n",
            "For  18 number of features:  95.65 0.8225\n",
            "For  19 number of features:  96.11 0.8421\n",
            "For  20 number of features:  96.34 0.852\n",
            "For  21 number of features:  96.66 0.8654\n",
            "For  22 number of features:  96.8 0.8711\n",
            "For  23 number of features:  96.74000000000001 0.8687\n",
            "For  24 number of features:  96.94 0.8775\n",
            "For  25 number of features:  97.06 0.882\n",
            "For  26 number of features:  96.99 0.8792\n",
            "For  27 number of features:  97.55 0.9023\n",
            "For  28 number of features:  97.21 0.8882\n",
            "For  29 number of features:  97.48 0.8995\n",
            "97.55\n",
            "26\n"
          ],
          "name": "stdout"
        }
      ]
    },
    {
      "cell_type": "code",
      "metadata": {
        "id": "21hix1z5bIon"
      },
      "source": [
        "pca=PCA(n_components=26) #Using 28 features for PCA\n",
        "pca.fit(features)\n",
        "x_pca=pca.transform(features)\n",
        "X_train, y_train, X_test, y_test = train_test_split(x_pca,target, test_size = 0.3,random_state=1)"
      ],
      "execution_count": null,
      "outputs": []
    },
    {
      "cell_type": "code",
      "metadata": {
        "colab": {
          "base_uri": "https://localhost:8080/"
        },
        "id": "CiR12wrrbgBr",
        "outputId": "b22f6d07-9a09-45c4-a304-1571f4f32ada"
      },
      "source": [
        "xg = XGBClassifier(MAX_ROUNDS,early_stopping_rounds=EARLY_STOP,maximize=True)\n",
        "xg.fit(X_train,X_test)\n",
        "pred = xg.predict(y_train)\n",
        "from sklearn.metrics import matthews_corrcoef,accuracy_score\n",
        "print('Accuracy: ',accuracy_score(y_test, pred)*100,'%')\n",
        "print('MCC score: ',matthews_corrcoef(y_test, pred))"
      ],
      "execution_count": null,
      "outputs": [
        {
          "output_type": "stream",
          "text": [
            "Accuracy:  96.76127260242619 %\n",
            "MCC score:  0.8711130019069712\n"
          ],
          "name": "stdout"
        }
      ]
    },
    {
      "cell_type": "markdown",
      "metadata": {
        "id": "MxQ48gBRcLy5"
      },
      "source": [
        "### MRMR with XGBoost"
      ]
    },
    {
      "cell_type": "code",
      "metadata": {
        "id": "zKq-fF_CcIyc"
      },
      "source": [
        "from skfeature.function.information_theoretical_based import LCSI\n",
        "def mrmr(X, y,i,**kwargs):\n",
        "    \"\"\"\n",
        "    This function implements the MRMR feature selection\n",
        "    Input\n",
        "    -----\n",
        "    X: {numpy array}, shape (n_samples, n_features)\n",
        "        input data, guaranteed to be discrete\n",
        "    y: {numpy array}, shape (n_samples,)\n",
        "        input class labels\n",
        "    kwargs: {dictionary}\n",
        "        n_selected_features: {int}\n",
        "            number of features to select\n",
        "    Output\n",
        "    ------\n",
        "    F: {numpy array}, shape (n_features,)\n",
        "        index of selected features, F[0] is the most important feature\n",
        "    J_CMI: {numpy array}, shape: (n_features,)\n",
        "        corresponding objective function value of selected features\n",
        "    MIfy: {numpy array}, shape: (n_features,)\n",
        "        corresponding mutual information between selected features and response\n",
        "    Reference\n",
        "    ---------\n",
        "    Brown, Gavin et al. \"Conditional Likelihood Maximisation: A Unifying Framework for Information Theoretic Feature Selection.\" JMLR 2012.\n",
        "    \"\"\"\n",
        "    if 'n_selected_features' in kwargs.keys():\n",
        "        n_selected_features = kwargs['n_selected_features']\n",
        "        F, J_CMI, MIfy = LCSI.lcsi(X, y, gamma=0, function_name='MRMR', n_selected_features=n_selected_features)\n",
        "    else:\n",
        "        F, J_CMI, MIfy = LCSI.lcsi(X, y, gamma=0, function_name='MRMR', n_selected_features=i)\n",
        "    return F"
      ],
      "execution_count": null,
      "outputs": []
    },
    {
      "cell_type": "code",
      "metadata": {
        "id": "5dNNIs1odqAT"
      },
      "source": [
        "X_train, y_train, X_test, y_test = train_test_split(features,target, test_size = 0.3,random_state=1)"
      ],
      "execution_count": null,
      "outputs": []
    },
    {
      "cell_type": "code",
      "metadata": {
        "colab": {
          "base_uri": "https://localhost:8080/"
        },
        "id": "tihG1t83du2e",
        "outputId": "6f98c1c3-a572-416f-e292-7dc46014c844"
      },
      "source": [
        "F = mrmr(X_train,X_test,60)\n",
        "print(F)"
      ],
      "execution_count": null,
      "outputs": [
        {
          "output_type": "stream",
          "text": [
            "[ 6  0 57 49 51  1  2 58 50  3 59  4 54 56 28 30 29 33 48 35 34 46 31 53\n",
            " 32 36  7 37 38 39  8 40 41 42 43  9 44 45 47 10 11 15 12 13 14 16 18 20\n",
            " 17 19 26 22 24 21 25 27 23 55  5 52]\n"
          ],
          "name": "stdout"
        }
      ]
    },
    {
      "cell_type": "code",
      "metadata": {
        "colab": {
          "base_uri": "https://localhost:8080/"
        },
        "id": "EFDfOnQLdyd0",
        "outputId": "b861265e-f880-4729-f81b-f23d188e91fd"
      },
      "source": [
        "acc = []\n",
        "mcc=[]\n",
        "MAX_ROUNDS = 1000 #lgb iterations\n",
        "EARLY_STOP = 50\n",
        "for i in range(1,61):\n",
        "  features2 = sc_df.iloc[:,F[0:i]].to_numpy()\n",
        "  #print(features2.shape)\n",
        "  X_train, y_train, X_test, y_test = train_test_split(features2,target, test_size = 0.3)\n",
        "  print(X_train.shape,X_test.shape)\n",
        "  from xgboost import XGBClassifier\n",
        "  xg = XGBClassifier(MAX_ROUNDS,early_stopping_rounds=EARLY_STOP,maximize=True)\n",
        "  xg.fit(X_train,X_test)\n",
        "  pred = xg.predict(y_train)\n",
        "  from sklearn.metrics import accuracy_score,confusion_matrix,r2_score\n",
        "  from sklearn.metrics import matthews_corrcoef\n",
        "  print(accuracy_score(y_test, pred), matthews_corrcoef(y_test, pred))\n",
        "  acc.append(accuracy_score(y_test, pred))\n",
        "  mcc.append(matthews_corrcoef(y_test, pred))\n",
        "print(acc)\n",
        "print(max(acc))\n",
        "print(acc.index(max(acc)))\n",
        "print(mcc[acc.index(max(acc))])"
      ],
      "execution_count": null,
      "outputs": [
        {
          "output_type": "stream",
          "text": [
            "(20386, 1) (20386,)\n",
            "0.8187228198672465 0.06976008503361282\n",
            "(20386, 2) (20386,)\n",
            "0.8529411764705882 0.3329572488016716\n",
            "(20386, 3) (20386,)\n",
            "0.9729915312428473 0.8919221357753078\n",
            "(20386, 4) (20386,)\n",
            "0.9684138246738384 0.8716077789646539\n",
            "(20386, 5) (20386,)\n",
            "0.9761959258411536 0.908620477113298\n",
            "(20386, 6) (20386,)\n",
            "0.977454795147631 0.910447520140796\n",
            "(20386, 7) (20386,)\n",
            "0.9735637445639734 0.8931295042557217\n",
            "(20386, 8) (20386,)\n",
            "0.9756237125200274 0.9047812885444709\n",
            "(20386, 9) (20386,)\n",
            "0.9735637445639734 0.8945468347832496\n",
            "(20386, 10) (20386,)\n",
            "0.9766536964980544 0.90965417914823\n",
            "(20386, 11) (20386,)\n",
            "0.9842069123369191 0.9362881759888892\n",
            "(20386, 12) (20386,)\n",
            "0.9790569924467841 0.9159774788852402\n",
            "(20386, 13) (20386,)\n",
            "0.9804303044174868 0.922995806219728\n",
            "(20386, 14) (20386,)\n",
            "0.9816891737239642 0.9291646345124777\n",
            "(20386, 15) (20386,)\n",
            "0.9829480430304417 0.9335176294523854\n",
            "(20386, 16) (20386,)\n",
            "0.9812314030670634 0.9260253785278505\n",
            "(20386, 17) (20386,)\n",
            "0.9823758297093156 0.9292293557673496\n",
            "(20386, 18) (20386,)\n",
            "0.9787136644541085 0.9183633399032737\n",
            "(20386, 19) (20386,)\n",
            "0.9787136644541085 0.9167578174076021\n",
            "(20386, 20) (20386,)\n",
            "0.9828336003662165 0.9291782045445572\n",
            "(20386, 21) (20386,)\n",
            "0.980544747081712 0.9209421206014825\n",
            "(20386, 22) (20386,)\n",
            "0.9827191577019913 0.9313124248093632\n",
            "(20386, 23) (20386,)\n",
            "0.9806591897459372 0.9219268218047457\n",
            "(20386, 24) (20386,)\n",
            "0.9832913710231174 0.934463542679758\n",
            "(20386, 25) (20386,)\n",
            "0.9829480430304417 0.9327799834271027\n",
            "(20386, 26) (20386,)\n",
            "0.9802014190890364 0.9224752930060368\n",
            "(20386, 27) (20386,)\n",
            "0.9821469443808651 0.9291569442541264\n",
            "(20386, 28) (20386,)\n",
            "0.9813458457312886 0.9261677350748626\n",
            "(20386, 29) (20386,)\n",
            "0.9823758297093156 0.9299902633118609\n",
            "(20386, 30) (20386,)\n",
            "0.9796292057679102 0.9205857977876853\n",
            "(20386, 31) (20386,)\n",
            "0.9813458457312886 0.9246415525733304\n",
            "(20386, 32) (20386,)\n",
            "0.9822613870450904 0.9293371935556005\n",
            "(20386, 33) (20386,)\n",
            "0.9813458457312886 0.9250692329793073\n",
            "(20386, 34) (20386,)\n",
            "0.9820325017166399 0.9294626922778743\n",
            "(20386, 35) (20386,)\n",
            "0.9811169604028381 0.9260469183907662\n",
            "(20386, 36) (20386,)\n",
            "0.9818036163881895 0.9294564081282038\n",
            "(20386, 37) (20386,)\n",
            "0.9810025177386129 0.926066197678744\n",
            "(20386, 38) (20386,)\n",
            "0.9821469443808651 0.9283119423141704\n",
            "(20386, 39) (20386,)\n",
            "0.981574731059739 0.9286040309316711\n",
            "(20386, 40) (20386,)\n",
            "0.9812314030670634 0.9235433205950316\n",
            "(20386, 41) (20386,)\n",
            "0.9811169604028381 0.9270870319421627\n",
            "(20386, 42) (20386,)\n",
            "0.9776836804760815 0.9127638534587136\n",
            "(20386, 43) (20386,)\n",
            "0.9800869764248111 0.9203965355973147\n",
            "(20386, 44) (20386,)\n",
            "0.9787136644541085 0.9156295375891433\n",
            "(20386, 45) (20386,)\n",
            "0.9812314030670634 0.9254260928536955\n",
            "(20386, 46) (20386,)\n",
            "0.9787136644541085 0.914853628301399\n",
            "(20386, 47) (20386,)\n",
            "0.9822613870450904 0.9291128837056073\n",
            "(20386, 48) (20386,)\n",
            "0.9820325017166399 0.9293164186230363\n",
            "(20386, 49) (20386,)\n",
            "0.9806591897459372 0.9243566865489921\n",
            "(20386, 50) (20386,)\n",
            "0.9818036163881895 0.925902803978272\n",
            "(20386, 51) (20386,)\n",
            "0.9816891737239642 0.9255086231255246\n",
            "(20386, 52) (20386,)\n",
            "0.9806591897459372 0.9220199951477502\n",
            "(20386, 53) (20386,)\n",
            "0.9822613870450904 0.9294524780114205\n",
            "(20386, 54) (20386,)\n",
            "0.9829480430304417 0.9325005851997831\n",
            "(20386, 55) (20386,)\n",
            "0.9812314030670634 0.9263245236458073\n",
            "(20386, 56) (20386,)\n",
            "0.9767681391622797 0.9078743034825941\n",
            "(20386, 57) (20386,)\n",
            "0.9794003204394598 0.9168430160303631\n",
            "(20386, 58) (20386,)\n",
            "0.9821469443808651 0.9272752565894715\n",
            "(20386, 59) (20386,)\n",
            "0.9813458457312886 0.9270546729766458\n",
            "(20386, 60) (20386,)\n",
            "0.9810025177386129 0.9210232150131024\n",
            "[0.8187228198672465, 0.8529411764705882, 0.9729915312428473, 0.9684138246738384, 0.9761959258411536, 0.977454795147631, 0.9735637445639734, 0.9756237125200274, 0.9735637445639734, 0.9766536964980544, 0.9842069123369191, 0.9790569924467841, 0.9804303044174868, 0.9816891737239642, 0.9829480430304417, 0.9812314030670634, 0.9823758297093156, 0.9787136644541085, 0.9787136644541085, 0.9828336003662165, 0.980544747081712, 0.9827191577019913, 0.9806591897459372, 0.9832913710231174, 0.9829480430304417, 0.9802014190890364, 0.9821469443808651, 0.9813458457312886, 0.9823758297093156, 0.9796292057679102, 0.9813458457312886, 0.9822613870450904, 0.9813458457312886, 0.9820325017166399, 0.9811169604028381, 0.9818036163881895, 0.9810025177386129, 0.9821469443808651, 0.981574731059739, 0.9812314030670634, 0.9811169604028381, 0.9776836804760815, 0.9800869764248111, 0.9787136644541085, 0.9812314030670634, 0.9787136644541085, 0.9822613870450904, 0.9820325017166399, 0.9806591897459372, 0.9818036163881895, 0.9816891737239642, 0.9806591897459372, 0.9822613870450904, 0.9829480430304417, 0.9812314030670634, 0.9767681391622797, 0.9794003204394598, 0.9821469443808651, 0.9813458457312886, 0.9810025177386129]\n",
            "0.9842069123369191\n",
            "10\n",
            "0.9362881759888892\n"
          ],
          "name": "stdout"
        }
      ]
    },
    {
      "cell_type": "code",
      "metadata": {
        "colab": {
          "base_uri": "https://localhost:8080/",
          "height": 1000
        },
        "id": "vntRKzA0g6sU",
        "outputId": "8a1999ad-d9b0-49a0-bb16-aa1133973149"
      },
      "source": [
        "avgaccs=[]\n",
        "avgmccs=[]\n",
        "for i in range(1,61):\n",
        "  features2 = sc_df.iloc[:,F[0:i]].to_numpy()\n",
        "  acc,mcc=[],[]\n",
        "  for j in range(0,10):\n",
        "    X_train, y_train, X_test, y_test = train_test_split(features2,target, test_size = 0.3,stratify=target)\n",
        "    xg = XGBClassifier(MAX_ROUNDS,early_stopping_rounds=EARLY_STOP,maximize=True)\n",
        "    xg.fit(X_train,X_test)\n",
        "    pred = xg.predict(y_train)\n",
        "    acc.append(accuracy_score(y_test, pred))\n",
        "    mcc.append(matthews_corrcoef(y_test, pred))\n",
        "  print('For ',i,'number of features: ',round(mean(acc),4)*100,round(mean(mcc),4))\n",
        "  avgaccs.append(round(mean(acc),4)*100)\n",
        "  avgmccs.append(round(mean(mcc),4))\n",
        "print(max(avgaccs))\n",
        "print(avgaccs.index(max(avgaccs)))"
      ],
      "execution_count": null,
      "outputs": [
        {
          "output_type": "stream",
          "text": [
            "For  1 number of features:  81.08999999999999 0.0653\n",
            "For  2 number of features:  84.99 0.3383\n",
            "For  3 number of features:  96.97 0.8786\n",
            "For  4 number of features:  97.06 0.8823\n",
            "For  5 number of features:  97.71 0.9089\n",
            "For  6 number of features:  97.66 0.9066\n",
            "For  7 number of features:  97.67 0.9073\n",
            "For  8 number of features:  97.57000000000001 0.9029\n",
            "For  9 number of features:  97.55 0.9022\n",
            "For  10 number of features:  97.89999999999999 0.9165\n",
            "For  11 number of features:  97.88 0.9159\n",
            "For  12 number of features:  97.8 0.9126\n",
            "For  13 number of features:  98.17 0.9276\n",
            "For  14 number of features:  98.2 0.9287\n",
            "For  15 number of features:  98.29 0.9322\n",
            "For  16 number of features:  98.16 0.927\n",
            "For  17 number of features:  98.13 0.9258\n",
            "For  18 number of features:  98.21 0.9293\n",
            "For  19 number of features:  98.18 0.928\n",
            "For  20 number of features:  98.11999999999999 0.9255\n",
            "For  21 number of features:  98.18 0.9279\n",
            "For  22 number of features:  98.1 0.9247\n",
            "For  23 number of features:  98.13 0.9257\n",
            "For  24 number of features:  98.08 0.9239\n",
            "For  25 number of features:  98.14 0.9264\n",
            "For  26 number of features:  98.17 0.9276\n",
            "For  27 number of features:  98.11 0.9251\n",
            "For  28 number of features:  98.17 0.9274\n",
            "For  29 number of features:  98.04 0.9224\n",
            "For  30 number of features:  98.1 0.9249\n",
            "For  31 number of features:  98.09 0.9243\n",
            "For  32 number of features:  98.08 0.9238\n",
            "For  33 number of features:  98.13 0.9259\n",
            "For  34 number of features:  98.1 0.9248\n",
            "For  35 number of features:  98.13 0.9261\n",
            "For  36 number of features:  98.09 0.9243\n",
            "For  37 number of features:  98.07000000000001 0.9237\n",
            "For  38 number of features:  98.07000000000001 0.9236\n",
            "For  39 number of features:  98.07000000000001 0.9235\n",
            "For  40 number of features:  98.13 0.9258\n",
            "For  41 number of features:  98.15 0.9268\n",
            "For  42 number of features:  98.05 0.9226\n",
            "For  43 number of features:  98.16 0.9272\n",
            "For  44 number of features:  98.15 0.9266\n",
            "For  45 number of features:  98.11999999999999 0.9255\n",
            "For  46 number of features:  98.08 0.9239\n",
            "For  47 number of features:  98.1 0.9248\n",
            "For  48 number of features:  98.09 0.9245\n"
          ],
          "name": "stdout"
        },
        {
          "output_type": "error",
          "ename": "KeyboardInterrupt",
          "evalue": "ignored",
          "traceback": [
            "\u001b[0;31m---------------------------------------------------------------------------\u001b[0m",
            "\u001b[0;31mKeyboardInterrupt\u001b[0m                         Traceback (most recent call last)",
            "\u001b[0;32m<ipython-input-59-991e84a4c8da>\u001b[0m in \u001b[0;36m<module>\u001b[0;34m()\u001b[0m\n\u001b[1;32m      7\u001b[0m     \u001b[0mX_train\u001b[0m\u001b[0;34m,\u001b[0m \u001b[0my_train\u001b[0m\u001b[0;34m,\u001b[0m \u001b[0mX_test\u001b[0m\u001b[0;34m,\u001b[0m \u001b[0my_test\u001b[0m \u001b[0;34m=\u001b[0m \u001b[0mtrain_test_split\u001b[0m\u001b[0;34m(\u001b[0m\u001b[0mfeatures2\u001b[0m\u001b[0;34m,\u001b[0m\u001b[0mtarget\u001b[0m\u001b[0;34m,\u001b[0m \u001b[0mtest_size\u001b[0m \u001b[0;34m=\u001b[0m \u001b[0;36m0.3\u001b[0m\u001b[0;34m,\u001b[0m\u001b[0mstratify\u001b[0m\u001b[0;34m=\u001b[0m\u001b[0mtarget\u001b[0m\u001b[0;34m)\u001b[0m\u001b[0;34m\u001b[0m\u001b[0;34m\u001b[0m\u001b[0m\n\u001b[1;32m      8\u001b[0m     \u001b[0mxg\u001b[0m \u001b[0;34m=\u001b[0m \u001b[0mXGBClassifier\u001b[0m\u001b[0;34m(\u001b[0m\u001b[0mMAX_ROUNDS\u001b[0m\u001b[0;34m,\u001b[0m\u001b[0mearly_stopping_rounds\u001b[0m\u001b[0;34m=\u001b[0m\u001b[0mEARLY_STOP\u001b[0m\u001b[0;34m,\u001b[0m\u001b[0mmaximize\u001b[0m\u001b[0;34m=\u001b[0m\u001b[0;32mTrue\u001b[0m\u001b[0;34m)\u001b[0m\u001b[0;34m\u001b[0m\u001b[0;34m\u001b[0m\u001b[0m\n\u001b[0;32m----> 9\u001b[0;31m     \u001b[0mxg\u001b[0m\u001b[0;34m.\u001b[0m\u001b[0mfit\u001b[0m\u001b[0;34m(\u001b[0m\u001b[0mX_train\u001b[0m\u001b[0;34m,\u001b[0m\u001b[0mX_test\u001b[0m\u001b[0;34m)\u001b[0m\u001b[0;34m\u001b[0m\u001b[0;34m\u001b[0m\u001b[0m\n\u001b[0m\u001b[1;32m     10\u001b[0m     \u001b[0mpred\u001b[0m \u001b[0;34m=\u001b[0m \u001b[0mxg\u001b[0m\u001b[0;34m.\u001b[0m\u001b[0mpredict\u001b[0m\u001b[0;34m(\u001b[0m\u001b[0my_train\u001b[0m\u001b[0;34m)\u001b[0m\u001b[0;34m\u001b[0m\u001b[0;34m\u001b[0m\u001b[0m\n\u001b[1;32m     11\u001b[0m     \u001b[0macc\u001b[0m\u001b[0;34m.\u001b[0m\u001b[0mappend\u001b[0m\u001b[0;34m(\u001b[0m\u001b[0maccuracy_score\u001b[0m\u001b[0;34m(\u001b[0m\u001b[0my_test\u001b[0m\u001b[0;34m,\u001b[0m \u001b[0mpred\u001b[0m\u001b[0;34m)\u001b[0m\u001b[0;34m)\u001b[0m\u001b[0;34m\u001b[0m\u001b[0;34m\u001b[0m\u001b[0m\n",
            "\u001b[0;32m/usr/local/lib/python3.6/dist-packages/xgboost/sklearn.py\u001b[0m in \u001b[0;36mfit\u001b[0;34m(self, X, y, sample_weight, eval_set, eval_metric, early_stopping_rounds, verbose, xgb_model, sample_weight_eval_set, callbacks)\u001b[0m\n\u001b[1;32m    730\u001b[0m                               \u001b[0mevals_result\u001b[0m\u001b[0;34m=\u001b[0m\u001b[0mevals_result\u001b[0m\u001b[0;34m,\u001b[0m \u001b[0mobj\u001b[0m\u001b[0;34m=\u001b[0m\u001b[0mobj\u001b[0m\u001b[0;34m,\u001b[0m \u001b[0mfeval\u001b[0m\u001b[0;34m=\u001b[0m\u001b[0mfeval\u001b[0m\u001b[0;34m,\u001b[0m\u001b[0;34m\u001b[0m\u001b[0;34m\u001b[0m\u001b[0m\n\u001b[1;32m    731\u001b[0m                               \u001b[0mverbose_eval\u001b[0m\u001b[0;34m=\u001b[0m\u001b[0mverbose\u001b[0m\u001b[0;34m,\u001b[0m \u001b[0mxgb_model\u001b[0m\u001b[0;34m=\u001b[0m\u001b[0mxgb_model\u001b[0m\u001b[0;34m,\u001b[0m\u001b[0;34m\u001b[0m\u001b[0;34m\u001b[0m\u001b[0m\n\u001b[0;32m--> 732\u001b[0;31m                               callbacks=callbacks)\n\u001b[0m\u001b[1;32m    733\u001b[0m \u001b[0;34m\u001b[0m\u001b[0m\n\u001b[1;32m    734\u001b[0m         \u001b[0mself\u001b[0m\u001b[0;34m.\u001b[0m\u001b[0mobjective\u001b[0m \u001b[0;34m=\u001b[0m \u001b[0mxgb_options\u001b[0m\u001b[0;34m[\u001b[0m\u001b[0;34m\"objective\"\u001b[0m\u001b[0;34m]\u001b[0m\u001b[0;34m\u001b[0m\u001b[0;34m\u001b[0m\u001b[0m\n",
            "\u001b[0;32m/usr/local/lib/python3.6/dist-packages/xgboost/training.py\u001b[0m in \u001b[0;36mtrain\u001b[0;34m(params, dtrain, num_boost_round, evals, obj, feval, maximize, early_stopping_rounds, evals_result, verbose_eval, xgb_model, callbacks, learning_rates)\u001b[0m\n\u001b[1;32m    214\u001b[0m                            \u001b[0mevals\u001b[0m\u001b[0;34m=\u001b[0m\u001b[0mevals\u001b[0m\u001b[0;34m,\u001b[0m\u001b[0;34m\u001b[0m\u001b[0;34m\u001b[0m\u001b[0m\n\u001b[1;32m    215\u001b[0m                            \u001b[0mobj\u001b[0m\u001b[0;34m=\u001b[0m\u001b[0mobj\u001b[0m\u001b[0;34m,\u001b[0m \u001b[0mfeval\u001b[0m\u001b[0;34m=\u001b[0m\u001b[0mfeval\u001b[0m\u001b[0;34m,\u001b[0m\u001b[0;34m\u001b[0m\u001b[0;34m\u001b[0m\u001b[0m\n\u001b[0;32m--> 216\u001b[0;31m                            xgb_model=xgb_model, callbacks=callbacks)\n\u001b[0m\u001b[1;32m    217\u001b[0m \u001b[0;34m\u001b[0m\u001b[0m\n\u001b[1;32m    218\u001b[0m \u001b[0;34m\u001b[0m\u001b[0m\n",
            "\u001b[0;32m/usr/local/lib/python3.6/dist-packages/xgboost/training.py\u001b[0m in \u001b[0;36m_train_internal\u001b[0;34m(params, dtrain, num_boost_round, evals, obj, feval, xgb_model, callbacks)\u001b[0m\n\u001b[1;32m     72\u001b[0m         \u001b[0;31m# Skip the first update if it is a recovery step.\u001b[0m\u001b[0;34m\u001b[0m\u001b[0;34m\u001b[0m\u001b[0;34m\u001b[0m\u001b[0m\n\u001b[1;32m     73\u001b[0m         \u001b[0;32mif\u001b[0m \u001b[0mversion\u001b[0m \u001b[0;34m%\u001b[0m \u001b[0;36m2\u001b[0m \u001b[0;34m==\u001b[0m \u001b[0;36m0\u001b[0m\u001b[0;34m:\u001b[0m\u001b[0;34m\u001b[0m\u001b[0;34m\u001b[0m\u001b[0m\n\u001b[0;32m---> 74\u001b[0;31m             \u001b[0mbst\u001b[0m\u001b[0;34m.\u001b[0m\u001b[0mupdate\u001b[0m\u001b[0;34m(\u001b[0m\u001b[0mdtrain\u001b[0m\u001b[0;34m,\u001b[0m \u001b[0mi\u001b[0m\u001b[0;34m,\u001b[0m \u001b[0mobj\u001b[0m\u001b[0;34m)\u001b[0m\u001b[0;34m\u001b[0m\u001b[0;34m\u001b[0m\u001b[0m\n\u001b[0m\u001b[1;32m     75\u001b[0m             \u001b[0mbst\u001b[0m\u001b[0;34m.\u001b[0m\u001b[0msave_rabit_checkpoint\u001b[0m\u001b[0;34m(\u001b[0m\u001b[0;34m)\u001b[0m\u001b[0;34m\u001b[0m\u001b[0;34m\u001b[0m\u001b[0m\n\u001b[1;32m     76\u001b[0m             \u001b[0mversion\u001b[0m \u001b[0;34m+=\u001b[0m \u001b[0;36m1\u001b[0m\u001b[0;34m\u001b[0m\u001b[0;34m\u001b[0m\u001b[0m\n",
            "\u001b[0;32m/usr/local/lib/python3.6/dist-packages/xgboost/core.py\u001b[0m in \u001b[0;36mupdate\u001b[0;34m(self, dtrain, iteration, fobj)\u001b[0m\n\u001b[1;32m   1107\u001b[0m         \u001b[0;32mif\u001b[0m \u001b[0mfobj\u001b[0m \u001b[0;32mis\u001b[0m \u001b[0;32mNone\u001b[0m\u001b[0;34m:\u001b[0m\u001b[0;34m\u001b[0m\u001b[0;34m\u001b[0m\u001b[0m\n\u001b[1;32m   1108\u001b[0m             _check_call(_LIB.XGBoosterUpdateOneIter(self.handle, ctypes.c_int(iteration),\n\u001b[0;32m-> 1109\u001b[0;31m                                                     dtrain.handle))\n\u001b[0m\u001b[1;32m   1110\u001b[0m         \u001b[0;32melse\u001b[0m\u001b[0;34m:\u001b[0m\u001b[0;34m\u001b[0m\u001b[0;34m\u001b[0m\u001b[0m\n\u001b[1;32m   1111\u001b[0m             \u001b[0mpred\u001b[0m \u001b[0;34m=\u001b[0m \u001b[0mself\u001b[0m\u001b[0;34m.\u001b[0m\u001b[0mpredict\u001b[0m\u001b[0;34m(\u001b[0m\u001b[0mdtrain\u001b[0m\u001b[0;34m)\u001b[0m\u001b[0;34m\u001b[0m\u001b[0;34m\u001b[0m\u001b[0m\n",
            "\u001b[0;31mKeyboardInterrupt\u001b[0m: "
          ]
        }
      ]
    },
    {
      "cell_type": "code",
      "metadata": {
        "id": "wc5sb0P6o_-6"
      },
      "source": [
        ""
      ],
      "execution_count": null,
      "outputs": []
    }
  ]
}