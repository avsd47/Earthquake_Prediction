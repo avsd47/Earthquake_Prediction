{
  "nbformat": 4,
  "nbformat_minor": 0,
  "metadata": {
    "colab": {
      "name": "Earthquake Prediction(Chile).ipynb",
      "provenance": [],
      "collapsed_sections": [],
      "include_colab_link": true
    },
    "kernelspec": {
      "name": "python3",
      "display_name": "Python 3"
    }
  },
  "cells": [
    {
      "cell_type": "markdown",
      "metadata": {
        "id": "view-in-github",
        "colab_type": "text"
      },
      "source": [
        "<a href=\"https://colab.research.google.com/github/avsd47/Earthquake_Prediction/blob/main/Earthquake_Prediction(Chile).ipynb\" target=\"_parent\"><img src=\"https://colab.research.google.com/assets/colab-badge.svg\" alt=\"Open In Colab\"/></a>"
      ]
    },
    {
      "cell_type": "code",
      "metadata": {
        "colab": {
          "base_uri": "https://localhost:8080/"
        },
        "id": "5Y4zNI5-Q-Re",
        "outputId": "dca9dee3-7955-4386-c26f-d7f3b0484ee4"
      },
      "source": [
        "cd drive/MyDrive/Earthquake\\ Prediction"
      ],
      "execution_count": null,
      "outputs": [
        {
          "output_type": "stream",
          "text": [
            "/content/drive/MyDrive/Earthquake Prediction\n"
          ],
          "name": "stdout"
        }
      ]
    },
    {
      "cell_type": "markdown",
      "metadata": {
        "id": "OrDth3x5ROU_"
      },
      "source": [
        "## **EARTHQUAKE PREDICTION**"
      ]
    },
    {
      "cell_type": "code",
      "metadata": {
        "id": "NEZBye94RXsl"
      },
      "source": [
        "import numpy as np \n",
        "import pandas as pd \n",
        "import matplotlib.pyplot as plt\n",
        "import seaborn as sns\n",
        "sns.set(style=\"darkgrid\")\n",
        "import warnings\n",
        "warnings.filterwarnings(\"ignore\")\n",
        "%matplotlib inline"
      ],
      "execution_count": null,
      "outputs": []
    },
    {
      "cell_type": "code",
      "metadata": {
        "colab": {
          "base_uri": "https://localhost:8080/"
        },
        "id": "Uz24tp3XRf_z",
        "outputId": "9ca5fa02-da96-4fe0-8140-a12e393de318"
      },
      "source": [
        "pip install skfeature-chappers"
      ],
      "execution_count": null,
      "outputs": [
        {
          "output_type": "stream",
          "text": [
            "Collecting skfeature-chappers\n",
            "  Downloading https://files.pythonhosted.org/packages/e6/45/19bb801eb3b4a892534ab86468ad0669a68ff63578610f90051190e3622f/skfeature-chappers-1.0.3.tar.gz\n",
            "Building wheels for collected packages: skfeature-chappers\n",
            "  Building wheel for skfeature-chappers (setup.py) ... \u001b[?25l\u001b[?25hdone\n",
            "  Created wheel for skfeature-chappers: filename=skfeature_chappers-1.0.3-py2.py3-none-any.whl size=59510 sha256=95beb6129a4d270585c79e4f8ea7abe858b0035c4ee052f655a93caaa155d5da\n",
            "  Stored in directory: /root/.cache/pip/wheels/ac/61/bf/1b3a8c232a0072409508c2ec4c12f316e95681ae72ba7315d2\n",
            "Successfully built skfeature-chappers\n",
            "Installing collected packages: skfeature-chappers\n",
            "Successfully installed skfeature-chappers-1.0.3\n"
          ],
          "name": "stdout"
        }
      ]
    },
    {
      "cell_type": "markdown",
      "metadata": {
        "id": "iwEAFkChRo5N"
      },
      "source": [
        "## **CHILE**"
      ]
    },
    {
      "cell_type": "code",
      "metadata": {
        "colab": {
          "base_uri": "https://localhost:8080/",
          "height": 241
        },
        "id": "eRsMxM0CRf9W",
        "outputId": "d219d217-31ac-48e3-a423-58e184bf4b54"
      },
      "source": [
        "chile_df = pd.read_excel(\"ChilenM50dtp15.xlsx\")\n",
        "chile_df.head()\n"
      ],
      "execution_count": null,
      "outputs": [
        {
          "output_type": "execute_result",
          "data": {
            "text/html": [
              "<div>\n",
              "<style scoped>\n",
              "    .dataframe tbody tr th:only-of-type {\n",
              "        vertical-align: middle;\n",
              "    }\n",
              "\n",
              "    .dataframe tbody tr th {\n",
              "        vertical-align: top;\n",
              "    }\n",
              "\n",
              "    .dataframe thead th {\n",
              "        text-align: right;\n",
              "    }\n",
              "</style>\n",
              "<table border=\"1\" class=\"dataframe\">\n",
              "  <thead>\n",
              "    <tr style=\"text-align: right;\">\n",
              "      <th></th>\n",
              "      <th>T_Days</th>\n",
              "      <th>b_lik</th>\n",
              "      <th>a_lik</th>\n",
              "      <th>b_lsq</th>\n",
              "      <th>a_lsq</th>\n",
              "      <th>std_b_lik</th>\n",
              "      <th>std_b_lsq</th>\n",
              "      <th>T_Rec_lik4.0</th>\n",
              "      <th>T_Rec_lik4.1</th>\n",
              "      <th>T_Rec_lik4.2</th>\n",
              "      <th>T_Rec_lik4.3</th>\n",
              "      <th>T_Rec_lik4.4</th>\n",
              "      <th>T_Rec_lik4.5</th>\n",
              "      <th>T_Rec_lik4.6</th>\n",
              "      <th>T_Rec_lik4.7</th>\n",
              "      <th>T_Rec_lik4.8</th>\n",
              "      <th>T_Rec_lik4.9</th>\n",
              "      <th>T_Rec_lik5.0</th>\n",
              "      <th>T_Rec_lik5.1</th>\n",
              "      <th>T_Rec_lik5.2</th>\n",
              "      <th>T_Rec_lik5.3</th>\n",
              "      <th>T_Rec_lik5.4</th>\n",
              "      <th>T_Rec_lik5.5</th>\n",
              "      <th>T_Rec_lik5.6</th>\n",
              "      <th>T_Rec_lik5.7</th>\n",
              "      <th>T_Rec_lik5.8</th>\n",
              "      <th>T_Rec_lik5.9</th>\n",
              "      <th>T_Rec_lik6.0</th>\n",
              "      <th>T_Rec_lsq4.0</th>\n",
              "      <th>T_Rec_lsq4.1</th>\n",
              "      <th>T_Rec_lsq4.2</th>\n",
              "      <th>T_Rec_lsq4.3</th>\n",
              "      <th>T_Rec_lsq4.4</th>\n",
              "      <th>T_Rec_lsq4.5</th>\n",
              "      <th>T_Rec_lsq4.6</th>\n",
              "      <th>T_Rec_lsq4.7</th>\n",
              "      <th>T_Rec_lsq4.8</th>\n",
              "      <th>T_Rec_lsq4.9</th>\n",
              "      <th>T_Rec_lsq5.0</th>\n",
              "      <th>T_Rec_lsq5.1</th>\n",
              "      <th>T_Rec_lsq5.2</th>\n",
              "      <th>T_lsq_lsq5.3</th>\n",
              "      <th>T_Rec_lsq5.4</th>\n",
              "      <th>T_Rec_lsq5.5</th>\n",
              "      <th>T_Rec_lsq5.6</th>\n",
              "      <th>T_Rec_lsq5.7</th>\n",
              "      <th>T_Rec_lsq5.8</th>\n",
              "      <th>T_Rec_lsq5.9</th>\n",
              "      <th>T_Rec_lsq6.0</th>\n",
              "      <th>Beta Value</th>\n",
              "      <th>Z Value</th>\n",
              "      <th>Mean_Mag</th>\n",
              "      <th>Energy</th>\n",
              "      <th>M_def_Lik</th>\n",
              "      <th>M_def_lsq</th>\n",
              "      <th>NU_mlik</th>\n",
              "      <th>NU_lsq</th>\n",
              "      <th>x6</th>\n",
              "      <th>x7_mlk</th>\n",
              "      <th>x7_lsq</th>\n",
              "      <th>Actual Mag</th>\n",
              "    </tr>\n",
              "  </thead>\n",
              "  <tbody>\n",
              "    <tr>\n",
              "      <th>0</th>\n",
              "      <td>1696</td>\n",
              "      <td>0.336141</td>\n",
              "      <td>2.841850</td>\n",
              "      <td>0.632270</td>\n",
              "      <td>4.155267</td>\n",
              "      <td>0.020628</td>\n",
              "      <td>0.072984</td>\n",
              "      <td>53.968530</td>\n",
              "      <td>58.311567</td>\n",
              "      <td>63.004103</td>\n",
              "      <td>68.074265</td>\n",
              "      <td>73.552440</td>\n",
              "      <td>79.471463</td>\n",
              "      <td>85.866810</td>\n",
              "      <td>92.776814</td>\n",
              "      <td>100.242890</td>\n",
              "      <td>108.309787</td>\n",
              "      <td>117.025856</td>\n",
              "      <td>126.443338</td>\n",
              "      <td>136.618677</td>\n",
              "      <td>147.612862</td>\n",
              "      <td>159.491787</td>\n",
              "      <td>172.326651</td>\n",
              "      <td>186.194381</td>\n",
              "      <td>201.178097</td>\n",
              "      <td>217.367604</td>\n",
              "      <td>234.859939</td>\n",
              "      <td>253.759942</td>\n",
              "      <td>40.108684</td>\n",
              "      <td>46.394384</td>\n",
              "      <td>53.665157</td>\n",
              "      <td>62.075382</td>\n",
              "      <td>71.803630</td>\n",
              "      <td>83.056456</td>\n",
              "      <td>96.072788</td>\n",
              "      <td>111.128996</td>\n",
              "      <td>128.544762</td>\n",
              "      <td>148.689870</td>\n",
              "      <td>171.992052</td>\n",
              "      <td>198.946074</td>\n",
              "      <td>230.124242</td>\n",
              "      <td>266.188548</td>\n",
              "      <td>307.904732</td>\n",
              "      <td>356.158538</td>\n",
              "      <td>411.974520</td>\n",
              "      <td>476.537797</td>\n",
              "      <td>551.219216</td>\n",
              "      <td>637.604458</td>\n",
              "      <td>737.527709</td>\n",
              "      <td>-31.545807</td>\n",
              "      <td>18.459803</td>\n",
              "      <td>4.692</td>\n",
              "      <td>1.306916e+08</td>\n",
              "      <td>-2.254334</td>\n",
              "      <td>-0.371983</td>\n",
              "      <td>6.987495</td>\n",
              "      <td>22.483736</td>\n",
              "      <td>0.0</td>\n",
              "      <td>0.098079</td>\n",
              "      <td>0.012682</td>\n",
              "      <td>4.2</td>\n",
              "    </tr>\n",
              "    <tr>\n",
              "      <th>1</th>\n",
              "      <td>1610</td>\n",
              "      <td>0.339293</td>\n",
              "      <td>2.852565</td>\n",
              "      <td>0.631412</td>\n",
              "      <td>4.148291</td>\n",
              "      <td>0.021168</td>\n",
              "      <td>0.073311</td>\n",
              "      <td>51.455453</td>\n",
              "      <td>55.636611</td>\n",
              "      <td>60.157520</td>\n",
              "      <td>65.045788</td>\n",
              "      <td>70.331266</td>\n",
              "      <td>76.046231</td>\n",
              "      <td>82.225581</td>\n",
              "      <td>88.907051</td>\n",
              "      <td>96.131443</td>\n",
              "      <td>103.942873</td>\n",
              "      <td>112.389043</td>\n",
              "      <td>121.521530</td>\n",
              "      <td>131.396104</td>\n",
              "      <td>142.073063</td>\n",
              "      <td>153.617608</td>\n",
              "      <td>166.100239</td>\n",
              "      <td>179.597180</td>\n",
              "      <td>194.190853</td>\n",
              "      <td>209.970376</td>\n",
              "      <td>227.032108</td>\n",
              "      <td>245.480239</td>\n",
              "      <td>38.386927</td>\n",
              "      <td>44.394028</td>\n",
              "      <td>51.341170</td>\n",
              "      <td>59.375458</td>\n",
              "      <td>68.667017</td>\n",
              "      <td>79.412596</td>\n",
              "      <td>91.839731</td>\n",
              "      <td>106.211566</td>\n",
              "      <td>122.832424</td>\n",
              "      <td>142.054251</td>\n",
              "      <td>164.284067</td>\n",
              "      <td>189.992586</td>\n",
              "      <td>219.724186</td>\n",
              "      <td>254.108431</td>\n",
              "      <td>293.873405</td>\n",
              "      <td>339.861129</td>\n",
              "      <td>393.045389</td>\n",
              "      <td>454.552359</td>\n",
              "      <td>525.684445</td>\n",
              "      <td>607.947863</td>\n",
              "      <td>703.084537</td>\n",
              "      <td>-30.535170</td>\n",
              "      <td>18.031221</td>\n",
              "      <td>4.680</td>\n",
              "      <td>1.364054e+08</td>\n",
              "      <td>-2.207389</td>\n",
              "      <td>-0.369863</td>\n",
              "      <td>7.102327</td>\n",
              "      <td>22.422022</td>\n",
              "      <td>4.9</td>\n",
              "      <td>0.095967</td>\n",
              "      <td>0.012757</td>\n",
              "      <td>0.0</td>\n",
              "    </tr>\n",
              "    <tr>\n",
              "      <th>2</th>\n",
              "      <td>1626</td>\n",
              "      <td>0.344132</td>\n",
              "      <td>2.869019</td>\n",
              "      <td>0.629500</td>\n",
              "      <td>4.135118</td>\n",
              "      <td>0.022175</td>\n",
              "      <td>0.074199</td>\n",
              "      <td>52.315417</td>\n",
              "      <td>56.629520</td>\n",
              "      <td>61.299379</td>\n",
              "      <td>66.354329</td>\n",
              "      <td>71.826128</td>\n",
              "      <td>77.749150</td>\n",
              "      <td>84.160603</td>\n",
              "      <td>91.100767</td>\n",
              "      <td>98.613239</td>\n",
              "      <td>106.745215</td>\n",
              "      <td>115.547780</td>\n",
              "      <td>125.076235</td>\n",
              "      <td>135.390437</td>\n",
              "      <td>146.555183</td>\n",
              "      <td>158.640611</td>\n",
              "      <td>171.722644</td>\n",
              "      <td>185.883465</td>\n",
              "      <td>201.212034</td>\n",
              "      <td>217.804648</td>\n",
              "      <td>235.765544</td>\n",
              "      <td>255.207555</td>\n",
              "      <td>39.264546</td>\n",
              "      <td>45.388993</td>\n",
              "      <td>52.468724</td>\n",
              "      <td>60.652746</td>\n",
              "      <td>70.113303</td>\n",
              "      <td>81.049508</td>\n",
              "      <td>93.691533</td>\n",
              "      <td>108.305448</td>\n",
              "      <td>125.198829</td>\n",
              "      <td>144.727222</td>\n",
              "      <td>167.301635</td>\n",
              "      <td>193.397184</td>\n",
              "      <td>223.563091</td>\n",
              "      <td>258.434248</td>\n",
              "      <td>298.744574</td>\n",
              "      <td>345.342466</td>\n",
              "      <td>399.208653</td>\n",
              "      <td>461.476836</td>\n",
              "      <td>533.457551</td>\n",
              "      <td>616.665749</td>\n",
              "      <td>712.852681</td>\n",
              "      <td>-30.724573</td>\n",
              "      <td>18.112149</td>\n",
              "      <td>4.662</td>\n",
              "      <td>1.335294e+08</td>\n",
              "      <td>-2.136973</td>\n",
              "      <td>-0.368898</td>\n",
              "      <td>7.278828</td>\n",
              "      <td>22.285616</td>\n",
              "      <td>0.0</td>\n",
              "      <td>0.092812</td>\n",
              "      <td>0.012927</td>\n",
              "      <td>3.6</td>\n",
              "    </tr>\n",
              "    <tr>\n",
              "      <th>3</th>\n",
              "      <td>1588</td>\n",
              "      <td>0.351371</td>\n",
              "      <td>2.893631</td>\n",
              "      <td>0.626273</td>\n",
              "      <td>4.113729</td>\n",
              "      <td>0.023844</td>\n",
              "      <td>0.075750</td>\n",
              "      <td>51.606340</td>\n",
              "      <td>55.955161</td>\n",
              "      <td>60.670454</td>\n",
              "      <td>65.783101</td>\n",
              "      <td>71.326585</td>\n",
              "      <td>77.337215</td>\n",
              "      <td>83.854355</td>\n",
              "      <td>90.920689</td>\n",
              "      <td>98.582496</td>\n",
              "      <td>106.889957</td>\n",
              "      <td>115.897481</td>\n",
              "      <td>125.664061</td>\n",
              "      <td>136.253663</td>\n",
              "      <td>147.735641</td>\n",
              "      <td>160.185195</td>\n",
              "      <td>173.683862</td>\n",
              "      <td>188.320050</td>\n",
              "      <td>204.189618</td>\n",
              "      <td>221.396499</td>\n",
              "      <td>240.053390</td>\n",
              "      <td>260.282481</td>\n",
              "      <td>39.103234</td>\n",
              "      <td>45.168945</td>\n",
              "      <td>52.175573</td>\n",
              "      <td>60.269073</td>\n",
              "      <td>69.618039</td>\n",
              "      <td>80.417222</td>\n",
              "      <td>92.891579</td>\n",
              "      <td>107.300964</td>\n",
              "      <td>123.945540</td>\n",
              "      <td>143.172030</td>\n",
              "      <td>165.380942</td>\n",
              "      <td>191.034910</td>\n",
              "      <td>220.668335</td>\n",
              "      <td>254.898510</td>\n",
              "      <td>294.438486</td>\n",
              "      <td>340.111921</td>\n",
              "      <td>392.870241</td>\n",
              "      <td>453.812456</td>\n",
              "      <td>524.208056</td>\n",
              "      <td>605.523455</td>\n",
              "      <td>699.452535</td>\n",
              "      <td>-30.273662</td>\n",
              "      <td>17.919014</td>\n",
              "      <td>4.636</td>\n",
              "      <td>1.346086e+08</td>\n",
              "      <td>-2.035260</td>\n",
              "      <td>-0.368590</td>\n",
              "      <td>7.546802</td>\n",
              "      <td>22.056885</td>\n",
              "      <td>3.9</td>\n",
              "      <td>0.088285</td>\n",
              "      <td>0.013218</td>\n",
              "      <td>0.0</td>\n",
              "    </tr>\n",
              "    <tr>\n",
              "      <th>4</th>\n",
              "      <td>1601</td>\n",
              "      <td>0.351940</td>\n",
              "      <td>2.895567</td>\n",
              "      <td>0.626185</td>\n",
              "      <td>4.112698</td>\n",
              "      <td>0.023920</td>\n",
              "      <td>0.075722</td>\n",
              "      <td>52.069761</td>\n",
              "      <td>56.465038</td>\n",
              "      <td>61.231326</td>\n",
              "      <td>66.399943</td>\n",
              "      <td>72.004850</td>\n",
              "      <td>78.082874</td>\n",
              "      <td>84.673953</td>\n",
              "      <td>91.821393</td>\n",
              "      <td>99.572158</td>\n",
              "      <td>107.977175</td>\n",
              "      <td>117.091671</td>\n",
              "      <td>126.975534</td>\n",
              "      <td>137.693706</td>\n",
              "      <td>149.316613</td>\n",
              "      <td>161.920626</td>\n",
              "      <td>175.588559</td>\n",
              "      <td>190.410221</td>\n",
              "      <td>206.482999</td>\n",
              "      <td>223.912502</td>\n",
              "      <td>242.813252</td>\n",
              "      <td>263.309439</td>\n",
              "      <td>39.485233</td>\n",
              "      <td>45.609284</td>\n",
              "      <td>52.683158</td>\n",
              "      <td>60.854170</td>\n",
              "      <td>70.292484</td>\n",
              "      <td>81.194654</td>\n",
              "      <td>93.787721</td>\n",
              "      <td>108.333937</td>\n",
              "      <td>125.136232</td>\n",
              "      <td>144.544516</td>\n",
              "      <td>166.962971</td>\n",
              "      <td>192.858467</td>\n",
              "      <td>222.770282</td>\n",
              "      <td>257.321338</td>\n",
              "      <td>297.231167</td>\n",
              "      <td>343.330900</td>\n",
              "      <td>396.580574</td>\n",
              "      <td>458.089126</td>\n",
              "      <td>529.137484</td>\n",
              "      <td>611.205246</td>\n",
              "      <td>706.001492</td>\n",
              "      <td>-30.428342</td>\n",
              "      <td>17.985449</td>\n",
              "      <td>4.634</td>\n",
              "      <td>1.332520e+08</td>\n",
              "      <td>-2.027436</td>\n",
              "      <td>-0.367860</td>\n",
              "      <td>7.568759</td>\n",
              "      <td>22.050580</td>\n",
              "      <td>0.0</td>\n",
              "      <td>0.087938</td>\n",
              "      <td>0.013226</td>\n",
              "      <td>5.4</td>\n",
              "    </tr>\n",
              "  </tbody>\n",
              "</table>\n",
              "</div>"
            ],
            "text/plain": [
              "   T_Days     b_lik     a_lik     b_lsq  ...  x6    x7_mlk     x7_lsq  Actual Mag\n",
              "0    1696  0.336141  2.841850  0.632270  ...  0.0  0.098079  0.012682         4.2\n",
              "1    1610  0.339293  2.852565  0.631412  ...  4.9  0.095967  0.012757         0.0\n",
              "2    1626  0.344132  2.869019  0.629500  ...  0.0  0.092812  0.012927         3.6\n",
              "3    1588  0.351371  2.893631  0.626273  ...  3.9  0.088285  0.013218         0.0\n",
              "4    1601  0.351940  2.895567  0.626185  ...  0.0  0.087938  0.013226         5.4\n",
              "\n",
              "[5 rows x 61 columns]"
            ]
          },
          "metadata": {
            "tags": []
          },
          "execution_count": 4
        }
      ]
    },
    {
      "cell_type": "code",
      "metadata": {
        "id": "QzKh8QT0R6hZ"
      },
      "source": [
        "chile_df = chile_df[chile_df[\"Actual Mag\"]>3.4] #Applying cutoff magnitude"
      ],
      "execution_count": null,
      "outputs": []
    },
    {
      "cell_type": "code",
      "metadata": {
        "id": "_iHYCYiASHAT"
      },
      "source": [
        "def label(row):\n",
        "    if row[\"Actual Mag\"] >5:  #Threshold magnitude\n",
        "        return 1\n",
        "    else:\n",
        "        return 0"
      ],
      "execution_count": null,
      "outputs": []
    },
    {
      "cell_type": "code",
      "metadata": {
        "id": "m7tud9VpSQ3-"
      },
      "source": [
        "chile_df['mag'] = chile_df.apply (lambda row: label(row), axis=1) #Applying threshold on chile dataset"
      ],
      "execution_count": null,
      "outputs": []
    },
    {
      "cell_type": "code",
      "metadata": {
        "colab": {
          "base_uri": "https://localhost:8080/"
        },
        "id": "RGoVXcEqTIGH",
        "outputId": "33ab0415-d1a5-4ce7-cb00-9274c31e44c7"
      },
      "source": [
        "pd.options.display.max_rows = 400\n",
        "chile_df.isnull().sum()"
      ],
      "execution_count": null,
      "outputs": [
        {
          "output_type": "execute_result",
          "data": {
            "text/plain": [
              "T_Days           0\n",
              "b_lik            0\n",
              "a_lik            0\n",
              "b_lsq            0\n",
              "a_lsq            0\n",
              "std_b_lik        0\n",
              "std_b_lsq        0\n",
              "T_Rec_lik4.0     0\n",
              "T_Rec_lik4.1     0\n",
              "T_Rec_lik4.2     0\n",
              "T_Rec_lik4.3     0\n",
              "T_Rec_lik4.4     0\n",
              "T_Rec_lik4.5     0\n",
              "T_Rec_lik4.6     0\n",
              "T_Rec_lik4.7     0\n",
              "T_Rec_lik4.8     0\n",
              "T_Rec_lik4.9     0\n",
              "T_Rec_lik5.0     0\n",
              "T_Rec_lik5.1     0\n",
              "T_Rec_lik5.2     0\n",
              "T_Rec_lik5.3     0\n",
              "T_Rec_lik5.4     0\n",
              "T_Rec_lik5.5     0\n",
              "T_Rec_lik5.6     0\n",
              "T_Rec_lik5.7     0\n",
              "T_Rec_lik5.8     0\n",
              "T_Rec_lik5.9     0\n",
              "T_Rec_lik6.0     0\n",
              "T_Rec_lsq4.0     0\n",
              "T_Rec_lsq4.1     0\n",
              "T_Rec_lsq4.2     0\n",
              "T_Rec_lsq4.3     0\n",
              "T_Rec_lsq4.4     0\n",
              "T_Rec_lsq4.5     0\n",
              "T_Rec_lsq4.6     0\n",
              "T_Rec_lsq4.7     0\n",
              "T_Rec_lsq4.8     0\n",
              "T_Rec_lsq4.9     0\n",
              "T_Rec_lsq5.0     0\n",
              "T_Rec_lsq5.1     0\n",
              "T_Rec_lsq5.2     0\n",
              "T_lsq_lsq5.3     0\n",
              "T_Rec_lsq5.4     0\n",
              "T_Rec_lsq5.5     0\n",
              "T_Rec_lsq5.6     0\n",
              "T_Rec_lsq5.7     0\n",
              "T_Rec_lsq5.8     0\n",
              "T_Rec_lsq5.9     0\n",
              "T_Rec_lsq6.0     0\n",
              "Beta Value       0\n",
              "Z Value         65\n",
              "Mean_Mag         0\n",
              "Energy           0\n",
              "M_def_Lik        0\n",
              "M_def_lsq        0\n",
              "NU_mlik          0\n",
              "NU_lsq           0\n",
              "x6               0\n",
              "x7_mlk           0\n",
              "x7_lsq           0\n",
              "Actual Mag       0\n",
              "mag              0\n",
              "dtype: int64"
            ]
          },
          "metadata": {
            "tags": []
          },
          "execution_count": 9
        }
      ]
    },
    {
      "cell_type": "code",
      "metadata": {
        "id": "VRW7-jdGShWQ"
      },
      "source": [
        "chile_df = chile_df.dropna()"
      ],
      "execution_count": null,
      "outputs": []
    },
    {
      "cell_type": "code",
      "metadata": {
        "colab": {
          "base_uri": "https://localhost:8080/"
        },
        "id": "gC4WzXM3TQ1I",
        "outputId": "6d2fc22d-e7f7-4708-adcb-12e4d618289e"
      },
      "source": [
        "pd.options.display.max_rows = 400\n",
        "chile_df.isnull().sum()"
      ],
      "execution_count": null,
      "outputs": [
        {
          "output_type": "execute_result",
          "data": {
            "text/plain": [
              "T_Days          0\n",
              "b_lik           0\n",
              "a_lik           0\n",
              "b_lsq           0\n",
              "a_lsq           0\n",
              "std_b_lik       0\n",
              "std_b_lsq       0\n",
              "T_Rec_lik4.0    0\n",
              "T_Rec_lik4.1    0\n",
              "T_Rec_lik4.2    0\n",
              "T_Rec_lik4.3    0\n",
              "T_Rec_lik4.4    0\n",
              "T_Rec_lik4.5    0\n",
              "T_Rec_lik4.6    0\n",
              "T_Rec_lik4.7    0\n",
              "T_Rec_lik4.8    0\n",
              "T_Rec_lik4.9    0\n",
              "T_Rec_lik5.0    0\n",
              "T_Rec_lik5.1    0\n",
              "T_Rec_lik5.2    0\n",
              "T_Rec_lik5.3    0\n",
              "T_Rec_lik5.4    0\n",
              "T_Rec_lik5.5    0\n",
              "T_Rec_lik5.6    0\n",
              "T_Rec_lik5.7    0\n",
              "T_Rec_lik5.8    0\n",
              "T_Rec_lik5.9    0\n",
              "T_Rec_lik6.0    0\n",
              "T_Rec_lsq4.0    0\n",
              "T_Rec_lsq4.1    0\n",
              "T_Rec_lsq4.2    0\n",
              "T_Rec_lsq4.3    0\n",
              "T_Rec_lsq4.4    0\n",
              "T_Rec_lsq4.5    0\n",
              "T_Rec_lsq4.6    0\n",
              "T_Rec_lsq4.7    0\n",
              "T_Rec_lsq4.8    0\n",
              "T_Rec_lsq4.9    0\n",
              "T_Rec_lsq5.0    0\n",
              "T_Rec_lsq5.1    0\n",
              "T_Rec_lsq5.2    0\n",
              "T_lsq_lsq5.3    0\n",
              "T_Rec_lsq5.4    0\n",
              "T_Rec_lsq5.5    0\n",
              "T_Rec_lsq5.6    0\n",
              "T_Rec_lsq5.7    0\n",
              "T_Rec_lsq5.8    0\n",
              "T_Rec_lsq5.9    0\n",
              "T_Rec_lsq6.0    0\n",
              "Beta Value      0\n",
              "Z Value         0\n",
              "Mean_Mag        0\n",
              "Energy          0\n",
              "M_def_Lik       0\n",
              "M_def_lsq       0\n",
              "NU_mlik         0\n",
              "NU_lsq          0\n",
              "x6              0\n",
              "x7_mlk          0\n",
              "x7_lsq          0\n",
              "Actual Mag      0\n",
              "mag             0\n",
              "dtype: int64"
            ]
          },
          "metadata": {
            "tags": []
          },
          "execution_count": 11
        }
      ]
    },
    {
      "cell_type": "code",
      "metadata": {
        "id": "XhhKYhNgTCeT"
      },
      "source": [
        "features = chile_df.iloc[:,0:60].to_numpy()\n",
        "target = chile_df[\"mag\"].to_numpy()"
      ],
      "execution_count": null,
      "outputs": []
    },
    {
      "cell_type": "code",
      "metadata": {
        "colab": {
          "base_uri": "https://localhost:8080/"
        },
        "id": "9Ktskc-vTdxq",
        "outputId": "5ac1b35e-463e-4cee-c900-466a99b52c28"
      },
      "source": [
        "from sklearn.preprocessing import StandardScaler\n",
        "scaler=StandardScaler()\n",
        "scaler.fit(features)"
      ],
      "execution_count": null,
      "outputs": [
        {
          "output_type": "execute_result",
          "data": {
            "text/plain": [
              "StandardScaler(copy=True, with_mean=True, with_std=True)"
            ]
          },
          "metadata": {
            "tags": []
          },
          "execution_count": 13
        }
      ]
    },
    {
      "cell_type": "code",
      "metadata": {
        "colab": {
          "base_uri": "https://localhost:8080/",
          "height": 317
        },
        "id": "xBz9xteQTsw0",
        "outputId": "ddb0cc77-ff9c-4daa-9b01-0337f3a0b241"
      },
      "source": [
        "chile_df.describe()"
      ],
      "execution_count": null,
      "outputs": [
        {
          "output_type": "execute_result",
          "data": {
            "text/html": [
              "<div>\n",
              "<style scoped>\n",
              "    .dataframe tbody tr th:only-of-type {\n",
              "        vertical-align: middle;\n",
              "    }\n",
              "\n",
              "    .dataframe tbody tr th {\n",
              "        vertical-align: top;\n",
              "    }\n",
              "\n",
              "    .dataframe thead th {\n",
              "        text-align: right;\n",
              "    }\n",
              "</style>\n",
              "<table border=\"1\" class=\"dataframe\">\n",
              "  <thead>\n",
              "    <tr style=\"text-align: right;\">\n",
              "      <th></th>\n",
              "      <th>T_Days</th>\n",
              "      <th>b_lik</th>\n",
              "      <th>a_lik</th>\n",
              "      <th>b_lsq</th>\n",
              "      <th>a_lsq</th>\n",
              "      <th>std_b_lik</th>\n",
              "      <th>std_b_lsq</th>\n",
              "      <th>T_Rec_lik4.0</th>\n",
              "      <th>T_Rec_lik4.1</th>\n",
              "      <th>T_Rec_lik4.2</th>\n",
              "      <th>T_Rec_lik4.3</th>\n",
              "      <th>T_Rec_lik4.4</th>\n",
              "      <th>T_Rec_lik4.5</th>\n",
              "      <th>T_Rec_lik4.6</th>\n",
              "      <th>T_Rec_lik4.7</th>\n",
              "      <th>T_Rec_lik4.8</th>\n",
              "      <th>T_Rec_lik4.9</th>\n",
              "      <th>T_Rec_lik5.0</th>\n",
              "      <th>T_Rec_lik5.1</th>\n",
              "      <th>T_Rec_lik5.2</th>\n",
              "      <th>T_Rec_lik5.3</th>\n",
              "      <th>T_Rec_lik5.4</th>\n",
              "      <th>T_Rec_lik5.5</th>\n",
              "      <th>T_Rec_lik5.6</th>\n",
              "      <th>T_Rec_lik5.7</th>\n",
              "      <th>T_Rec_lik5.8</th>\n",
              "      <th>T_Rec_lik5.9</th>\n",
              "      <th>T_Rec_lik6.0</th>\n",
              "      <th>T_Rec_lsq4.0</th>\n",
              "      <th>T_Rec_lsq4.1</th>\n",
              "      <th>T_Rec_lsq4.2</th>\n",
              "      <th>T_Rec_lsq4.3</th>\n",
              "      <th>T_Rec_lsq4.4</th>\n",
              "      <th>T_Rec_lsq4.5</th>\n",
              "      <th>T_Rec_lsq4.6</th>\n",
              "      <th>T_Rec_lsq4.7</th>\n",
              "      <th>T_Rec_lsq4.8</th>\n",
              "      <th>T_Rec_lsq4.9</th>\n",
              "      <th>T_Rec_lsq5.0</th>\n",
              "      <th>T_Rec_lsq5.1</th>\n",
              "      <th>T_Rec_lsq5.2</th>\n",
              "      <th>T_lsq_lsq5.3</th>\n",
              "      <th>T_Rec_lsq5.4</th>\n",
              "      <th>T_Rec_lsq5.5</th>\n",
              "      <th>T_Rec_lsq5.6</th>\n",
              "      <th>T_Rec_lsq5.7</th>\n",
              "      <th>T_Rec_lsq5.8</th>\n",
              "      <th>T_Rec_lsq5.9</th>\n",
              "      <th>T_Rec_lsq6.0</th>\n",
              "      <th>Beta Value</th>\n",
              "      <th>Z Value</th>\n",
              "      <th>Mean_Mag</th>\n",
              "      <th>Energy</th>\n",
              "      <th>M_def_Lik</th>\n",
              "      <th>M_def_lsq</th>\n",
              "      <th>NU_mlik</th>\n",
              "      <th>NU_lsq</th>\n",
              "      <th>x6</th>\n",
              "      <th>x7_mlk</th>\n",
              "      <th>x7_lsq</th>\n",
              "      <th>Actual Mag</th>\n",
              "      <th>mag</th>\n",
              "    </tr>\n",
              "  </thead>\n",
              "  <tbody>\n",
              "    <tr>\n",
              "      <th>count</th>\n",
              "      <td>7489.000000</td>\n",
              "      <td>7489.000000</td>\n",
              "      <td>7489.000000</td>\n",
              "      <td>7489.000000</td>\n",
              "      <td>7489.000000</td>\n",
              "      <td>7489.000000</td>\n",
              "      <td>7489.000000</td>\n",
              "      <td>7489.000000</td>\n",
              "      <td>7489.000000</td>\n",
              "      <td>7489.000000</td>\n",
              "      <td>7489.000000</td>\n",
              "      <td>7489.000000</td>\n",
              "      <td>7489.000000</td>\n",
              "      <td>7489.000000</td>\n",
              "      <td>7489.000000</td>\n",
              "      <td>7489.000000</td>\n",
              "      <td>7489.000000</td>\n",
              "      <td>7489.000000</td>\n",
              "      <td>7489.000000</td>\n",
              "      <td>7.489000e+03</td>\n",
              "      <td>7.489000e+03</td>\n",
              "      <td>7.489000e+03</td>\n",
              "      <td>7.489000e+03</td>\n",
              "      <td>7.489000e+03</td>\n",
              "      <td>7.489000e+03</td>\n",
              "      <td>7.489000e+03</td>\n",
              "      <td>7.489000e+03</td>\n",
              "      <td>7.489000e+03</td>\n",
              "      <td>7489.000000</td>\n",
              "      <td>7489.000000</td>\n",
              "      <td>7489.000000</td>\n",
              "      <td>7489.000000</td>\n",
              "      <td>7489.000000</td>\n",
              "      <td>7489.000000</td>\n",
              "      <td>7489.000000</td>\n",
              "      <td>7489.000000</td>\n",
              "      <td>7489.000000</td>\n",
              "      <td>7489.000000</td>\n",
              "      <td>7489.000000</td>\n",
              "      <td>7489.000000</td>\n",
              "      <td>7489.000000</td>\n",
              "      <td>7489.000000</td>\n",
              "      <td>7489.000000</td>\n",
              "      <td>7489.000000</td>\n",
              "      <td>7.489000e+03</td>\n",
              "      <td>7.489000e+03</td>\n",
              "      <td>7.489000e+03</td>\n",
              "      <td>7.489000e+03</td>\n",
              "      <td>7.489000e+03</td>\n",
              "      <td>7489.000000</td>\n",
              "      <td>7489.000000</td>\n",
              "      <td>7489.000000</td>\n",
              "      <td>7.489000e+03</td>\n",
              "      <td>7489.000000</td>\n",
              "      <td>7489.000000</td>\n",
              "      <td>7489.000000</td>\n",
              "      <td>7489.000000</td>\n",
              "      <td>7489.000000</td>\n",
              "      <td>7.489000e+03</td>\n",
              "      <td>7.489000e+03</td>\n",
              "      <td>7489.000000</td>\n",
              "      <td>7489.000000</td>\n",
              "    </tr>\n",
              "    <tr>\n",
              "      <th>mean</th>\n",
              "      <td>75.446522</td>\n",
              "      <td>1.074241</td>\n",
              "      <td>5.384185</td>\n",
              "      <td>1.156496</td>\n",
              "      <td>5.766996</td>\n",
              "      <td>0.137957</td>\n",
              "      <td>0.151469</td>\n",
              "      <td>6.020259</td>\n",
              "      <td>8.138518</td>\n",
              "      <td>11.273451</td>\n",
              "      <td>16.061349</td>\n",
              "      <td>23.623356</td>\n",
              "      <td>35.984046</td>\n",
              "      <td>56.879684</td>\n",
              "      <td>93.336882</td>\n",
              "      <td>158.787658</td>\n",
              "      <td>279.272875</td>\n",
              "      <td>505.899573</td>\n",
              "      <td>940.049381</td>\n",
              "      <td>1.784752e+03</td>\n",
              "      <td>3.450074e+03</td>\n",
              "      <td>6.770638e+03</td>\n",
              "      <td>1.345716e+04</td>\n",
              "      <td>2.703876e+04</td>\n",
              "      <td>5.483922e+04</td>\n",
              "      <td>1.121408e+05</td>\n",
              "      <td>2.309946e+05</td>\n",
              "      <td>4.789351e+05</td>\n",
              "      <td>4.964531</td>\n",
              "      <td>6.530130</td>\n",
              "      <td>8.659013</td>\n",
              "      <td>11.581481</td>\n",
              "      <td>15.634202</td>\n",
              "      <td>21.315317</td>\n",
              "      <td>29.371237</td>\n",
              "      <td>40.935217</td>\n",
              "      <td>57.751483</td>\n",
              "      <td>82.542561</td>\n",
              "      <td>119.619145</td>\n",
              "      <td>175.905486</td>\n",
              "      <td>262.684428</td>\n",
              "      <td>398.601488</td>\n",
              "      <td>614.892349</td>\n",
              "      <td>964.570563</td>\n",
              "      <td>1.538724e+03</td>\n",
              "      <td>2.495659e+03</td>\n",
              "      <td>4.113415e+03</td>\n",
              "      <td>6.885018e+03</td>\n",
              "      <td>1.169226e+04</td>\n",
              "      <td>6.710154</td>\n",
              "      <td>-5.121461</td>\n",
              "      <td>3.938496</td>\n",
              "      <td>8.781588e+09</td>\n",
              "      <td>-0.221158</td>\n",
              "      <td>-0.011861</td>\n",
              "      <td>29.772385</td>\n",
              "      <td>32.194880</td>\n",
              "      <td>4.411938</td>\n",
              "      <td>9.423040e-03</td>\n",
              "      <td>2.448603e-03</td>\n",
              "      <td>4.741488</td>\n",
              "      <td>0.221925</td>\n",
              "    </tr>\n",
              "    <tr>\n",
              "      <th>std</th>\n",
              "      <td>126.001026</td>\n",
              "      <td>0.404473</td>\n",
              "      <td>1.344968</td>\n",
              "      <td>0.347377</td>\n",
              "      <td>1.209385</td>\n",
              "      <td>0.080850</td>\n",
              "      <td>0.052819</td>\n",
              "      <td>7.347665</td>\n",
              "      <td>12.423700</td>\n",
              "      <td>23.049109</td>\n",
              "      <td>44.945730</td>\n",
              "      <td>90.033864</td>\n",
              "      <td>183.460436</td>\n",
              "      <td>378.677478</td>\n",
              "      <td>790.037600</td>\n",
              "      <td>1663.552914</td>\n",
              "      <td>3530.965641</td>\n",
              "      <td>7546.021189</td>\n",
              "      <td>16219.805272</td>\n",
              "      <td>3.503115e+04</td>\n",
              "      <td>7.595765e+04</td>\n",
              "      <td>1.652254e+05</td>\n",
              "      <td>3.603301e+05</td>\n",
              "      <td>7.874460e+05</td>\n",
              "      <td>1.723679e+06</td>\n",
              "      <td>3.778001e+06</td>\n",
              "      <td>8.289374e+06</td>\n",
              "      <td>1.820303e+07</td>\n",
              "      <td>4.262280</td>\n",
              "      <td>5.607431</td>\n",
              "      <td>7.795411</td>\n",
              "      <td>11.568483</td>\n",
              "      <td>18.315036</td>\n",
              "      <td>30.606243</td>\n",
              "      <td>53.222033</td>\n",
              "      <td>95.113725</td>\n",
              "      <td>173.130740</td>\n",
              "      <td>319.080351</td>\n",
              "      <td>593.105577</td>\n",
              "      <td>1109.050723</td>\n",
              "      <td>2082.575980</td>\n",
              "      <td>3922.447439</td>\n",
              "      <td>7403.777151</td>\n",
              "      <td>13996.822610</td>\n",
              "      <td>2.649109e+04</td>\n",
              "      <td>5.018007e+04</td>\n",
              "      <td>9.511029e+04</td>\n",
              "      <td>1.803512e+05</td>\n",
              "      <td>3.421016e+05</td>\n",
              "      <td>12.715098</td>\n",
              "      <td>58.756399</td>\n",
              "      <td>0.337897</td>\n",
              "      <td>4.147066e+10</td>\n",
              "      <td>0.732064</td>\n",
              "      <td>0.318692</td>\n",
              "      <td>19.015627</td>\n",
              "      <td>8.141757</td>\n",
              "      <td>1.239806</td>\n",
              "      <td>2.314880e-02</td>\n",
              "      <td>5.643039e-03</td>\n",
              "      <td>0.738637</td>\n",
              "      <td>0.415569</td>\n",
              "    </tr>\n",
              "    <tr>\n",
              "      <th>min</th>\n",
              "      <td>1.000000</td>\n",
              "      <td>0.256372</td>\n",
              "      <td>2.621910</td>\n",
              "      <td>0.448686</td>\n",
              "      <td>2.846529</td>\n",
              "      <td>0.016199</td>\n",
              "      <td>0.033600</td>\n",
              "      <td>0.016152</td>\n",
              "      <td>0.020000</td>\n",
              "      <td>0.022971</td>\n",
              "      <td>0.026384</td>\n",
              "      <td>0.030303</td>\n",
              "      <td>0.034805</td>\n",
              "      <td>0.037662</td>\n",
              "      <td>0.040122</td>\n",
              "      <td>0.042744</td>\n",
              "      <td>0.045537</td>\n",
              "      <td>0.048512</td>\n",
              "      <td>0.051681</td>\n",
              "      <td>5.505818e-02</td>\n",
              "      <td>5.865552e-02</td>\n",
              "      <td>6.248789e-02</td>\n",
              "      <td>6.657066e-02</td>\n",
              "      <td>7.092018e-02</td>\n",
              "      <td>7.555389e-02</td>\n",
              "      <td>8.049035e-02</td>\n",
              "      <td>8.574935e-02</td>\n",
              "      <td>9.135195e-02</td>\n",
              "      <td>0.009225</td>\n",
              "      <td>0.012323</td>\n",
              "      <td>0.015414</td>\n",
              "      <td>0.018811</td>\n",
              "      <td>0.022958</td>\n",
              "      <td>0.028018</td>\n",
              "      <td>0.032248</td>\n",
              "      <td>0.036677</td>\n",
              "      <td>0.041715</td>\n",
              "      <td>0.047444</td>\n",
              "      <td>0.053960</td>\n",
              "      <td>0.061371</td>\n",
              "      <td>0.069800</td>\n",
              "      <td>0.079387</td>\n",
              "      <td>0.090290</td>\n",
              "      <td>0.102691</td>\n",
              "      <td>1.167953e-01</td>\n",
              "      <td>1.328365e-01</td>\n",
              "      <td>1.510809e-01</td>\n",
              "      <td>1.718310e-01</td>\n",
              "      <td>1.954310e-01</td>\n",
              "      <td>-31.545807</td>\n",
              "      <td>-2601.437919</td>\n",
              "      <td>3.526000</td>\n",
              "      <td>1.169433e+08</td>\n",
              "      <td>-3.214979</td>\n",
              "      <td>-2.101737</td>\n",
              "      <td>4.026163</td>\n",
              "      <td>6.685541</td>\n",
              "      <td>0.000000</td>\n",
              "      <td>4.567254e-11</td>\n",
              "      <td>4.288215e-09</td>\n",
              "      <td>3.500000</td>\n",
              "      <td>0.000000</td>\n",
              "    </tr>\n",
              "    <tr>\n",
              "      <th>25%</th>\n",
              "      <td>27.000000</td>\n",
              "      <td>0.868589</td>\n",
              "      <td>4.712442</td>\n",
              "      <td>0.917658</td>\n",
              "      <td>4.927260</td>\n",
              "      <td>0.093089</td>\n",
              "      <td>0.113813</td>\n",
              "      <td>2.628534</td>\n",
              "      <td>3.260713</td>\n",
              "      <td>4.060238</td>\n",
              "      <td>5.062578</td>\n",
              "      <td>6.242217</td>\n",
              "      <td>7.717629</td>\n",
              "      <td>9.559202</td>\n",
              "      <td>11.737711</td>\n",
              "      <td>14.460067</td>\n",
              "      <td>17.706968</td>\n",
              "      <td>21.304035</td>\n",
              "      <td>26.082685</td>\n",
              "      <td>3.176128e+01</td>\n",
              "      <td>3.898829e+01</td>\n",
              "      <td>4.749272e+01</td>\n",
              "      <td>5.817853e+01</td>\n",
              "      <td>7.048017e+01</td>\n",
              "      <td>8.450454e+01</td>\n",
              "      <td>1.018522e+02</td>\n",
              "      <td>1.232987e+02</td>\n",
              "      <td>1.447320e+02</td>\n",
              "      <td>2.378092</td>\n",
              "      <td>3.058144</td>\n",
              "      <td>3.939666</td>\n",
              "      <td>5.085814</td>\n",
              "      <td>6.408293</td>\n",
              "      <td>8.072987</td>\n",
              "      <td>10.221927</td>\n",
              "      <td>12.843970</td>\n",
              "      <td>16.270564</td>\n",
              "      <td>20.317921</td>\n",
              "      <td>25.284039</td>\n",
              "      <td>31.737600</td>\n",
              "      <td>39.636655</td>\n",
              "      <td>49.339997</td>\n",
              "      <td>61.549461</td>\n",
              "      <td>76.564156</td>\n",
              "      <td>9.515310e+01</td>\n",
              "      <td>1.166812e+02</td>\n",
              "      <td>1.441469e+02</td>\n",
              "      <td>1.787251e+02</td>\n",
              "      <td>2.223971e+02</td>\n",
              "      <td>0.736349</td>\n",
              "      <td>-5.123767</td>\n",
              "      <td>3.740000</td>\n",
              "      <td>5.612599e+08</td>\n",
              "      <td>-0.472633</td>\n",
              "      <td>-0.201518</td>\n",
              "      <td>18.613742</td>\n",
              "      <td>26.520027</td>\n",
              "      <td>4.000000</td>\n",
              "      <td>1.472278e-04</td>\n",
              "      <td>7.879511e-05</td>\n",
              "      <td>4.300000</td>\n",
              "      <td>0.000000</td>\n",
              "    </tr>\n",
              "    <tr>\n",
              "      <th>50%</th>\n",
              "      <td>42.000000</td>\n",
              "      <td>1.096703</td>\n",
              "      <td>5.446689</td>\n",
              "      <td>1.133665</td>\n",
              "      <td>5.686399</td>\n",
              "      <td>0.133824</td>\n",
              "      <td>0.147965</td>\n",
              "      <td>4.150259</td>\n",
              "      <td>5.410061</td>\n",
              "      <td>7.038172</td>\n",
              "      <td>9.021276</td>\n",
              "      <td>11.534701</td>\n",
              "      <td>14.771728</td>\n",
              "      <td>19.123744</td>\n",
              "      <td>24.424718</td>\n",
              "      <td>31.418045</td>\n",
              "      <td>40.500336</td>\n",
              "      <td>52.154687</td>\n",
              "      <td>66.587818</td>\n",
              "      <td>8.477469e+01</td>\n",
              "      <td>1.095648e+02</td>\n",
              "      <td>1.394649e+02</td>\n",
              "      <td>1.781791e+02</td>\n",
              "      <td>2.295091e+02</td>\n",
              "      <td>2.985642e+02</td>\n",
              "      <td>3.806039e+02</td>\n",
              "      <td>4.902118e+02</td>\n",
              "      <td>6.266986e+02</td>\n",
              "      <td>4.079312</td>\n",
              "      <td>5.524610</td>\n",
              "      <td>7.409420</td>\n",
              "      <td>9.766739</td>\n",
              "      <td>12.705928</td>\n",
              "      <td>16.251342</td>\n",
              "      <td>20.851817</td>\n",
              "      <td>26.925306</td>\n",
              "      <td>34.419431</td>\n",
              "      <td>43.990723</td>\n",
              "      <td>56.663455</td>\n",
              "      <td>73.881856</td>\n",
              "      <td>95.474522</td>\n",
              "      <td>124.169691</td>\n",
              "      <td>161.946455</td>\n",
              "      <td>210.514254</td>\n",
              "      <td>2.699541e+02</td>\n",
              "      <td>3.480460e+02</td>\n",
              "      <td>4.441397e+02</td>\n",
              "      <td>5.691054e+02</td>\n",
              "      <td>7.261560e+02</td>\n",
              "      <td>5.327550</td>\n",
              "      <td>-3.298954</td>\n",
              "      <td>3.796000</td>\n",
              "      <td>8.540257e+08</td>\n",
              "      <td>-0.133513</td>\n",
              "      <td>-0.011793</td>\n",
              "      <td>26.081803</td>\n",
              "      <td>31.905868</td>\n",
              "      <td>4.300000</td>\n",
              "      <td>5.127318e-04</td>\n",
              "      <td>3.971954e-04</td>\n",
              "      <td>4.500000</td>\n",
              "      <td>0.000000</td>\n",
              "    </tr>\n",
              "    <tr>\n",
              "      <th>75%</th>\n",
              "      <td>79.000000</td>\n",
              "      <td>1.277337</td>\n",
              "      <td>6.041915</td>\n",
              "      <td>1.367834</td>\n",
              "      <td>6.543329</td>\n",
              "      <td>0.173145</td>\n",
              "      <td>0.186336</td>\n",
              "      <td>7.155309</td>\n",
              "      <td>9.320225</td>\n",
              "      <td>12.022187</td>\n",
              "      <td>15.729414</td>\n",
              "      <td>20.426248</td>\n",
              "      <td>27.134845</td>\n",
              "      <td>35.776147</td>\n",
              "      <td>47.660563</td>\n",
              "      <td>63.210091</td>\n",
              "      <td>84.279132</td>\n",
              "      <td>111.889534</td>\n",
              "      <td>148.552325</td>\n",
              "      <td>1.980377e+02</td>\n",
              "      <td>2.629556e+02</td>\n",
              "      <td>3.514808e+02</td>\n",
              "      <td>4.725911e+02</td>\n",
              "      <td>6.271402e+02</td>\n",
              "      <td>8.457499e+02</td>\n",
              "      <td>1.126788e+03</td>\n",
              "      <td>1.506716e+03</td>\n",
              "      <td>2.006909e+03</td>\n",
              "      <td>6.460084</td>\n",
              "      <td>8.469492</td>\n",
              "      <td>11.262911</td>\n",
              "      <td>15.222832</td>\n",
              "      <td>20.513860</td>\n",
              "      <td>27.681747</td>\n",
              "      <td>37.214586</td>\n",
              "      <td>50.094885</td>\n",
              "      <td>66.669505</td>\n",
              "      <td>88.720327</td>\n",
              "      <td>118.621238</td>\n",
              "      <td>158.267163</td>\n",
              "      <td>210.567033</td>\n",
              "      <td>280.984307</td>\n",
              "      <td>378.696950</td>\n",
              "      <td>519.079910</td>\n",
              "      <td>7.113993e+02</td>\n",
              "      <td>9.650596e+02</td>\n",
              "      <td>1.308991e+03</td>\n",
              "      <td>1.787671e+03</td>\n",
              "      <td>2.432340e+03</td>\n",
              "      <td>8.823549</td>\n",
              "      <td>-0.505887</td>\n",
              "      <td>3.908000</td>\n",
              "      <td>1.386574e+09</td>\n",
              "      <td>0.216118</td>\n",
              "      <td>0.180089</td>\n",
              "      <td>37.129219</td>\n",
              "      <td>37.477091</td>\n",
              "      <td>4.800000</td>\n",
              "      <td>2.478752e-03</td>\n",
              "      <td>1.766145e-03</td>\n",
              "      <td>5.000000</td>\n",
              "      <td>0.000000</td>\n",
              "    </tr>\n",
              "    <tr>\n",
              "      <th>max</th>\n",
              "      <td>1696.000000</td>\n",
              "      <td>3.446782</td>\n",
              "      <td>13.418027</td>\n",
              "      <td>2.789241</td>\n",
              "      <td>11.246100</td>\n",
              "      <td>0.656048</td>\n",
              "      <td>0.399429</td>\n",
              "      <td>161.416545</td>\n",
              "      <td>356.965470</td>\n",
              "      <td>789.413171</td>\n",
              "      <td>1745.751921</td>\n",
              "      <td>3860.652292</td>\n",
              "      <td>8537.659870</td>\n",
              "      <td>18880.652944</td>\n",
              "      <td>41753.719521</td>\n",
              "      <td>92336.483226</td>\n",
              "      <td>204198.002774</td>\n",
              "      <td>451574.750090</td>\n",
              "      <td>998637.362503</td>\n",
              "      <td>2.208442e+06</td>\n",
              "      <td>4.883870e+06</td>\n",
              "      <td>1.080046e+07</td>\n",
              "      <td>2.388474e+07</td>\n",
              "      <td>5.282003e+07</td>\n",
              "      <td>1.168091e+08</td>\n",
              "      <td>2.583182e+08</td>\n",
              "      <td>5.712590e+08</td>\n",
              "      <td>1.263314e+09</td>\n",
              "      <td>56.318836</td>\n",
              "      <td>106.816283</td>\n",
              "      <td>203.030637</td>\n",
              "      <td>385.909698</td>\n",
              "      <td>733.516365</td>\n",
              "      <td>1394.228392</td>\n",
              "      <td>2650.074220</td>\n",
              "      <td>5037.118320</td>\n",
              "      <td>9574.283155</td>\n",
              "      <td>18198.281660</td>\n",
              "      <td>34590.313447</td>\n",
              "      <td>65747.404437</td>\n",
              "      <td>124969.124575</td>\n",
              "      <td>237534.579970</td>\n",
              "      <td>451492.933741</td>\n",
              "      <td>858173.446763</td>\n",
              "      <td>1.631170e+06</td>\n",
              "      <td>3.100440e+06</td>\n",
              "      <td>5.893149e+06</td>\n",
              "      <td>1.120138e+07</td>\n",
              "      <td>2.129098e+07</td>\n",
              "      <td>65.443584</td>\n",
              "      <td>18.459803</td>\n",
              "      <td>5.322000</td>\n",
              "      <td>8.183326e+11</td>\n",
              "      <td>1.552551</td>\n",
              "      <td>0.873045</td>\n",
              "      <td>174.625825</td>\n",
              "      <td>61.221133</td>\n",
              "      <td>8.000000</td>\n",
              "      <td>1.701702e-01</td>\n",
              "      <td>4.507560e-02</td>\n",
              "      <td>8.000000</td>\n",
              "      <td>1.000000</td>\n",
              "    </tr>\n",
              "  </tbody>\n",
              "</table>\n",
              "</div>"
            ],
            "text/plain": [
              "            T_Days        b_lik  ...   Actual Mag          mag\n",
              "count  7489.000000  7489.000000  ...  7489.000000  7489.000000\n",
              "mean     75.446522     1.074241  ...     4.741488     0.221925\n",
              "std     126.001026     0.404473  ...     0.738637     0.415569\n",
              "min       1.000000     0.256372  ...     3.500000     0.000000\n",
              "25%      27.000000     0.868589  ...     4.300000     0.000000\n",
              "50%      42.000000     1.096703  ...     4.500000     0.000000\n",
              "75%      79.000000     1.277337  ...     5.000000     0.000000\n",
              "max    1696.000000     3.446782  ...     8.000000     1.000000\n",
              "\n",
              "[8 rows x 62 columns]"
            ]
          },
          "metadata": {
            "tags": []
          },
          "execution_count": 14
        }
      ]
    },
    {
      "cell_type": "code",
      "metadata": {
        "id": "4C0IGRYuTvxQ"
      },
      "source": [
        "from sklearn.model_selection import train_test_split\n",
        "X_train, y_train, X_test, y_test = train_test_split(features,target, test_size = 0.3,random_state =1)"
      ],
      "execution_count": null,
      "outputs": []
    },
    {
      "cell_type": "markdown",
      "metadata": {
        "id": "73kNmg_SUQdg"
      },
      "source": [
        "**LOGISTIC** **REGRESSION**"
      ]
    },
    {
      "cell_type": "code",
      "metadata": {
        "colab": {
          "base_uri": "https://localhost:8080/"
        },
        "id": "To9n4dl9UI3V",
        "outputId": "df564dcb-d93e-4b77-d5ba-da7769b65c8f"
      },
      "source": [
        "from sklearn.linear_model import LogisticRegression\n",
        "lr = LogisticRegression()\n",
        "lr.fit(X_train,X_test)"
      ],
      "execution_count": null,
      "outputs": [
        {
          "output_type": "execute_result",
          "data": {
            "text/plain": [
              "LogisticRegression(C=1.0, class_weight=None, dual=False, fit_intercept=True,\n",
              "                   intercept_scaling=1, l1_ratio=None, max_iter=100,\n",
              "                   multi_class='auto', n_jobs=None, penalty='l2',\n",
              "                   random_state=None, solver='lbfgs', tol=0.0001, verbose=0,\n",
              "                   warm_start=False)"
            ]
          },
          "metadata": {
            "tags": []
          },
          "execution_count": 16
        }
      ]
    },
    {
      "cell_type": "code",
      "metadata": {
        "colab": {
          "base_uri": "https://localhost:8080/"
        },
        "id": "FI1cxVmiUV27",
        "outputId": "4166a227-ba08-4aa8-b5c2-07a4f8e9eae8"
      },
      "source": [
        "pred = lr.predict(y_train)\n",
        "from sklearn.metrics import matthews_corrcoef,accuracy_score\n",
        "print('Accuracy: ',accuracy_score(y_test, pred)*100,'%')\n",
        "print('MCC score: ',matthews_corrcoef(y_test, pred))"
      ],
      "execution_count": null,
      "outputs": [
        {
          "output_type": "stream",
          "text": [
            "Accuracy:  22.652425456163776 %\n",
            "MCC score:  -0.07820225681453162\n"
          ],
          "name": "stdout"
        }
      ]
    },
    {
      "cell_type": "code",
      "metadata": {
        "colab": {
          "base_uri": "https://localhost:8080/",
          "height": 889
        },
        "id": "gAyGwREeVNUL",
        "outputId": "c6479856-9531-42c3-a4ea-d82ba4692162"
      },
      "source": [
        "plt.figure(figsize = (14,14))\n",
        "plt.title('correlation')\n",
        "corr = chile_df.corr()\n",
        "sns.heatmap(corr,xticklabels=corr.columns,yticklabels=corr.columns,linewidths=.1,cmap=\"Reds\")\n",
        "plt.show()"
      ],
      "execution_count": null,
      "outputs": [
        {
          "output_type": "display_data",
          "data": {
            "image/png": "[encoded data removed]",
            "text/plain": [
              "<Figure size 1008x1008 with 2 Axes>"
            ]
          },
          "metadata": {
            "tags": [],
            "needs_background": "light"
          }
        }
      ]
    },
    {
      "cell_type": "markdown",
      "metadata": {
        "id": "E4XRLXFEVXka"
      },
      "source": [
        "**RANDOM FOREST**"
      ]
    },
    {
      "cell_type": "code",
      "metadata": {
        "id": "7BrInV64nB_m",
        "colab": {
          "base_uri": "https://localhost:8080/"
        },
        "outputId": "7d40cee3-124f-4a62-ba8d-5a6211c35f94"
      },
      "source": [
        "from sklearn.ensemble import RandomForestClassifier\n",
        "rf =  RandomForestClassifier(n_estimators=100, n_jobs=-1)\n",
        "rf.fit(X_train,X_test)"
      ],
      "execution_count": null,
      "outputs": [
        {
          "output_type": "execute_result",
          "data": {
            "text/plain": [
              "RandomForestClassifier(bootstrap=True, ccp_alpha=0.0, class_weight=None,\n",
              "                       criterion='gini', max_depth=None, max_features='auto',\n",
              "                       max_leaf_nodes=None, max_samples=None,\n",
              "                       min_impurity_decrease=0.0, min_impurity_split=None,\n",
              "                       min_samples_leaf=1, min_samples_split=2,\n",
              "                       min_weight_fraction_leaf=0.0, n_estimators=100,\n",
              "                       n_jobs=-1, oob_score=False, random_state=None, verbose=0,\n",
              "                       warm_start=False)"
            ]
          },
          "metadata": {
            "tags": []
          },
          "execution_count": 22
        }
      ]
    },
    {
      "cell_type": "code",
      "metadata": {
        "colab": {
          "base_uri": "https://localhost:8080/"
        },
        "id": "cUl1_fPBVtOP",
        "outputId": "db29f4de-b75c-4e9f-abe6-8fa2d80f4e98"
      },
      "source": [
        "pred = rf.predict(y_train)\n",
        "from sklearn.metrics import matthews_corrcoef,accuracy_score\n",
        "print('Accuracy: ',accuracy_score(y_test, pred)*100,'%')\n",
        "print('MCC score: ',matthews_corrcoef(y_test, pred))"
      ],
      "execution_count": null,
      "outputs": [
        {
          "output_type": "stream",
          "text": [
            "Accuracy:  94.25901201602136 %\n",
            "MCC score:  0.8326547509417023\n"
          ],
          "name": "stdout"
        }
      ]
    },
    {
      "cell_type": "markdown",
      "metadata": {
        "id": "mmbl7U5_V8he"
      },
      "source": [
        "**XGBOOST**"
      ]
    },
    {
      "cell_type": "code",
      "metadata": {
        "colab": {
          "base_uri": "https://localhost:8080/"
        },
        "id": "zD5IPuIxV_n_",
        "outputId": "03be3ba3-2d07-48af-d77f-e412de6224e2"
      },
      "source": [
        "MAX_ROUNDS = 1000\n",
        "EARLY_STOP = 50\n",
        "from xgboost import XGBClassifier\n",
        "xg = XGBClassifier(MAX_ROUNDS,early_stopping_rounds=EARLY_STOP,maximize=True)\n",
        "xg.fit(X_train,X_test)"
      ],
      "execution_count": null,
      "outputs": [
        {
          "output_type": "execute_result",
          "data": {
            "text/plain": [
              "XGBClassifier(base_score=0.5, booster='gbtree', colsample_bylevel=1,\n",
              "              colsample_bynode=1, colsample_bytree=1, early_stopping_rounds=50,\n",
              "              gamma=0, learning_rate=0.1, max_delta_step=0, max_depth=1000,\n",
              "              maximize=True, min_child_weight=1, missing=None, n_estimators=100,\n",
              "              n_jobs=1, nthread=None, objective='binary:logistic',\n",
              "              random_state=0, reg_alpha=0, reg_lambda=1, scale_pos_weight=1,\n",
              "              seed=None, silent=None, subsample=1, verbosity=1)"
            ]
          },
          "metadata": {
            "tags": []
          },
          "execution_count": 25
        }
      ]
    },
    {
      "cell_type": "code",
      "metadata": {
        "colab": {
          "base_uri": "https://localhost:8080/"
        },
        "id": "5BFw6LjoWTS2",
        "outputId": "ae601819-ba8d-4d50-d88d-9c4460b6005c"
      },
      "source": [
        "pred = xg.predict(y_train)\n",
        "from sklearn.metrics import matthews_corrcoef,accuracy_score\n",
        "print('Accuracy: ',accuracy_score(y_test, pred)*100,'%')\n",
        "print('MCC score: ',matthews_corrcoef(y_test, pred))"
      ],
      "execution_count": null,
      "outputs": [
        {
          "output_type": "stream",
          "text": [
            "Accuracy:  95.54962171784601 %\n",
            "MCC score:  0.8710151916593936\n"
          ],
          "name": "stdout"
        }
      ]
    },
    {
      "cell_type": "markdown",
      "metadata": {
        "id": "gxqXF9QIgGOO"
      },
      "source": [
        "**PCA WITH LOGISTIC REGRESSION**"
      ]
    },
    {
      "cell_type": "code",
      "metadata": {
        "colab": {
          "base_uri": "https://localhost:8080/"
        },
        "id": "c_Jh-gsugFHp",
        "outputId": "aeeb90ff-751d-4381-b196-586aae1e30a0"
      },
      "source": [
        "from sklearn.decomposition import PCA\n",
        "from statistics import mean\n",
        "avgaccs=[]\n",
        "avgmccs=[]\n",
        "for i in range(1,29):\n",
        "  pca=PCA(n_components=i)\n",
        "  pca.fit(features)\n",
        "  x_pca=pca.transform(features)\n",
        "  acc,mcc=[],[]\n",
        "  for j in range(0,10):\n",
        "    X_train, y_train, X_test, y_test = train_test_split(x_pca,target, test_size = 0.3,stratify=target)\n",
        "    lr = LogisticRegression()\n",
        "    lr.fit(X_train,X_test)\n",
        "    pred = lr.predict(y_train)\n",
        "    acc.append(accuracy_score(y_test, pred))\n",
        "    mcc.append(matthews_corrcoef(y_test, pred))\n",
        "  print('For ',i,'number of features: ',round(mean(acc),4)*100,round(mean(mcc),4))\n",
        "  avgaccs.append(round(mean(acc),4)*100)\n",
        "  avgmccs.append(round(mean(mcc),4))\n",
        "print(max(avgaccs))\n",
        "print(avgaccs.index(max(avgaccs)))"
      ],
      "execution_count": null,
      "outputs": [
        {
          "output_type": "stream",
          "text": [
            "For  1 number of features:  84.55 0.4967\n",
            "For  2 number of features:  84.75 0.5042\n",
            "For  3 number of features:  84.6 0.4981\n",
            "For  4 number of features:  84.54 0.4958\n",
            "For  5 number of features:  84.5 0.4933\n",
            "For  6 number of features:  84.58 0.4972\n",
            "For  7 number of features:  84.82 0.5067\n",
            "For  8 number of features:  84.74000000000001 0.5042\n",
            "For  9 number of features:  84.75 0.5045\n",
            "For  10 number of features:  84.74000000000001 0.5034\n",
            "For  11 number of features:  84.78999999999999 0.506\n",
            "For  12 number of features:  84.58 0.4972\n",
            "For  13 number of features:  84.69 0.5026\n",
            "For  14 number of features:  84.58 0.4974\n",
            "For  15 number of features:  84.66 0.5003\n",
            "For  16 number of features:  84.94 0.5119\n",
            "For  17 number of features:  84.8 0.5064\n",
            "For  18 number of features:  84.59 0.4972\n",
            "For  19 number of features:  84.74000000000001 0.5039\n",
            "For  20 number of features:  84.5 0.4939\n",
            "For  21 number of features:  84.67 0.5005\n",
            "For  22 number of features:  84.75 0.5039\n",
            "For  23 number of features:  84.49 0.4936\n",
            "For  24 number of features:  84.64 0.4995\n",
            "For  25 number of features:  84.7 0.5017\n",
            "For  26 number of features:  84.74000000000001 0.5038\n",
            "For  27 number of features:  84.71 0.5028\n",
            "For  28 number of features:  84.73 0.5039\n",
            "84.94\n",
            "15\n"
          ],
          "name": "stdout"
        }
      ]
    },
    {
      "cell_type": "code",
      "metadata": {
        "id": "KJ5jj0onlbpP"
      },
      "source": [
        "pca=PCA(n_components=16) #Using 16 features for PCA(optimal obtained from the above cell)\n",
        "pca.fit(features)\n",
        "x_pca=pca.transform(features)\n",
        "X_train, y_train, X_test, y_test = train_test_split(x_pca,target, test_size = 0.3,random_state=1)"
      ],
      "execution_count": null,
      "outputs": []
    },
    {
      "cell_type": "code",
      "metadata": {
        "colab": {
          "base_uri": "https://localhost:8080/"
        },
        "id": "oZzOziV6l1PR",
        "outputId": "e89d8f57-9c32-4b45-e709-baaba16a952e"
      },
      "source": [
        "  lr = LogisticRegression()\n",
        "  lr.fit(X_train,X_test)\n",
        "  pred = lr.predict(y_train)\n",
        "  from sklearn.metrics import matthews_corrcoef,accuracy_score\n",
        "print('Accuracy: ',accuracy_score(y_test, pred)*100,'%')\n",
        "print('MCC score: ',matthews_corrcoef(y_test, pred))"
      ],
      "execution_count": null,
      "outputs": [
        {
          "output_type": "stream",
          "text": [
            "Accuracy:  84.77970627503338 %\n",
            "MCC score:  0.5060758860380743\n"
          ],
          "name": "stdout"
        }
      ]
    },
    {
      "cell_type": "markdown",
      "metadata": {
        "id": "x-L0ZJj6Wkiy"
      },
      "source": [
        "**PCA WITH RANDOM FOREST**"
      ]
    },
    {
      "cell_type": "code",
      "metadata": {
        "colab": {
          "base_uri": "https://localhost:8080/",
          "height": 1000
        },
        "id": "zMGx1lDraSKp",
        "outputId": "1bfa6074-4407-425e-db0a-3242a890898d"
      },
      "source": [
        "from sklearn.decomposition import PCA\n",
        "from statistics import mean\n",
        "avgaccs=[]\n",
        "avgmccs=[]\n",
        "for i in range(1,61):\n",
        "  pca=PCA(n_components=i)\n",
        "  pca.fit(features)\n",
        "  x_pca=pca.transform(features)\n",
        "  acc,mcc=[],[]\n",
        "  for j in range(0,10):\n",
        "    X_train, y_train, X_test, y_test = train_test_split(x_pca,target, test_size = 0.3,stratify=target)\n",
        "    rf =  RandomForestClassifier(n_estimators=100, n_jobs=-1)\n",
        "    rf.fit(X_train,X_test)\n",
        "    pred = rf.predict(y_train)\n",
        "    acc.append(accuracy_score(y_test, pred))\n",
        "    mcc.append(matthews_corrcoef(y_test, pred))\n",
        "  print('For ',i,'number of features: ',round(mean(acc),4)*100,round(mean(mcc),4))\n",
        "  avgaccs.append(round(mean(acc),4)*100)\n",
        "  avgmccs.append(round(mean(mcc),4))\n",
        "print(max(avgaccs))\n",
        "print(avgaccs.index(max(avgaccs)))\n"
      ],
      "execution_count": null,
      "outputs": [
        {
          "output_type": "stream",
          "text": [
            "For  1 number of features:  77.0 0.3359\n",
            "For  2 number of features:  85.58 0.5494\n",
            "For  3 number of features:  88.79 0.6526\n",
            "For  4 number of features:  91.86 0.7537\n",
            "For  5 number of features:  92.36 0.7692\n",
            "For  6 number of features:  92.15 0.7625\n",
            "For  7 number of features:  92.71000000000001 0.7803\n",
            "For  8 number of features:  93.16 0.7947\n",
            "For  9 number of features:  93.51 0.8056\n",
            "For  10 number of features:  94.54 0.8374\n",
            "For  11 number of features:  94.44 0.8343\n",
            "For  12 number of features:  94.66 0.8412\n",
            "For  13 number of features:  94.81 0.8458\n",
            "For  14 number of features:  95.22 0.8584\n",
            "For  15 number of features:  94.87 0.8477\n",
            "For  16 number of features:  95.44 0.865\n",
            "For  17 number of features:  95.42 0.8642\n",
            "For  18 number of features:  95.39 0.8636\n",
            "For  19 number of features:  95.59 0.8695\n",
            "For  20 number of features:  95.28 0.8601\n",
            "For  21 number of features:  95.54 0.8681\n",
            "For  22 number of features:  95.32000000000001 0.8614\n",
            "For  23 number of features:  95.36 0.8626\n",
            "For  24 number of features:  95.49 0.8664\n",
            "For  25 number of features:  95.54 0.868\n",
            "For  26 number of features:  95.55 0.8684\n",
            "For  27 number of features:  95.59 0.8694\n",
            "For  28 number of features:  95.65 0.8712\n",
            "For  29 number of features:  95.58 0.8692\n",
            "For  30 number of features:  95.62 0.8703\n",
            "For  31 number of features:  95.69 0.8725\n",
            "For  32 number of features:  95.85000000000001 0.8775\n",
            "For  33 number of features:  95.34 0.8621\n",
            "For  34 number of features:  95.52000000000001 0.8674\n",
            "For  35 number of features:  95.47 0.8659\n",
            "For  36 number of features:  95.63000000000001 0.8706\n",
            "For  37 number of features:  95.71 0.8731\n",
            "For  38 number of features:  95.59 0.8697\n",
            "For  39 number of features:  95.87 0.8779\n",
            "For  40 number of features:  95.76 0.8748\n",
            "For  41 number of features:  95.78 0.8751\n",
            "For  42 number of features:  95.65 0.8715\n",
            "For  43 number of features:  95.55 0.8685\n",
            "For  44 number of features:  95.45 0.8655\n",
            "For  45 number of features:  95.50999999999999 0.8673\n",
            "For  46 number of features:  95.8 0.876\n",
            "For  47 number of features:  95.7 0.8728\n",
            "For  48 number of features:  95.47 0.866\n",
            "For  49 number of features:  95.67 0.8719\n",
            "For  50 number of features:  95.88 0.8783\n",
            "For  51 number of features:  95.8 0.8759\n",
            "For  52 number of features:  95.48 0.8661\n",
            "For  53 number of features:  95.97 0.8811\n",
            "For  54 number of features:  95.56 0.8688\n",
            "For  55 number of features:  95.53 0.8676\n",
            "For  56 number of features:  95.54 0.868\n",
            "For  57 number of features:  95.7 0.8729\n",
            "For  58 number of features:  95.78999999999999 0.8756\n",
            "For  59 number of features:  95.63000000000001 0.8707\n",
            "For  60 number of features:  95.62 0.8705\n",
            "95.97\n",
            "52\n"
          ],
          "name": "stdout"
        },
        {
          "output_type": "error",
          "ename": "IndexError",
          "evalue": "ignored",
          "traceback": [
            "\u001b[0;31m---------------------------------------------------------------------------\u001b[0m",
            "\u001b[0;31mIndexError\u001b[0m                                Traceback (most recent call last)",
            "\u001b[0;32m<ipython-input-38-2d654bb11ebf>\u001b[0m in \u001b[0;36m<module>\u001b[0;34m()\u001b[0m\n\u001b[1;32m     20\u001b[0m \u001b[0mprint\u001b[0m\u001b[0;34m(\u001b[0m\u001b[0mmax\u001b[0m\u001b[0;34m(\u001b[0m\u001b[0mavgaccs\u001b[0m\u001b[0;34m)\u001b[0m\u001b[0;34m)\u001b[0m\u001b[0;34m\u001b[0m\u001b[0;34m\u001b[0m\u001b[0m\n\u001b[1;32m     21\u001b[0m \u001b[0mprint\u001b[0m\u001b[0;34m(\u001b[0m\u001b[0mavgaccs\u001b[0m\u001b[0;34m.\u001b[0m\u001b[0mindex\u001b[0m\u001b[0;34m(\u001b[0m\u001b[0mmax\u001b[0m\u001b[0;34m(\u001b[0m\u001b[0mavgaccs\u001b[0m\u001b[0;34m)\u001b[0m\u001b[0;34m)\u001b[0m\u001b[0;34m)\u001b[0m\u001b[0;34m\u001b[0m\u001b[0;34m\u001b[0m\u001b[0m\n\u001b[0;32m---> 22\u001b[0;31m \u001b[0mprint\u001b[0m\u001b[0;34m(\u001b[0m\u001b[0mmcc\u001b[0m\u001b[0;34m[\u001b[0m\u001b[0mavgaccs\u001b[0m\u001b[0;34m.\u001b[0m\u001b[0mindex\u001b[0m\u001b[0;34m(\u001b[0m\u001b[0mmax\u001b[0m\u001b[0;34m(\u001b[0m\u001b[0mavgaccs\u001b[0m\u001b[0;34m)\u001b[0m\u001b[0;34m)\u001b[0m\u001b[0;34m]\u001b[0m\u001b[0;34m)\u001b[0m\u001b[0;34m\u001b[0m\u001b[0;34m\u001b[0m\u001b[0m\n\u001b[0m",
            "\u001b[0;31mIndexError\u001b[0m: list index out of range"
          ]
        }
      ]
    },
    {
      "cell_type": "code",
      "metadata": {
        "id": "yXyNUj5Uj2P-"
      },
      "source": [
        "pca=PCA(n_components=28) #Using 28 features for PCA\n",
        "pca.fit(features)\n",
        "x_pca=pca.transform(features)\n",
        "X_train, y_train, X_test, y_test = train_test_split(x_pca,target, test_size = 0.3,random_state=1)"
      ],
      "execution_count": null,
      "outputs": []
    },
    {
      "cell_type": "code",
      "metadata": {
        "colab": {
          "base_uri": "https://localhost:8080/"
        },
        "id": "UTYN7qnwkKPs",
        "outputId": "87e8d6a3-0029-481f-ab83-bf7afd387439"
      },
      "source": [
        "rf =  RandomForestClassifier(n_estimators=100, n_jobs=-1)\n",
        "rf.fit(X_train,X_test)"
      ],
      "execution_count": null,
      "outputs": [
        {
          "output_type": "execute_result",
          "data": {
            "text/plain": [
              "RandomForestClassifier(bootstrap=True, ccp_alpha=0.0, class_weight=None,\n",
              "                       criterion='gini', max_depth=None, max_features='auto',\n",
              "                       max_leaf_nodes=None, max_samples=None,\n",
              "                       min_impurity_decrease=0.0, min_impurity_split=None,\n",
              "                       min_samples_leaf=1, min_samples_split=2,\n",
              "                       min_weight_fraction_leaf=0.0, n_estimators=100,\n",
              "                       n_jobs=-1, oob_score=False, random_state=None, verbose=0,\n",
              "                       warm_start=False)"
            ]
          },
          "metadata": {
            "tags": []
          },
          "execution_count": 53
        }
      ]
    },
    {
      "cell_type": "code",
      "metadata": {
        "colab": {
          "base_uri": "https://localhost:8080/"
        },
        "id": "9GzI4k_0kmMk",
        "outputId": "603790dd-3be6-4221-f4ab-5ccad19f9f5a"
      },
      "source": [
        "pred = rf.predict(y_train)\n",
        "from sklearn.metrics import matthews_corrcoef,accuracy_score\n",
        "print('Accuracy: ',accuracy_score(y_test, pred)*100,'%')\n",
        "print('MCC score: ',matthews_corrcoef(y_test, pred))"
      ],
      "execution_count": null,
      "outputs": [
        {
          "output_type": "stream",
          "text": [
            "Accuracy:  95.14908767245215 %\n",
            "MCC score:  0.8592348537294775\n"
          ],
          "name": "stdout"
        }
      ]
    },
    {
      "cell_type": "markdown",
      "metadata": {
        "id": "YHD6GxrWg76U"
      },
      "source": [
        "**PCA WITH XGBOOST**"
      ]
    },
    {
      "cell_type": "code",
      "metadata": {
        "colab": {
          "base_uri": "https://localhost:8080/"
        },
        "id": "Vz67uttafLK3",
        "outputId": "2b81266e-67bb-4cc7-e494-9187470dd6aa"
      },
      "source": [
        "from sklearn.decomposition import PCA\n",
        "from statistics import mean\n",
        "avgaccs=[]\n",
        "avgmccs=[]\n",
        "for i in range(1,30):\n",
        "  pca=PCA(n_components=i)\n",
        "  pca.fit(features)\n",
        "  x_pca=pca.transform(features)\n",
        "  acc,mcc=[],[]\n",
        "  for j in range(0,10):\n",
        "    X_train, y_train, X_test, y_test = train_test_split(x_pca,target, test_size = 0.3,stratify=target)\n",
        "    xg = XGBClassifier(MAX_ROUNDS,early_stopping_rounds=EARLY_STOP,maximize=True)\n",
        "    xg.fit(X_train,X_test)\n",
        "    pred = xg.predict(y_train)\n",
        "    acc.append(accuracy_score(y_test, pred))\n",
        "    mcc.append(matthews_corrcoef(y_test, pred))\n",
        "  print('For ',i,'number of features: ',round(mean(acc),4)*100,round(mean(mcc),4))\n",
        "  avgaccs.append(round(mean(acc),4)*100)\n",
        "  avgmccs.append(round(mean(mcc),4))\n",
        "print(max(avgaccs))\n",
        "print(avgaccs.index(max(avgaccs)))\n"
      ],
      "execution_count": null,
      "outputs": [
        {
          "output_type": "stream",
          "text": [
            "For  1 number of features:  81.45 0.4047\n",
            "For  2 number of features:  85.07000000000001 0.5359\n",
            "For  3 number of features:  88.59 0.6508\n",
            "For  4 number of features:  92.21000000000001 0.7657\n",
            "For  5 number of features:  91.97999999999999 0.7588\n",
            "For  6 number of features:  92.62 0.7786\n",
            "For  7 number of features:  92.83 0.7849\n",
            "For  8 number of features:  93.07 0.7926\n",
            "For  9 number of features:  93.88 0.8175\n",
            "For  10 number of features:  94.61 0.8399\n",
            "For  11 number of features:  94.92 0.8495\n",
            "For  12 number of features:  95.02000000000001 0.8523\n",
            "For  13 number of features:  95.6 0.8701\n",
            "For  14 number of features:  95.8 0.8761\n",
            "For  15 number of features:  95.71 0.8732\n",
            "For  16 number of features:  95.54 0.8683\n",
            "For  17 number of features:  95.91 0.8793\n",
            "For  18 number of features:  95.7 0.873\n",
            "For  19 number of features:  95.67 0.8722\n",
            "For  20 number of features:  95.67 0.8718\n",
            "For  21 number of features:  95.7 0.8729\n",
            "For  22 number of features:  95.54 0.8681\n",
            "For  23 number of features:  95.64 0.8714\n",
            "For  24 number of features:  95.35 0.8628\n",
            "For  25 number of features:  95.78999999999999 0.8758\n",
            "For  26 number of features:  95.63000000000001 0.8711\n",
            "For  27 number of features:  95.8 0.876\n",
            "For  28 number of features:  95.75 0.8744\n",
            "For  29 number of features:  95.88 0.8785\n",
            "95.91\n",
            "16\n"
          ],
          "name": "stdout"
        }
      ]
    },
    {
      "cell_type": "code",
      "metadata": {
        "id": "AWtftcAmp6TD"
      },
      "source": [
        "pca=PCA(n_components=28) #Using 28 features for PCA\n",
        "pca.fit(features)\n",
        "x_pca=pca.transform(features)\n",
        "X_train, y_train, X_test, y_test = train_test_split(x_pca,target, test_size = 0.3,random_state=1)"
      ],
      "execution_count": null,
      "outputs": []
    },
    {
      "cell_type": "code",
      "metadata": {
        "colab": {
          "base_uri": "https://localhost:8080/"
        },
        "id": "VnqnAiIZptOa",
        "outputId": "ed1102b0-67c6-457f-d0a9-a4ae9cd3641b"
      },
      "source": [
        "xg = XGBClassifier(MAX_ROUNDS,early_stopping_rounds=EARLY_STOP,maximize=True)\n",
        "xg.fit(X_train,X_test)\n",
        "pred = xg.predict(y_train)\n",
        "from sklearn.metrics import matthews_corrcoef,accuracy_score\n",
        "print('Accuracy: ',accuracy_score(y_test, pred)*100,'%')\n",
        "print('MCC score: ',matthews_corrcoef(y_test, pred))"
      ],
      "execution_count": null,
      "outputs": [
        {
          "output_type": "stream",
          "text": [
            "Accuracy:  95.28259902091678 %\n",
            "MCC score:  0.8631522493059325\n"
          ],
          "name": "stdout"
        }
      ]
    },
    {
      "cell_type": "markdown",
      "metadata": {
        "id": "8LV91livqofQ"
      },
      "source": [
        "**MRMR WITH XGBOOST**"
      ]
    },
    {
      "cell_type": "code",
      "metadata": {
        "id": "NQmNwQ6qrRGJ"
      },
      "source": [
        "from skfeature.function.information_theoretical_based import LCSI\n",
        "def mrmr(X, y,i,**kwargs):\n",
        "    \"\"\"\n",
        "    This function implements the MRMR feature selection\n",
        "    Input\n",
        "    -----\n",
        "    X: {numpy array}, shape (n_samples, n_features)\n",
        "        input data, guaranteed to be discrete\n",
        "    y: {numpy array}, shape (n_samples,)\n",
        "        input class labels\n",
        "    kwargs: {dictionary}\n",
        "        n_selected_features: {int}\n",
        "            number of features to select\n",
        "    Output\n",
        "    ------\n",
        "    F: {numpy array}, shape (n_features,)\n",
        "        index of selected features, F[0] is the most important feature\n",
        "    J_CMI: {numpy array}, shape: (n_features,)\n",
        "        corresponding objective function value of selected features\n",
        "    MIfy: {numpy array}, shape: (n_features,)\n",
        "        corresponding mutual information between selected features and response\n",
        "    Reference\n",
        "    ---------\n",
        "    Brown, Gavin et al. \"Conditional Likelihood Maximisation: A Unifying Framework for Information Theoretic Feature Selection.\" JMLR 2012.\n",
        "    \"\"\"\n",
        "    if 'n_selected_features' in kwargs.keys():\n",
        "        n_selected_features = kwargs['n_selected_features']\n",
        "        F, J_CMI, MIfy = LCSI.lcsi(X, y, gamma=0, function_name='MRMR', n_selected_features=n_selected_features)\n",
        "    else:\n",
        "        F, J_CMI, MIfy = LCSI.lcsi(X, y, gamma=0, function_name='MRMR', n_selected_features=i)\n",
        "    return F"
      ],
      "execution_count": null,
      "outputs": []
    },
    {
      "cell_type": "code",
      "metadata": {
        "id": "JKtG-rffv-ZY"
      },
      "source": [
        "X_train, y_train, X_test, y_test = train_test_split(features,target, test_size = 0.3,random_state=1)"
      ],
      "execution_count": null,
      "outputs": []
    },
    {
      "cell_type": "code",
      "metadata": {
        "colab": {
          "base_uri": "https://localhost:8080/"
        },
        "id": "koINoMParemu",
        "outputId": "1347fd0e-0a72-448e-f780-6b28b74228bb"
      },
      "source": [
        "F = mrmr(X_train,X_test,60)\n",
        "print(F)"
      ],
      "execution_count": null,
      "outputs": [
        {
          "output_type": "stream",
          "text": [
            "[28 57  0 51 49  1  2 58 53 50  7  3 59  4  8 54 56  6 11  5 12 10 13 55\n",
            "  9 14 20 15 19 17 21 16 18 23 35 25 22 37 24 32 27 36 26 38 43 34 47 48\n",
            " 29 42 30 31 33 39 40 41 44 45 46 52]\n"
          ],
          "name": "stdout"
        }
      ]
    },
    {
      "cell_type": "code",
      "metadata": {
        "colab": {
          "base_uri": "https://localhost:8080/"
        },
        "id": "LM5Jc53-tD_t",
        "outputId": "57517800-6a82-493c-ac9e-69e74b0d008d"
      },
      "source": [
        "acc = []\n",
        "mcc=[]\n",
        "MAX_ROUNDS = 1000 \n",
        "EARLY_STOP = 50\n",
        "for i in range(1,61):\n",
        "  features2 = chile_df.iloc[:,F[0:i]].to_numpy()\n",
        "  #print(features2.shape)\n",
        "  X_train, y_train, X_test, y_test = train_test_split(features2,target, test_size = 0.3)\n",
        "  print(X_train.shape,X_test.shape)\n",
        "  from xgboost import XGBClassifier\n",
        "  xg = XGBClassifier(MAX_ROUNDS,early_stopping_rounds=EARLY_STOP,maximize=True)\n",
        "  xg.fit(X_train,X_test)\n",
        "  pred = xg.predict(y_train)\n",
        "  from sklearn.metrics import accuracy_score,confusion_matrix,r2_score\n",
        "  from sklearn.metrics import matthews_corrcoef\n",
        "  print(accuracy_score(y_test, pred), matthews_corrcoef(y_test, pred))\n",
        "  acc.append(accuracy_score(y_test, pred))\n",
        "  mcc.append(matthews_corrcoef(y_test, pred))\n",
        "print(acc)\n",
        "print(max(acc))\n",
        "print(acc.index(max(acc)))\n",
        "print(mcc[acc.index(max(acc))])"
      ],
      "execution_count": null,
      "outputs": [
        {
          "output_type": "stream",
          "text": [
            "(5242, 1) (5242,)\n",
            "0.8117489986648865 0.389943173576831\n",
            "(5242, 2) (5242,)\n",
            "0.8624833110814419 0.5822022564397181\n",
            "(5242, 3) (5242,)\n",
            "0.914997774810859 0.7480598839510549\n",
            "(5242, 4) (5242,)\n",
            "0.931909212283044 0.8069435849939917\n",
            "(5242, 5) (5242,)\n",
            "0.9336893635959056 0.8002725459018255\n",
            "(5242, 6) (5242,)\n",
            "0.9399198931909212 0.8159666301298021\n",
            "(5242, 7) (5242,)\n",
            "0.9443702714730752 0.8310966990991706\n",
            "(5242, 8) (5242,)\n",
            "0.9345794392523364 0.8044225400145851\n",
            "(5242, 9) (5242,)\n",
            "0.945260347129506 0.8315379840530991\n",
            "(5242, 10) (5242,)\n",
            "0.9470404984423676 0.8474271491790887\n",
            "(5242, 11) (5242,)\n",
            "0.9559412550066756 0.8707937040573569\n",
            "(5242, 12) (5242,)\n",
            "0.9550511793502447 0.8674829079307818\n",
            "(5242, 13) (5242,)\n",
            "0.9577214063195372 0.8731056996748979\n",
            "(5242, 14) (5242,)\n",
            "0.9586114819759679 0.8806071366926572\n",
            "(5242, 15) (5242,)\n",
            "0.9506008010680908 0.8564535999361295\n",
            "(5242, 16) (5242,)\n",
            "0.9630618602581219 0.8859443255193166\n",
            "(5242, 17) (5242,)\n",
            "0.9666221628838452 0.903244965345177\n",
            "(5242, 18) (5242,)\n",
            "0.960836671117045 0.8830937102598574\n",
            "(5242, 19) (5242,)\n",
            "0.960836671117045 0.8851035038330578\n",
            "(5242, 20) (5242,)\n",
            "0.954161103693814 0.8658110107971275\n",
            "(5242, 21) (5242,)\n",
            "0.9546061415220294 0.8596048015020615\n",
            "(5242, 22) (5242,)\n",
            "0.9586114819759679 0.8746402271014331\n",
            "(5242, 23) (5242,)\n",
            "0.9537160658655985 0.8634133416792892\n",
            "(5242, 24) (5242,)\n",
            "0.9603916332888296 0.8841880876665205\n",
            "(5242, 25) (5242,)\n",
            "0.9612817089452603 0.8841518319131451\n",
            "(5242, 26) (5242,)\n",
            "0.956386292834891 0.86421031833015\n",
            "(5242, 27) (5242,)\n",
            "0.9523809523809523 0.8586916541697682\n",
            "(5242, 28) (5242,)\n",
            "0.9706275033377837 0.9108594113826673\n",
            "(5242, 29) (5242,)\n",
            "0.9568313306631063 0.8779288195572583\n",
            "(5242, 30) (5242,)\n",
            "0.9488206497552292 0.8534863150238927\n",
            "(5242, 31) (5242,)\n",
            "0.94971072541166 0.8522179371430103\n",
            "(5242, 32) (5242,)\n",
            "0.9586114819759679 0.8798286740502076\n",
            "(5242, 33) (5242,)\n",
            "0.9532710280373832 0.8596522442832765\n",
            "(5242, 34) (5242,)\n",
            "0.9568313306631063 0.8771165520617564\n",
            "(5242, 35) (5242,)\n",
            "0.9599465954606141 0.881909378666066\n",
            "(5242, 36) (5242,)\n",
            "0.9626168224299065 0.8879139113557817\n",
            "(5242, 37) (5242,)\n",
            "0.9643969737427681 0.8928676049854722\n",
            "(5242, 38) (5242,)\n",
            "0.9595015576323987 0.8813330190277133\n",
            "(5242, 39) (5242,)\n",
            "0.9559412550066756 0.8724790481723507\n",
            "(5242, 40) (5242,)\n",
            "0.9643969737427681 0.896292964230311\n",
            "(5242, 41) (5242,)\n",
            "0.9559412550066756 0.8710771099757004\n",
            "(5242, 42) (5242,)\n",
            "0.960836671117045 0.8841296232596749\n",
            "(5242, 43) (5242,)\n",
            "0.9617267467734757 0.8881531345850642\n",
            "(5242, 44) (5242,)\n",
            "0.9670672007120605 0.9019787047108688\n",
            "(5242, 45) (5242,)\n",
            "0.9577214063195372 0.8767666020973852\n",
            "(5242, 46) (5242,)\n",
            "0.9572763684913218 0.8744205015178478\n",
            "(5242, 47) (5242,)\n",
            "0.9537160658655985 0.8661085614609159\n",
            "(5242, 48) (5242,)\n",
            "0.9532710280373832 0.8695239477838769\n",
            "(5242, 49) (5242,)\n",
            "0.9643969737427681 0.8922784584024205\n",
            "(5242, 50) (5242,)\n",
            "0.9595015576323987 0.8802363022105523\n",
            "(5242, 51) (5242,)\n",
            "0.9657320872274143 0.895326904629487\n",
            "(5242, 52) (5242,)\n",
            "0.9617267467734757 0.886974167482278\n",
            "(5242, 53) (5242,)\n",
            "0.9603916332888296 0.8818065298176209\n",
            "(5242, 54) (5242,)\n",
            "0.9550511793502447 0.8700568411238253\n",
            "(5242, 55) (5242,)\n",
            "0.9657320872274143 0.8982099057309728\n",
            "(5242, 56) (5242,)\n",
            "0.9595015576323987 0.8775537881973972\n",
            "(5242, 57) (5242,)\n",
            "0.9643969737427681 0.8933511630039482\n",
            "(5242, 58) (5242,)\n",
            "0.9577214063195372 0.8782827882920327\n",
            "(5242, 59) (5242,)\n",
            "0.9554962171784601 0.8717096351636999\n",
            "(5242, 60) (5242,)\n",
            "0.9590565198041834 0.8782295874077305\n",
            "[0.8117489986648865, 0.8624833110814419, 0.914997774810859, 0.931909212283044, 0.9336893635959056, 0.9399198931909212, 0.9443702714730752, 0.9345794392523364, 0.945260347129506, 0.9470404984423676, 0.9559412550066756, 0.9550511793502447, 0.9577214063195372, 0.9586114819759679, 0.9506008010680908, 0.9630618602581219, 0.9666221628838452, 0.960836671117045, 0.960836671117045, 0.954161103693814, 0.9546061415220294, 0.9586114819759679, 0.9537160658655985, 0.9603916332888296, 0.9612817089452603, 0.956386292834891, 0.9523809523809523, 0.9706275033377837, 0.9568313306631063, 0.9488206497552292, 0.94971072541166, 0.9586114819759679, 0.9532710280373832, 0.9568313306631063, 0.9599465954606141, 0.9626168224299065, 0.9643969737427681, 0.9595015576323987, 0.9559412550066756, 0.9643969737427681, 0.9559412550066756, 0.960836671117045, 0.9617267467734757, 0.9670672007120605, 0.9577214063195372, 0.9572763684913218, 0.9537160658655985, 0.9532710280373832, 0.9643969737427681, 0.9595015576323987, 0.9657320872274143, 0.9617267467734757, 0.9603916332888296, 0.9550511793502447, 0.9657320872274143, 0.9595015576323987, 0.9643969737427681, 0.9577214063195372, 0.9554962171784601, 0.9590565198041834]\n",
            "0.9706275033377837\n",
            "27\n",
            "0.9108594113826673\n"
          ],
          "name": "stdout"
        }
      ]
    },
    {
      "cell_type": "code",
      "metadata": {
        "colab": {
          "base_uri": "https://localhost:8080/"
        },
        "id": "7Qo6BI-G0RzX",
        "outputId": "3752ead2-a578-4f67-de5d-fd78d774083c"
      },
      "source": [
        "avgaccs=[]\n",
        "avgmccs=[]\n",
        "for i in range(1,30):\n",
        "  features2 = chile_df.iloc[:,F[0:i]].to_numpy()\n",
        "  acc,mcc=[],[]\n",
        "  for j in range(0,10):\n",
        "    X_train, y_train, X_test, y_test = train_test_split(features2,target, test_size = 0.3,stratify=target)\n",
        "    xg = XGBClassifier(MAX_ROUNDS,early_stopping_rounds=EARLY_STOP,maximize=True)\n",
        "    xg.fit(X_train,X_test)\n",
        "    pred = xg.predict(y_train)\n",
        "    acc.append(accuracy_score(y_test, pred))\n",
        "    mcc.append(matthews_corrcoef(y_test, pred))\n",
        "  print('For ',i,'number of features: ',round(mean(acc),4)*100,round(mean(mcc),4))\n",
        "  avgaccs.append(round(mean(acc),4)*100)\n",
        "  avgmccs.append(round(mean(mcc),4))\n",
        "print(max(avgaccs))\n",
        "print(avgaccs.index(max(avgaccs)))\n"
      ],
      "execution_count": null,
      "outputs": [
        {
          "output_type": "stream",
          "text": [
            "For  1 number of features:  81.56 0.4062\n",
            "For  2 number of features:  86.17 0.5712\n",
            "For  3 number of features:  91.72 0.7507\n",
            "For  4 number of features:  93.28 0.7992\n",
            "For  5 number of features:  93.38 0.8021\n",
            "For  6 number of features:  93.38 0.8017\n",
            "For  7 number of features:  93.37 0.8019\n",
            "For  8 number of features:  93.12 0.7939\n",
            "For  9 number of features:  94.69999999999999 0.8426\n",
            "For  10 number of features:  94.94 0.8503\n",
            "For  11 number of features:  94.89999999999999 0.8489\n",
            "For  12 number of features:  95.75 0.8745\n",
            "For  13 number of features:  95.67 0.8722\n",
            "For  14 number of features:  95.64 0.8713\n",
            "For  15 number of features:  95.55 0.8683\n",
            "For  16 number of features:  95.93 0.8799\n",
            "For  17 number of features:  95.92 0.8796\n",
            "For  18 number of features:  96.11 0.8855\n",
            "For  19 number of features:  95.96000000000001 0.8809\n",
            "For  20 number of features:  96.15 0.8867\n",
            "For  21 number of features:  95.92 0.8796\n",
            "For  22 number of features:  96.1 0.885\n",
            "For  23 number of features:  96.3 0.8911\n",
            "For  24 number of features:  96.12 0.8856\n",
            "For  25 number of features:  95.95 0.8808\n",
            "For  26 number of features:  96.15 0.8866\n",
            "For  27 number of features:  96.03 0.8828\n",
            "For  28 number of features:  96.1 0.8849\n",
            "For  29 number of features:  95.93 0.88\n",
            "96.3\n",
            "22\n"
          ],
          "name": "stdout"
        }
      ]
    },
    {
      "cell_type": "code",
      "metadata": {
        "colab": {
          "base_uri": "https://localhost:8080/"
        },
        "id": "6D6KwwB6y15T",
        "outputId": "014f1054-c1bc-407a-f9d1-8d1e308a9384"
      },
      "source": [
        "acc = []\n",
        "mcc=[]\n",
        "MAX_ROUNDS = 2000 \n",
        "EARLY_STOP = 50\n",
        "for i in range(1,10):\n",
        "  features2 = chile_df.iloc[:,F[0:23]].to_numpy()\n",
        "  print(features2.shape)\n",
        "  X_train, y_train, X_test, y_test = train_test_split(features2,target, test_size = 0.3)\n",
        "  print(X_train.shape,X_test.shape)\n",
        "  from xgboost import XGBClassifier\n",
        "  xg = XGBClassifier(MAX_ROUNDS,early_stopping_rounds=EARLY_STOP,maximize=True)\n",
        "  xg.fit(X_train,X_test)\n",
        "  pred = xg.predict(y_train)\n",
        "  from sklearn.metrics import accuracy_score,confusion_matrix,r2_score\n",
        "  from sklearn.metrics import matthews_corrcoef\n",
        "  print(accuracy_score(y_test, pred), matthews_corrcoef(y_test, pred))\n",
        "  acc.append(accuracy_score(y_test, pred))\n",
        "  mcc.append(matthews_corrcoef(y_test, pred))\n",
        "print(acc)\n",
        "print(max(acc))\n",
        "print(acc.index(max(acc)))\n",
        "print(mcc[acc.index(max(acc))])"
      ],
      "execution_count": null,
      "outputs": [
        {
          "output_type": "stream",
          "text": [
            "(7489, 23)\n",
            "(5242, 23) (5242,)\n",
            "0.9639519359145527 0.8862643070916654\n",
            "(7489, 23)\n",
            "(5242, 23) (5242,)\n",
            "0.9661771250556297 0.9017923022206298\n",
            "(7489, 23)\n",
            "(5242, 23) (5242,)\n",
            "0.965287049399199 0.8928701649286449\n",
            "(7489, 23)\n",
            "(5242, 23) (5242,)\n",
            "0.9648420115709835 0.8919585377503727\n",
            "(7489, 23)\n",
            "(5242, 23) (5242,)\n",
            "0.9635068980863374 0.8866102311586563\n",
            "(7489, 23)\n",
            "(5242, 23) (5242,)\n",
            "0.9559412550066756 0.8660127322986003\n",
            "(7489, 23)\n",
            "(5242, 23) (5242,)\n",
            "0.9621717846016912 0.8848142143997673\n",
            "(7489, 23)\n",
            "(5242, 23) (5242,)\n",
            "0.9568313306631063 0.8735353987313496\n",
            "(7489, 23)\n",
            "(5242, 23) (5242,)\n",
            "0.9568313306631063 0.8691041491912423\n",
            "[0.9639519359145527, 0.9661771250556297, 0.965287049399199, 0.9648420115709835, 0.9635068980863374, 0.9559412550066756, 0.9621717846016912, 0.9568313306631063, 0.9568313306631063]\n",
            "0.9661771250556297\n",
            "1\n",
            "0.9017923022206298\n"
          ],
          "name": "stdout"
        }
      ]
    }
  ]
}